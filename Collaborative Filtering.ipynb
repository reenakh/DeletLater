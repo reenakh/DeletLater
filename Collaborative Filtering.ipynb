{
  "nbformat": 4,
  "nbformat_minor": 0,
  "metadata": {
    "colab": {
      "provenance": [],
      "authorship_tag": "ABX9TyN547lLJwX96sYxo1UIrvUz",
      "include_colab_link": true
    },
    "kernelspec": {
      "name": "python3",
      "display_name": "Python 3"
    },
    "language_info": {
      "name": "python"
    }
  },
  "cells": [
    {
      "cell_type": "markdown",
      "metadata": {
        "id": "view-in-github",
        "colab_type": "text"
      },
      "source": [
        "<a href=\"https://colab.research.google.com/github/reenakh/DeletLater/blob/main/Collaborative%20Filtering.ipynb\" target=\"_parent\"><img src=\"https://colab.research.google.com/assets/colab-badge.svg\" alt=\"Open In Colab\"/></a>"
      ]
    },
    {
      "cell_type": "code",
      "execution_count": 20,
      "metadata": {
        "id": "vYQ1aI6EUmfq"
      },
      "outputs": [],
      "source": [
        "import pandas as pd # data processing, CSV file I/O (e.g. pd.read_csv)\n",
        "import os\n",
        "from IPython.core.interactiveshell import InteractiveShell\n",
        "InteractiveShell.ast_node_interactivity = \"all\"\n",
        "import math\n",
        "import json\n",
        "import time\n",
        "import matplotlib.pyplot as plt\n",
        "import seaborn as sns\n",
        "from sklearn.metrics.pairwise import cosine_similarity\n",
        "from sklearn.model_selection import train_test_split\n",
        "from sklearn.neighbors import NearestNeighbors\n",
        "\n",
        "import scipy.sparse\n",
        "from scipy.sparse import csr_matrix\n",
        "from scipy.sparse.linalg import svds\n",
        "import warnings; warnings.simplefilter('ignore')\n",
        "\n",
        "\n",
        "\n"
      ]
    },
    {
      "cell_type": "code",
      "source": [
        "eletronics_data=pd.read_csv(\"/content/ratings_Electronics (1).csv\",names=['userId', 'productId','Rating','timestamp'])\n"
      ],
      "metadata": {
        "id": "6ai3O7sr-qfG"
      },
      "execution_count": 21,
      "outputs": []
    },
    {
      "cell_type": "code",
      "source": [
        "#display top 5 data\n",
        "topdata=eletronics_data.head(5);\n",
        "print(topdata)"
      ],
      "metadata": {
        "colab": {
          "base_uri": "https://localhost:8080/"
        },
        "id": "kaMpb-M1K3P6",
        "outputId": "67a5fc59-ff06-4699-8dbd-8981daa1e3d1"
      },
      "execution_count": 22,
      "outputs": [
        {
          "output_type": "stream",
          "name": "stdout",
          "text": [
            "           userId   productId  Rating     timestamp\n",
            "0   AKM1MP6P0OYPR  0132793040     5.0  1.365811e+09\n",
            "1  A2CX7LUOHB2NDG  0321732944     5.0  1.341101e+09\n",
            "2  A2NWSAGRHCP8N5  0439886341     1.0  1.367194e+09\n",
            "3  A2WNBOD3WNDNKT  0439886341     3.0  1.374451e+09\n",
            "4  A1GI0U4ZRJA8WN  0439886341     1.0  1.334707e+09\n"
          ]
        }
      ]
    },
    {
      "cell_type": "code",
      "source": [
        "#display shape (rows & column)\n",
        "eletronics_data.shape"
      ],
      "metadata": {
        "colab": {
          "base_uri": "https://localhost:8080/"
        },
        "id": "Q3Enmg_J_txH",
        "outputId": "8d8fb39b-7fcc-4935-b9d5-405add82c63f"
      },
      "execution_count": 23,
      "outputs": [
        {
          "output_type": "execute_result",
          "data": {
            "text/plain": [
              "(927109, 4)"
            ]
          },
          "metadata": {},
          "execution_count": 23
        }
      ]
    },
    {
      "cell_type": "code",
      "source": [
        "#Taking subset of the dataset\n",
        "electronics_data=eletronics_data.iloc[:1048576,0:]"
      ],
      "metadata": {
        "id": "yNG49sov_7sX"
      },
      "execution_count": 24,
      "outputs": []
    },
    {
      "cell_type": "code",
      "source": [
        "#Check the datatypes\n",
        "eletronics_data.dtypes"
      ],
      "metadata": {
        "colab": {
          "base_uri": "https://localhost:8080/"
        },
        "id": "xSkKGfpM_-A3",
        "outputId": "66a7aaa6-2ead-4f53-f5de-18254cf36455"
      },
      "execution_count": 25,
      "outputs": [
        {
          "output_type": "execute_result",
          "data": {
            "text/plain": [
              "userId        object\n",
              "productId     object\n",
              "Rating       float64\n",
              "timestamp    float64\n",
              "dtype: object"
            ]
          },
          "metadata": {},
          "execution_count": 25
        }
      ]
    },
    {
      "cell_type": "code",
      "source": [
        "eletronics_data.info()"
      ],
      "metadata": {
        "colab": {
          "base_uri": "https://localhost:8080/"
        },
        "id": "VJveJ6XNAuZq",
        "outputId": "8e226988-b65b-4a7a-b49b-17c35eaf1aa0"
      },
      "execution_count": 26,
      "outputs": [
        {
          "output_type": "stream",
          "name": "stdout",
          "text": [
            "<class 'pandas.core.frame.DataFrame'>\n",
            "RangeIndex: 927109 entries, 0 to 927108\n",
            "Data columns (total 4 columns):\n",
            " #   Column     Non-Null Count   Dtype  \n",
            "---  ------     --------------   -----  \n",
            " 0   userId     927109 non-null  object \n",
            " 1   productId  927109 non-null  object \n",
            " 2   Rating     927109 non-null  float64\n",
            " 3   timestamp  927108 non-null  float64\n",
            "dtypes: float64(2), object(2)\n",
            "memory usage: 28.3+ MB\n"
          ]
        }
      ]
    },
    {
      "cell_type": "code",
      "source": [
        "#Five point summary \n",
        "\n",
        "eletronics_data.describe()['Rating'].T"
      ],
      "metadata": {
        "colab": {
          "base_uri": "https://localhost:8080/"
        },
        "id": "Mx6YwHXILzvU",
        "outputId": "1ea64ec4-7afb-4860-e4c2-77857481c595"
      },
      "execution_count": 27,
      "outputs": [
        {
          "output_type": "execute_result",
          "data": {
            "text/plain": [
              "count    927109.000000\n",
              "mean          3.977244\n",
              "std           1.398075\n",
              "min           1.000000\n",
              "25%           3.000000\n",
              "50%           5.000000\n",
              "75%           5.000000\n",
              "max           5.000000\n",
              "Name: Rating, dtype: float64"
            ]
          },
          "metadata": {},
          "execution_count": 27
        }
      ]
    },
    {
      "cell_type": "code",
      "source": [
        "#Check for missing values\n",
        "print('Number of missing values across columns: \\n',electronics_data.isnull().sum())"
      ],
      "metadata": {
        "colab": {
          "base_uri": "https://localhost:8080/"
        },
        "id": "vUbitqKjRdCg",
        "outputId": "bfeaf2a0-9aae-419a-b243-549fbbda8689"
      },
      "execution_count": 28,
      "outputs": [
        {
          "output_type": "stream",
          "name": "stdout",
          "text": [
            "Number of missing values across columns: \n",
            " userId       0\n",
            "productId    0\n",
            "Rating       0\n",
            "timestamp    1\n",
            "dtype: int64\n"
          ]
        }
      ]
    },
    {
      "cell_type": "code",
      "source": [
        "#Find the minimum and maximum ratings\n",
        "print('Minimum rating is: %d' %(eletronics_data.Rating.min()))\n",
        "print('Maximum rating is: %d' %(eletronics_data.Rating.max()))"
      ],
      "metadata": {
        "colab": {
          "base_uri": "https://localhost:8080/"
        },
        "id": "y-IVUVSCOA4T",
        "outputId": "06f124e7-89a1-4d11-c06a-855a8b91800f"
      },
      "execution_count": 29,
      "outputs": [
        {
          "output_type": "stream",
          "name": "stdout",
          "text": [
            "Minimum rating is: 1\n",
            "Maximum rating is: 5\n"
          ]
        }
      ]
    },
    {
      "cell_type": "code",
      "source": [],
      "metadata": {
        "id": "x8y7CAXeS-yB"
      },
      "execution_count": null,
      "outputs": []
    },
    {
      "cell_type": "code",
      "source": [
        "! pip install --upgrade seaborn"
      ],
      "metadata": {
        "colab": {
          "base_uri": "https://localhost:8080/"
        },
        "id": "OnUHKYd7TjbJ",
        "outputId": "e06f5758-edd5-4886-c66b-77b6889016af"
      },
      "execution_count": null,
      "outputs": [
        {
          "output_type": "stream",
          "name": "stdout",
          "text": [
            "Looking in indexes: https://pypi.org/simple, https://us-python.pkg.dev/colab-wheels/public/simple/\n",
            "Requirement already satisfied: seaborn in /usr/local/lib/python3.10/dist-packages (0.12.2)\n",
            "Requirement already satisfied: pandas>=0.25 in /usr/local/lib/python3.10/dist-packages (from seaborn) (1.5.3)\n",
            "Requirement already satisfied: numpy!=1.24.0,>=1.17 in /usr/local/lib/python3.10/dist-packages (from seaborn) (1.22.4)\n",
            "Requirement already satisfied: matplotlib!=3.6.1,>=3.1 in /usr/local/lib/python3.10/dist-packages (from seaborn) (3.7.1)\n",
            "Requirement already satisfied: packaging>=20.0 in /usr/local/lib/python3.10/dist-packages (from matplotlib!=3.6.1,>=3.1->seaborn) (23.1)\n",
            "Requirement already satisfied: cycler>=0.10 in /usr/local/lib/python3.10/dist-packages (from matplotlib!=3.6.1,>=3.1->seaborn) (0.11.0)\n",
            "Requirement already satisfied: pillow>=6.2.0 in /usr/local/lib/python3.10/dist-packages (from matplotlib!=3.6.1,>=3.1->seaborn) (8.4.0)\n",
            "Requirement already satisfied: pyparsing>=2.3.1 in /usr/local/lib/python3.10/dist-packages (from matplotlib!=3.6.1,>=3.1->seaborn) (3.0.9)\n",
            "Requirement already satisfied: fonttools>=4.22.0 in /usr/local/lib/python3.10/dist-packages (from matplotlib!=3.6.1,>=3.1->seaborn) (4.39.3)\n",
            "Requirement already satisfied: python-dateutil>=2.7 in /usr/local/lib/python3.10/dist-packages (from matplotlib!=3.6.1,>=3.1->seaborn) (2.8.2)\n",
            "Requirement already satisfied: kiwisolver>=1.0.1 in /usr/local/lib/python3.10/dist-packages (from matplotlib!=3.6.1,>=3.1->seaborn) (1.4.4)\n",
            "Requirement already satisfied: contourpy>=1.0.1 in /usr/local/lib/python3.10/dist-packages (from matplotlib!=3.6.1,>=3.1->seaborn) (1.0.7)\n",
            "Requirement already satisfied: pytz>=2020.1 in /usr/local/lib/python3.10/dist-packages (from pandas>=0.25->seaborn) (2022.7.1)\n",
            "Requirement already satisfied: six>=1.5 in /usr/local/lib/python3.10/dist-packages (from python-dateutil>=2.7->matplotlib!=3.6.1,>=3.1->seaborn) (1.16.0)\n"
          ]
        }
      ]
    },
    {
      "cell_type": "code",
      "source": [
        "! pip install --upgrade matplotlib\n"
      ],
      "metadata": {
        "colab": {
          "base_uri": "https://localhost:8080/"
        },
        "id": "_q5iHmpxToeK",
        "outputId": "e5424340-c1cf-4a38-811d-5c88d5732a72"
      },
      "execution_count": null,
      "outputs": [
        {
          "output_type": "stream",
          "name": "stdout",
          "text": [
            "Looking in indexes: https://pypi.org/simple, https://us-python.pkg.dev/colab-wheels/public/simple/\n",
            "Requirement already satisfied: matplotlib in /usr/local/lib/python3.10/dist-packages (3.7.1)\n",
            "Requirement already satisfied: contourpy>=1.0.1 in /usr/local/lib/python3.10/dist-packages (from matplotlib) (1.0.7)\n",
            "Requirement already satisfied: numpy>=1.20 in /usr/local/lib/python3.10/dist-packages (from matplotlib) (1.22.4)\n",
            "Requirement already satisfied: kiwisolver>=1.0.1 in /usr/local/lib/python3.10/dist-packages (from matplotlib) (1.4.4)\n",
            "Requirement already satisfied: python-dateutil>=2.7 in /usr/local/lib/python3.10/dist-packages (from matplotlib) (2.8.2)\n",
            "Requirement already satisfied: pyparsing>=2.3.1 in /usr/local/lib/python3.10/dist-packages (from matplotlib) (3.0.9)\n",
            "Requirement already satisfied: packaging>=20.0 in /usr/local/lib/python3.10/dist-packages (from matplotlib) (23.1)\n",
            "Requirement already satisfied: cycler>=0.10 in /usr/local/lib/python3.10/dist-packages (from matplotlib) (0.11.0)\n",
            "Requirement already satisfied: fonttools>=4.22.0 in /usr/local/lib/python3.10/dist-packages (from matplotlib) (4.39.3)\n",
            "Requirement already satisfied: pillow>=6.2.0 in /usr/local/lib/python3.10/dist-packages (from matplotlib) (8.4.0)\n",
            "Requirement already satisfied: six>=1.5 in /usr/local/lib/python3.10/dist-packages (from python-dateutil>=2.7->matplotlib) (1.16.0)\n"
          ]
        }
      ]
    },
    {
      "cell_type": "code",
      "source": [
        "import sys\n",
        "\n",
        "print(sys.executable)"
      ],
      "metadata": {
        "colab": {
          "base_uri": "https://localhost:8080/"
        },
        "id": "l8wPRqt6zm0X",
        "outputId": "41daf6ce-92b0-4335-8e02-7d2ab7480a1d"
      },
      "execution_count": null,
      "outputs": [
        {
          "output_type": "stream",
          "name": "stdout",
          "text": [
            "/usr/bin/python3\n"
          ]
        }
      ]
    },
    {
      "cell_type": "code",
      "source": [
        "import numpy as np\n",
        "\n",
        "print(\"Total data \")\n",
        "print(\"-\"*50)\n",
        "print(\"\\nTotal no of ratings :\",eletronics_data.shape[0])\n",
        "print(\"Total No of Users   :\", len(np.unique(eletronics_data.userId)))\n",
        "print(\"Total No of products  :\", len(np.unique(eletronics_data.productId)))\n"
      ],
      "metadata": {
        "colab": {
          "base_uri": "https://localhost:8080/"
        },
        "id": "XAdCzlW34LDn",
        "outputId": "4bd75411-2d40-487b-ce75-38ba3333c3c3"
      },
      "execution_count": 36,
      "outputs": [
        {
          "output_type": "stream",
          "name": "stdout",
          "text": [
            "Total data \n",
            "--------------------------------------------------\n",
            "\n",
            "Total no of ratings : 927109\n",
            "Total No of Users   : 706107\n",
            "Total No of products  : 54561\n"
          ]
        }
      ]
    },
    {
      "cell_type": "markdown",
      "source": [
        "# New Section"
      ],
      "metadata": {
        "id": "Qb-rvPfi5BPj"
      }
    },
    {
      "cell_type": "code",
      "source": [
        "#Dropping the Timestamp column\n",
        "\n",
        "electronics_data.drop(['timestamp'], axis=1,inplace=True)"
      ],
      "metadata": {
        "id": "_dBxNPEp8rwj"
      },
      "execution_count": 38,
      "outputs": []
    },
    {
      "cell_type": "code",
      "source": [
        "#Analysis of rating given by the user \n",
        "\n",
        "no_of_rated_products_per_user = electronics_data.groupby(by='userId')['Rating'].count().sort_values(ascending=False)\n",
        "\n",
        "no_of_rated_products_per_user.head()"
      ],
      "metadata": {
        "colab": {
          "base_uri": "https://localhost:8080/"
        },
        "id": "YxWgb6ta8zJX",
        "outputId": "a26bf2dd-0159-4157-88b1-c3311fa4c51f"
      },
      "execution_count": 39,
      "outputs": [
        {
          "output_type": "execute_result",
          "data": {
            "text/plain": [
              "userId\n",
              "A5JLAU2ARJ0BO     403\n",
              "A231WM2Z2JL0U3    249\n",
              "A25HBO5V8S8SEA    163\n",
              "A6FIAB28IS79      133\n",
              "AKT8TGIT6VVZ5     120\n",
              "Name: Rating, dtype: int64"
            ]
          },
          "metadata": {},
          "execution_count": 39
        }
      ]
    },
    {
      "cell_type": "code",
      "source": [
        "no_of_rated_products_per_user.describe()"
      ],
      "metadata": {
        "colab": {
          "base_uri": "https://localhost:8080/"
        },
        "id": "vLeXM6H685SK",
        "outputId": "8569c736-2713-41a9-9dad-6d8838136f87"
      },
      "execution_count": 40,
      "outputs": [
        {
          "output_type": "execute_result",
          "data": {
            "text/plain": [
              "count    706107.000000\n",
              "mean          1.312987\n",
              "std           1.346489\n",
              "min           1.000000\n",
              "25%           1.000000\n",
              "50%           1.000000\n",
              "75%           1.000000\n",
              "max         403.000000\n",
              "Name: Rating, dtype: float64"
            ]
          },
          "metadata": {},
          "execution_count": 40
        }
      ]
    },
    {
      "cell_type": "code",
      "source": [
        "quantiles = no_of_rated_products_per_user.quantile(np.arange(0,1.01,0.01), interpolation='higher')"
      ],
      "metadata": {
        "id": "-YDZl53L9A7r"
      },
      "execution_count": 41,
      "outputs": []
    },
    {
      "cell_type": "code",
      "source": [
        "plt.figure(figsize=(10,10))\n",
        "plt.title(\"Quantiles and their Values\")\n",
        "quantiles.plot()\n",
        "# quantiles with 0.05 difference\n",
        "plt.scatter(x=quantiles.index[::5], y=quantiles.values[::5], c='orange', label=\"quantiles with 0.05 intervals\")\n",
        "# quantiles with 0.25 difference\n",
        "plt.scatter(x=quantiles.index[::25], y=quantiles.values[::25], c='m', label = \"quantiles with 0.25 intervals\")\n",
        "plt.ylabel('No of ratings by user')\n",
        "plt.xlabel('Value at the quantile')\n",
        "plt.legend(loc='best')\n",
        "plt.show()"
      ],
      "metadata": {
        "colab": {
          "base_uri": "https://localhost:8080/",
          "height": 941
        },
        "id": "H52x9Rl09GtU",
        "outputId": "275d69f0-6379-48c0-b968-5f0e4e7dbe0c"
      },
      "execution_count": 42,
      "outputs": [
        {
          "output_type": "execute_result",
          "data": {
            "text/plain": [
              "<Figure size 1000x1000 with 0 Axes>"
            ]
          },
          "metadata": {},
          "execution_count": 42
        },
        {
          "output_type": "execute_result",
          "data": {
            "text/plain": [
              "Text(0.5, 1.0, 'Quantiles and their Values')"
            ]
          },
          "metadata": {},
          "execution_count": 42
        },
        {
          "output_type": "execute_result",
          "data": {
            "text/plain": [
              "<Axes: title={'center': 'Quantiles and their Values'}>"
            ]
          },
          "metadata": {},
          "execution_count": 42
        },
        {
          "output_type": "execute_result",
          "data": {
            "text/plain": [
              "<matplotlib.collections.PathCollection at 0x7fc9ada71ab0>"
            ]
          },
          "metadata": {},
          "execution_count": 42
        },
        {
          "output_type": "execute_result",
          "data": {
            "text/plain": [
              "<matplotlib.collections.PathCollection at 0x7fc9ad9211b0>"
            ]
          },
          "metadata": {},
          "execution_count": 42
        },
        {
          "output_type": "execute_result",
          "data": {
            "text/plain": [
              "Text(0, 0.5, 'No of ratings by user')"
            ]
          },
          "metadata": {},
          "execution_count": 42
        },
        {
          "output_type": "execute_result",
          "data": {
            "text/plain": [
              "Text(0.5, 0, 'Value at the quantile')"
            ]
          },
          "metadata": {},
          "execution_count": 42
        },
        {
          "output_type": "execute_result",
          "data": {
            "text/plain": [
              "<matplotlib.legend.Legend at 0x7fc9ad8f3e50>"
            ]
          },
          "metadata": {},
          "execution_count": 42
        },
        {
          "output_type": "display_data",
          "data": {
            "text/plain": [
              "<Figure size 1000x1000 with 1 Axes>"
            ],
            "image/png": "[encoded data removed]"
          },
          "metadata": {}
        }
      ]
    },
    {
      "cell_type": "code",
      "source": [
        "print('\\n No of rated product more than 50 per user : {}\\n'.format(sum(no_of_rated_products_per_user >= 50)) )"
      ],
      "metadata": {
        "colab": {
          "base_uri": "https://localhost:8080/"
        },
        "id": "_5echM7V9Sq7",
        "outputId": "ea35f6a5-f52d-4cde-b5a7-3de2212d1974"
      },
      "execution_count": 43,
      "outputs": [
        {
          "output_type": "stream",
          "name": "stdout",
          "text": [
            "\n",
            " No of rated product more than 50 per user : 34\n",
            "\n"
          ]
        }
      ]
    },
    {
      "cell_type": "code",
      "source": [
        "print('Collaberative filtering (Item-Item recommedation)')"
      ],
      "metadata": {
        "colab": {
          "base_uri": "https://localhost:8080/"
        },
        "id": "qw2iHNOH-NV0",
        "outputId": "881fa0d1-0e21-4ba7-b6b8-b28b5f62dc51"
      },
      "execution_count": 44,
      "outputs": [
        {
          "output_type": "stream",
          "name": "stdout",
          "text": [
            "Collaberative filtering (Item-Item recommedation)\n"
          ]
        }
      ]
    },
    {
      "cell_type": "code",
      "source": [
        "print('Collaborative filtering is commonly used for recommender systems These techniques aim to fill in the missing entries of a user-item association matrix.')"
      ],
      "metadata": {
        "colab": {
          "base_uri": "https://localhost:8080/"
        },
        "id": "FdZWTFN8-Ubs",
        "outputId": "6af7b6f0-b258-4fc7-fdc9-47fcdf0a5c07"
      },
      "execution_count": 47,
      "outputs": [
        {
          "output_type": "stream",
          "name": "stdout",
          "text": [
            "Collaborative filtering is commonly used for recommender systems These techniques aim to fill in the missing entries of a user-item association matrix.\n"
          ]
        }
      ]
    },
    {
      "cell_type": "code",
      "source": [
        "pip install surprise"
      ],
      "metadata": {
        "colab": {
          "base_uri": "https://localhost:8080/"
        },
        "id": "o0saCLQHHVr4",
        "outputId": "64f95697-6890-431d-a3ac-d9cfa99feff3"
      },
      "execution_count": 63,
      "outputs": [
        {
          "output_type": "stream",
          "name": "stdout",
          "text": [
            "Looking in indexes: https://pypi.org/simple, https://us-python.pkg.dev/colab-wheels/public/simple/\n",
            "Collecting surprise\n",
            "  Downloading surprise-0.1-py2.py3-none-any.whl (1.8 kB)\n",
            "Collecting scikit-surprise\n",
            "  Downloading scikit-surprise-1.1.3.tar.gz (771 kB)\n",
            "\u001b[2K     \u001b[90m━━━━━━━━━━━━━━━━━━━━━━━━━━━━━━━━━━━━━━\u001b[0m \u001b[32m772.0/772.0 kB\u001b[0m \u001b[31m17.0 MB/s\u001b[0m eta \u001b[36m0:00:00\u001b[0m\n",
            "\u001b[?25h  Preparing metadata (setup.py) ... \u001b[?25l\u001b[?25hdone\n",
            "Requirement already satisfied: joblib>=1.0.0 in /usr/local/lib/python3.10/dist-packages (from scikit-surprise->surprise) (1.2.0)\n",
            "Requirement already satisfied: numpy>=1.17.3 in /usr/local/lib/python3.10/dist-packages (from scikit-surprise->surprise) (1.22.4)\n",
            "Requirement already satisfied: scipy>=1.3.2 in /usr/local/lib/python3.10/dist-packages (from scikit-surprise->surprise) (1.10.1)\n",
            "Building wheels for collected packages: scikit-surprise\n",
            "  Building wheel for scikit-surprise (setup.py) ... \u001b[?25l\u001b[?25hdone\n",
            "  Created wheel for scikit-surprise: filename=scikit_surprise-1.1.3-cp310-cp310-linux_x86_64.whl size=3095458 sha256=8def7b56d3143d1472d87185adc38038ec5222bd17a8c8875bf1244a3bc7094d\n",
            "  Stored in directory: /root/.cache/pip/wheels/a5/ca/a8/4e28def53797fdc4363ca4af740db15a9c2f1595ebc51fb445\n",
            "Successfully built scikit-surprise\n",
            "Installing collected packages: scikit-surprise, surprise\n",
            "Successfully installed scikit-surprise-1.1.3 surprise-0.1\n"
          ]
        }
      ]
    },
    {
      "cell_type": "code",
      "source": [
        "from surprise import KNNWithMeans\n",
        "from surprise import Dataset\n",
        "from surprise import accuracy\n",
        "from surprise import Reader\n",
        "import os\n",
        "from surprise.model_selection import train_test_split"
      ],
      "metadata": {
        "id": "RsbDy-XiJThA"
      },
      "execution_count": 64,
      "outputs": []
    },
    {
      "cell_type": "code",
      "source": [
        "#Reading the dataset\n",
        "reader = Reader(rating_scale=(1, 5))\n",
        "new_df=electronics_data.groupby(\"productId\").filter(lambda x:x['Rating'].count() >=50)\n",
        "data = Dataset.load_from_df(new_df,reader)"
      ],
      "metadata": {
        "id": "i2TJyGMRHW0y"
      },
      "execution_count": 65,
      "outputs": []
    },
    {
      "cell_type": "code",
      "source": [
        "#Splitting the dataset\n",
        "trainset, testset = train_test_split(data, test_size=0.3,random_state=10)"
      ],
      "metadata": {
        "id": "36eyOgvUHrie"
      },
      "execution_count": 66,
      "outputs": []
    },
    {
      "cell_type": "code",
      "source": [
        "# Use user_based true/false to switch between user-based or item-based collaborative filtering\n",
        "algo = KNNWithMeans(k=5, sim_options={'name': 'pearson_baseline', 'user_based': False})\n",
        "algo.fit(trainset)"
      ],
      "metadata": {
        "colab": {
          "base_uri": "https://localhost:8080/"
        },
        "id": "fC37cemwHure",
        "outputId": "9eab16ce-f439-4877-d8db-a24e1348a75d"
      },
      "execution_count": 67,
      "outputs": [
        {
          "output_type": "stream",
          "name": "stdout",
          "text": [
            "Estimating biases using als...\n",
            "Computing the pearson_baseline similarity matrix...\n",
            "Done computing similarity matrix.\n"
          ]
        },
        {
          "output_type": "execute_result",
          "data": {
            "text/plain": [
              "<surprise.prediction_algorithms.knns.KNNWithMeans at 0x7fc9ada70250>"
            ]
          },
          "metadata": {},
          "execution_count": 67
        }
      ]
    },
    {
      "cell_type": "code",
      "source": [
        "# run the trained model against the testset\n",
        "test_pred = algo.test(testset)"
      ],
      "metadata": {
        "id": "f7TN_o3YJuWC"
      },
      "execution_count": 68,
      "outputs": []
    },
    {
      "cell_type": "code",
      "source": [
        "test_pred"
      ],
      "metadata": {
        "colab": {
          "base_uri": "https://localhost:8080/"
        },
        "id": "BWAglyF5Jycr",
        "outputId": "b9bc1133-62af-4499-9867-b032027701fb"
      },
      "execution_count": 69,
      "outputs": [
        {
          "output_type": "execute_result",
          "data": {
            "text/plain": [
              "[Prediction(uid='A2YDDJ2XZ1DN53', iid='B00093IIRA', r_ui=5.0, est=4.058850210315736, details={'was_impossible': True, 'reason': 'User and/or item is unknown.'}),\n",
              " Prediction(uid='A8QJ18E4H4AR5', iid='B0000UI304', r_ui=1.0, est=4.058850210315736, details={'was_impossible': True, 'reason': 'User and/or item is unknown.'}),\n",
              " Prediction(uid='A3GRZ15FZ1KXQV', iid='B000095SB4', r_ui=5.0, est=4.058850210315736, details={'was_impossible': True, 'reason': 'User and/or item is unknown.'}),\n",
              " Prediction(uid='AJZ301TBTSV3M', iid='B000BKJZ9Q', r_ui=4.0, est=4.058850210315736, details={'was_impossible': True, 'reason': 'User and/or item is unknown.'}),\n",
              " Prediction(uid='A2HYUBXF4G4S4Q', iid='B00004YKHT', r_ui=1.0, est=4.242424242424242, details={'actual_k': 0, 'was_impossible': False}),\n",
              " Prediction(uid='A1QLVRKEWEQLWV', iid='B00065AO0K', r_ui=4.0, est=4.058850210315736, details={'was_impossible': True, 'reason': 'User and/or item is unknown.'}),\n",
              " Prediction(uid='A2D817USALSGF7', iid='B000EPLP3C', r_ui=4.0, est=3.859098228663446, details={'actual_k': 0, 'was_impossible': False}),\n",
              " Prediction(uid='A2K20EUK08KNXN', iid='B0007R4LI8', r_ui=4.0, est=4.058850210315736, details={'was_impossible': True, 'reason': 'User and/or item is unknown.'}),\n",
              " Prediction(uid='A3OXNGJNZRR54K', iid='B0000C0XS0', r_ui=5.0, est=4.058850210315736, details={'was_impossible': True, 'reason': 'User and/or item is unknown.'}),\n",
              " Prediction(uid='A15E351DPR6KKK', iid='B000A6PPOK', r_ui=2.0, est=3.952767902488573, details={'actual_k': 0, 'was_impossible': False}),\n",
              " Prediction(uid='A3JE0N9SE0YX32', iid='B00094OT54', r_ui=1.0, est=3.138888888888889, details={'actual_k': 0, 'was_impossible': False}),\n",
              " Prediction(uid='A3K85HETAXXKHC', iid='B000F6MOQM', r_ui=5.0, est=4.058850210315736, details={'was_impossible': True, 'reason': 'User and/or item is unknown.'}),\n",
              " Prediction(uid='A127FTD2Q7I38H', iid='B00007M1TZ', r_ui=4.0, est=4.058850210315736, details={'was_impossible': True, 'reason': 'User and/or item is unknown.'}),\n",
              " Prediction(uid='A22KHWES7PX8MX', iid='B00091S0WA', r_ui=5.0, est=4.2032967032967035, details={'actual_k': 0, 'was_impossible': False}),\n",
              " Prediction(uid='AFO1GFIRAFXX5', iid='B00006HYPV', r_ui=3.0, est=4.058850210315736, details={'was_impossible': True, 'reason': 'User and/or item is unknown.'}),\n",
              " Prediction(uid='A26Y354G1654UF', iid='B0006VJ7TI', r_ui=5.0, est=4.058850210315736, details={'was_impossible': True, 'reason': 'User and/or item is unknown.'}),\n",
              " Prediction(uid='A3QA4G213SO4OW', iid='B000261N6M', r_ui=1.0, est=4.058850210315736, details={'was_impossible': True, 'reason': 'User and/or item is unknown.'}),\n",
              " Prediction(uid='A3FYJY9ZU9A8YG', iid='B0002L5R78', r_ui=1.0, est=4.058850210315736, details={'was_impossible': True, 'reason': 'User and/or item is unknown.'}),\n",
              " Prediction(uid='A257WNO1FP1B1T', iid='B0009Y7APU', r_ui=5.0, est=4.058850210315736, details={'was_impossible': True, 'reason': 'User and/or item is unknown.'}),\n",
              " Prediction(uid='A2JBH8UKREDEOT', iid='B00009LI55', r_ui=4.0, est=4.058850210315736, details={'was_impossible': True, 'reason': 'User and/or item is unknown.'}),\n",
              " Prediction(uid='A1M2UFSBT4DFXB', iid='B000234TYI', r_ui=5.0, est=4.058850210315736, details={'was_impossible': True, 'reason': 'User and/or item is unknown.'}),\n",
              " Prediction(uid='A2URGI23GNZURD', iid='B000CS7U1C', r_ui=5.0, est=4.058850210315736, details={'was_impossible': True, 'reason': 'User and/or item is unknown.'}),\n",
              " Prediction(uid='A2IR1UVHUQ6P6K', iid='B0000DHVN3', r_ui=4.0, est=4.058850210315736, details={'was_impossible': True, 'reason': 'User and/or item is unknown.'}),\n",
              " Prediction(uid='ABA6IQFF9G6KD', iid='B000BTL0OA', r_ui=5.0, est=4.058850210315736, details={'was_impossible': True, 'reason': 'User and/or item is unknown.'}),\n",
              " Prediction(uid='A31RHWRAHBHDQB', iid='B0000C4G79', r_ui=1.0, est=4.058850210315736, details={'was_impossible': True, 'reason': 'User and/or item is unknown.'}),\n",
              " Prediction(uid='A3VQDC74RE13AI', iid='B000066CCU', r_ui=4.0, est=3.858490566037736, details={'actual_k': 0, 'was_impossible': False}),\n",
              " Prediction(uid='A3GTWTJH7FNEGU', iid='B0000A0AJH', r_ui=2.0, est=4.058850210315736, details={'was_impossible': True, 'reason': 'User and/or item is unknown.'}),\n",
              " Prediction(uid='A1Y4EWMUTW73GD', iid='B000066E6Y', r_ui=5.0, est=4.187368421052631, details={'actual_k': 0, 'was_impossible': False}),\n",
              " Prediction(uid='A35J6DQOI3FMSK', iid='B0002AHT0M', r_ui=5.0, est=4.058850210315736, details={'was_impossible': True, 'reason': 'User and/or item is unknown.'}),\n",
              " Prediction(uid='A3IDWQI2DFTWCM', iid='B00007E7C8', r_ui=4.0, est=4.382309941520468, details={'actual_k': 0, 'was_impossible': False}),\n",
              " Prediction(uid='A3QWZZ89OB3LUX', iid='B000EIXX4S', r_ui=5.0, est=4.058850210315736, details={'was_impossible': True, 'reason': 'User and/or item is unknown.'}),\n",
              " Prediction(uid='A2SD75VIN5SAVO', iid='B0002QIBNK', r_ui=5.0, est=4.058850210315736, details={'was_impossible': True, 'reason': 'User and/or item is unknown.'}),\n",
              " Prediction(uid='A1LXQEPGDN8C44', iid='B000AOFVZK', r_ui=5.0, est=4.058850210315736, details={'was_impossible': True, 'reason': 'User and/or item is unknown.'}),\n",
              " Prediction(uid='AIRQJSZ3EJQ7Z', iid='B000BI2180', r_ui=4.0, est=4.058850210315736, details={'was_impossible': True, 'reason': 'User and/or item is unknown.'}),\n",
              " Prediction(uid='A2ULYZJ3I5HD52', iid='B0007Y791C', r_ui=5.0, est=4.058850210315736, details={'was_impossible': True, 'reason': 'User and/or item is unknown.'}),\n",
              " Prediction(uid='A3MGKZXXKRQO1G', iid='B0007ZL6DS', r_ui=3.0, est=4.058850210315736, details={'was_impossible': True, 'reason': 'User and/or item is unknown.'}),\n",
              " Prediction(uid='A24NL0L1YMO26S', iid='B00005Y3V6', r_ui=5.0, est=4.058850210315736, details={'was_impossible': True, 'reason': 'User and/or item is unknown.'}),\n",
              " Prediction(uid='A28F7NV1OC6H1M', iid='B00007M1TZ', r_ui=4.0, est=4.058850210315736, details={'was_impossible': True, 'reason': 'User and/or item is unknown.'}),\n",
              " Prediction(uid='A1P15FOVPRUU6U', iid='B0007MXZB2', r_ui=1.0, est=4.058850210315736, details={'was_impossible': True, 'reason': 'User and/or item is unknown.'}),\n",
              " Prediction(uid='A2P5SE8HQ2FV9K', iid='B0002DG9XW', r_ui=5.0, est=4.058850210315736, details={'was_impossible': True, 'reason': 'User and/or item is unknown.'}),\n",
              " Prediction(uid='A3S7FSIJO836AT', iid='B0006TIEZS', r_ui=2.0, est=4.058850210315736, details={'was_impossible': True, 'reason': 'User and/or item is unknown.'}),\n",
              " Prediction(uid='A1E5UYQP86V0XE', iid='B00004Z5CQ', r_ui=1.0, est=4.058850210315736, details={'was_impossible': True, 'reason': 'User and/or item is unknown.'}),\n",
              " Prediction(uid='A310FK6D7P891I', iid='B000BKUSS8', r_ui=2.0, est=4.315789473684211, details={'actual_k': 0, 'was_impossible': False}),\n",
              " Prediction(uid='A2HNJUU9W8HVON', iid='B000BVCTS4', r_ui=1.0, est=4.058850210315736, details={'was_impossible': True, 'reason': 'User and/or item is unknown.'}),\n",
              " Prediction(uid='A2VSBILUMQZWOX', iid='B0006I1TRY', r_ui=2.0, est=4.058850210315736, details={'was_impossible': True, 'reason': 'User and/or item is unknown.'}),\n",
              " Prediction(uid='AI73U6UTHEMYL', iid='B00094OX2S', r_ui=4.0, est=4.058850210315736, details={'was_impossible': True, 'reason': 'User and/or item is unknown.'}),\n",
              " Prediction(uid='A3Q9G2GIJ5DIJV', iid='B000EDRSGW', r_ui=5.0, est=4.058850210315736, details={'was_impossible': True, 'reason': 'User and/or item is unknown.'}),\n",
              " Prediction(uid='A2KSCBJ916KTH1', iid='B00099I0EK', r_ui=5.0, est=4.641304347826087, details={'actual_k': 0, 'was_impossible': False}),\n",
              " Prediction(uid='A2IDKUOCPRR76Q', iid='B00009R6TA', r_ui=5.0, est=4.058850210315736, details={'was_impossible': True, 'reason': 'User and/or item is unknown.'}),\n",
              " Prediction(uid='AAZKDKGTP5N41', iid='B00028D778', r_ui=3.0, est=4.058850210315736, details={'was_impossible': True, 'reason': 'User and/or item is unknown.'}),\n",
              " Prediction(uid='A27LM1KUE67FUF', iid='B000E8OVMQ', r_ui=5.0, est=4.058850210315736, details={'was_impossible': True, 'reason': 'User and/or item is unknown.'}),\n",
              " Prediction(uid='A1NT1Y4DSJVEKN', iid='B0009PQQ9U', r_ui=4.0, est=4.058850210315736, details={'was_impossible': True, 'reason': 'User and/or item is unknown.'}),\n",
              " Prediction(uid='A12T9XK9EAUG7L', iid='B0001F21IS', r_ui=1.0, est=4.058850210315736, details={'was_impossible': True, 'reason': 'User and/or item is unknown.'}),\n",
              " Prediction(uid='A3KOE23N2B4YU3', iid='B00004TDLD', r_ui=5.0, est=4.058850210315736, details={'was_impossible': True, 'reason': 'User and/or item is unknown.'}),\n",
              " Prediction(uid='A1ED6GYNJ1MK1L', iid='B000EDB1II', r_ui=5.0, est=4.408450704225352, details={'actual_k': 0, 'was_impossible': False}),\n",
              " Prediction(uid='A2D6HD2Q5GTQ38', iid='B00005T3VT', r_ui=3.0, est=4.058850210315736, details={'was_impossible': True, 'reason': 'User and/or item is unknown.'}),\n",
              " Prediction(uid='A19RW25Q6206I3', iid='B00015GYU4', r_ui=5.0, est=4.874552845528455, details={'actual_k': 1, 'was_impossible': False}),\n",
              " Prediction(uid='A3QN2NHHKMU6GU', iid='B0007ZFM38', r_ui=1.0, est=4.058850210315736, details={'was_impossible': True, 'reason': 'User and/or item is unknown.'}),\n",
              " Prediction(uid='A1EQ203LTAW3HE', iid='B000ENPDSW', r_ui=5.0, est=4.058850210315736, details={'was_impossible': True, 'reason': 'User and/or item is unknown.'}),\n",
              " Prediction(uid='A3GADYS3CGOV43', iid='1400698987', r_ui=5.0, est=4.058850210315736, details={'was_impossible': True, 'reason': 'User and/or item is unknown.'}),\n",
              " Prediction(uid='A1O7GKN3IQY6B0', iid='B0002D03ZW', r_ui=4.0, est=4.058850210315736, details={'was_impossible': True, 'reason': 'User and/or item is unknown.'}),\n",
              " Prediction(uid='A1RQZMJMPMQTZA', iid='B00024ENES', r_ui=5.0, est=4.058850210315736, details={'was_impossible': True, 'reason': 'User and/or item is unknown.'}),\n",
              " Prediction(uid='A2NNKJYS9BJAEE', iid='B00004T1XK', r_ui=4.0, est=4.058850210315736, details={'was_impossible': True, 'reason': 'User and/or item is unknown.'}),\n",
              " Prediction(uid='A1F1Y66CV2UMSC', iid='B00008WFVI', r_ui=3.0, est=3.611111111111111, details={'actual_k': 0, 'was_impossible': False}),\n",
              " Prediction(uid='A1WXH5CI1PDWZZ', iid='B0002A9SJ2', r_ui=4.0, est=4.058850210315736, details={'was_impossible': True, 'reason': 'User and/or item is unknown.'}),\n",
              " Prediction(uid='A3PX09A3QE175Z', iid='B000EOSHGQ', r_ui=5.0, est=4.745222929936306, details={'actual_k': 0, 'was_impossible': False}),\n",
              " Prediction(uid='A8TP028JIYHTN', iid='B000F49RAA', r_ui=5.0, est=4.2734375, details={'actual_k': 0, 'was_impossible': False}),\n",
              " Prediction(uid='A3VR4SDEITZ3EZ', iid='B000CQ73PW', r_ui=5.0, est=4.563380281690141, details={'actual_k': 0, 'was_impossible': False}),\n",
              " Prediction(uid='A3N8SD39L5GIP9', iid='B0002MQGOA', r_ui=5.0, est=4.058850210315736, details={'was_impossible': True, 'reason': 'User and/or item is unknown.'}),\n",
              " Prediction(uid='A3QRRUPBYT3KFQ', iid='B000CC6I5W', r_ui=4.0, est=4.058850210315736, details={'was_impossible': True, 'reason': 'User and/or item is unknown.'}),\n",
              " Prediction(uid='A1OLDCEB1ACEWM', iid='B00009UHKW', r_ui=5.0, est=4.058850210315736, details={'was_impossible': True, 'reason': 'User and/or item is unknown.'}),\n",
              " Prediction(uid='ASK490HGY20UJ', iid='B0007P4G5I', r_ui=1.0, est=4.058850210315736, details={'was_impossible': True, 'reason': 'User and/or item is unknown.'}),\n",
              " Prediction(uid='A1AZUBJ2VQBX3B', iid='B000EXRSWG', r_ui=2.0, est=4.058850210315736, details={'was_impossible': True, 'reason': 'User and/or item is unknown.'}),\n",
              " Prediction(uid='A2SMKM43QNATAF', iid='B00093IIRA', r_ui=5.0, est=4.058850210315736, details={'was_impossible': True, 'reason': 'User and/or item is unknown.'}),\n",
              " Prediction(uid='A3G6IPIQIQEKQ8', iid='B0002WPSBC', r_ui=5.0, est=4.058850210315736, details={'was_impossible': True, 'reason': 'User and/or item is unknown.'}),\n",
              " Prediction(uid='ALYZ4S3GTYKQG', iid='B000F7QRTG', r_ui=5.0, est=4.058850210315736, details={'was_impossible': True, 'reason': 'User and/or item is unknown.'}),\n",
              " Prediction(uid='A3T17MWUKQOY75', iid='B0002RBQO0', r_ui=5.0, est=4.469613259668508, details={'actual_k': 0, 'was_impossible': False}),\n",
              " Prediction(uid='A2J9DIRIZ0Q8KT', iid='B0001N3ZRQ', r_ui=5.0, est=4.058850210315736, details={'was_impossible': True, 'reason': 'User and/or item is unknown.'}),\n",
              " Prediction(uid='AN5S794B2JEIL', iid='B000FAQ6S0', r_ui=2.0, est=3.55, details={'actual_k': 0, 'was_impossible': False}),\n",
              " Prediction(uid='A2I8BEUX2I0FAV', iid='B000051ZOA', r_ui=4.0, est=4.058850210315736, details={'was_impossible': True, 'reason': 'User and/or item is unknown.'}),\n",
              " Prediction(uid='A2KMV056844YV2', iid='B000EYRLXQ', r_ui=2.0, est=3.6103877158343503, details={'actual_k': 1, 'was_impossible': False}),\n",
              " Prediction(uid='AY8D0J8SW9HWG', iid='B000051174', r_ui=5.0, est=4.058850210315736, details={'was_impossible': True, 'reason': 'User and/or item is unknown.'}),\n",
              " Prediction(uid='A11FTACZ2S9IOS', iid='B00004WCIC', r_ui=5.0, est=4.897664558781259, details={'actual_k': 1, 'was_impossible': False}),\n",
              " Prediction(uid='ASVL20N63XK0Q', iid='B000C1Z0HA', r_ui=1.0, est=4.058850210315736, details={'was_impossible': True, 'reason': 'User and/or item is unknown.'}),\n",
              " Prediction(uid='A32EBI9ZNYRU7S', iid='B000F8FNSG', r_ui=2.0, est=4.058850210315736, details={'was_impossible': True, 'reason': 'User and/or item is unknown.'}),\n",
              " Prediction(uid='A10LMYV31QC0ZP', iid='B0000A0AEM', r_ui=5.0, est=4.058850210315736, details={'was_impossible': True, 'reason': 'User and/or item is unknown.'}),\n",
              " Prediction(uid='A1LHCHTQWJEWR1', iid='B000065BPB', r_ui=5.0, est=4.058850210315736, details={'was_impossible': True, 'reason': 'User and/or item is unknown.'}),\n",
              " Prediction(uid='A8BIXFRGO1H9N', iid='B00005A9AU', r_ui=2.0, est=3.813953488372093, details={'actual_k': 0, 'was_impossible': False}),\n",
              " Prediction(uid='AMBHWG9K9BR8W', iid='B0001FTVEK', r_ui=4.0, est=4.058850210315736, details={'was_impossible': True, 'reason': 'User and/or item is unknown.'}),\n",
              " Prediction(uid='A1BV65V7I0FNAU', iid='B0002Y5WZC', r_ui=5.0, est=4.058850210315736, details={'was_impossible': True, 'reason': 'User and/or item is unknown.'}),\n",
              " Prediction(uid='A3KW30USMOSJK0', iid='B00007FWP2', r_ui=2.0, est=4.058850210315736, details={'was_impossible': True, 'reason': 'User and/or item is unknown.'}),\n",
              " Prediction(uid='A3RPMVHV13LX5R', iid='B000DZH4D8', r_ui=4.0, est=4.058850210315736, details={'was_impossible': True, 'reason': 'User and/or item is unknown.'}),\n",
              " Prediction(uid='A2445EK4F2KVCJ', iid='B00006RVPW', r_ui=5.0, est=4.058850210315736, details={'was_impossible': True, 'reason': 'User and/or item is unknown.'}),\n",
              " Prediction(uid='A19TYJPEE0JO1J', iid='B00006I5WJ', r_ui=5.0, est=3.9310344827586206, details={'actual_k': 0, 'was_impossible': False}),\n",
              " Prediction(uid='A3RLBSSBAB91PG', iid='B0002GRUJ6', r_ui=5.0, est=4.058850210315736, details={'was_impossible': True, 'reason': 'User and/or item is unknown.'}),\n",
              " Prediction(uid='ACH334RUUPQ8B', iid='B000BWSQ2G', r_ui=5.0, est=4.058850210315736, details={'was_impossible': True, 'reason': 'User and/or item is unknown.'}),\n",
              " Prediction(uid='AJBPLTDE9NW3B', iid='B00004SB92', r_ui=5.0, est=3.908707865168539, details={'actual_k': 0, 'was_impossible': False}),\n",
              " Prediction(uid='A8JMD50PHI4JW', iid='B00012F7HS', r_ui=4.0, est=4.058850210315736, details={'was_impossible': True, 'reason': 'User and/or item is unknown.'}),\n",
              " Prediction(uid='A2AOLU5JMKND9I', iid='B0009EXVNA', r_ui=5.0, est=4.058850210315736, details={'was_impossible': True, 'reason': 'User and/or item is unknown.'}),\n",
              " Prediction(uid='A1UDUFJ25V77I0', iid='B000051ZOA', r_ui=5.0, est=4.003472222222222, details={'actual_k': 0, 'was_impossible': False}),\n",
              " Prediction(uid='A3W4WSIHHM0C7P', iid='B00001WRSJ', r_ui=5.0, est=4.058850210315736, details={'was_impossible': True, 'reason': 'User and/or item is unknown.'}),\n",
              " Prediction(uid='A12UPLJKP5UBNM', iid='B00004WIMW', r_ui=3.0, est=4.058850210315736, details={'was_impossible': True, 'reason': 'User and/or item is unknown.'}),\n",
              " Prediction(uid='A2SB0Y1580VXYH', iid='B00006I5SQ', r_ui=4.0, est=4.058850210315736, details={'was_impossible': True, 'reason': 'User and/or item is unknown.'}),\n",
              " Prediction(uid='A4GWXAXW1XMDF', iid='B000BKJZ9Q', r_ui=5.0, est=4.058850210315736, details={'was_impossible': True, 'reason': 'User and/or item is unknown.'}),\n",
              " Prediction(uid='A2PZFTT3X5GJCU', iid='B00007E89K', r_ui=5.0, est=4.058850210315736, details={'was_impossible': True, 'reason': 'User and/or item is unknown.'}),\n",
              " Prediction(uid='A1CWAKGNXPJ9YM', iid='B00001WRSJ', r_ui=4.0, est=4.058850210315736, details={'was_impossible': True, 'reason': 'User and/or item is unknown.'}),\n",
              " Prediction(uid='A1RW413V1141GE', iid='B000E6G9RI', r_ui=5.0, est=4.058850210315736, details={'was_impossible': True, 'reason': 'User and/or item is unknown.'}),\n",
              " Prediction(uid='A1538WGDZ4J7CC', iid='B00006B9W3', r_ui=5.0, est=4.058850210315736, details={'was_impossible': True, 'reason': 'User and/or item is unknown.'}),\n",
              " Prediction(uid='A2T4Q4754CQPQ3', iid='B000629GES', r_ui=5.0, est=3.3840399002493764, details={'actual_k': 0, 'was_impossible': False}),\n",
              " Prediction(uid='A2WFA97F22MWNZ', iid='B00005ML7Q', r_ui=5.0, est=4.058850210315736, details={'was_impossible': True, 'reason': 'User and/or item is unknown.'}),\n",
              " Prediction(uid='A2AEJEOV4F5ABH', iid='B000EHYG9K', r_ui=3.0, est=4.058850210315736, details={'was_impossible': True, 'reason': 'User and/or item is unknown.'}),\n",
              " Prediction(uid='A3QX2WOLNL6B8Z', iid='B00007M1TZ', r_ui=4.0, est=4.058850210315736, details={'was_impossible': True, 'reason': 'User and/or item is unknown.'}),\n",
              " Prediction(uid='AZ10SZC6OC2IQ', iid='B000AO3L84', r_ui=4.0, est=4.058850210315736, details={'was_impossible': True, 'reason': 'User and/or item is unknown.'}),\n",
              " Prediction(uid='A38F7SRNIDI9BI', iid='B00077AA5Q', r_ui=4.0, est=4.058850210315736, details={'was_impossible': True, 'reason': 'User and/or item is unknown.'}),\n",
              " Prediction(uid='A4YFGOXLJ67NO', iid='B000EUGX70', r_ui=1.0, est=4.058850210315736, details={'was_impossible': True, 'reason': 'User and/or item is unknown.'}),\n",
              " Prediction(uid='A3O0V96RJ38ABY', iid='B00005OQMO', r_ui=5.0, est=4.058850210315736, details={'was_impossible': True, 'reason': 'User and/or item is unknown.'}),\n",
              " Prediction(uid='ABP4CQUG5GNWB', iid='B000069EUX', r_ui=5.0, est=4.058850210315736, details={'was_impossible': True, 'reason': 'User and/or item is unknown.'}),\n",
              " Prediction(uid='AJ98L2EMG16G2', iid='B00001P4XA', r_ui=4.0, est=4.058850210315736, details={'was_impossible': True, 'reason': 'User and/or item is unknown.'}),\n",
              " Prediction(uid='AGATRDOFW48DK', iid='B000F7JCRA', r_ui=5.0, est=4.222560975609756, details={'actual_k': 0, 'was_impossible': False}),\n",
              " Prediction(uid='ADAPNQS82W273', iid='B0002MPNPI', r_ui=5.0, est=4.058850210315736, details={'was_impossible': True, 'reason': 'User and/or item is unknown.'}),\n",
              " Prediction(uid='A1MTJ6Z4G01LH4', iid='B000F4CTUK', r_ui=5.0, est=4.058850210315736, details={'was_impossible': True, 'reason': 'User and/or item is unknown.'}),\n",
              " Prediction(uid='A1R5QOUEEUF2FM', iid='B000ETXOC8', r_ui=4.0, est=4.058850210315736, details={'was_impossible': True, 'reason': 'User and/or item is unknown.'}),\n",
              " Prediction(uid='A3FGVHXJFPEE8M', iid='B00008VWOJ', r_ui=5.0, est=4.058850210315736, details={'was_impossible': True, 'reason': 'User and/or item is unknown.'}),\n",
              " Prediction(uid='A3DCVJCXXZ2X93', iid='B00020M1U0', r_ui=5.0, est=4.058850210315736, details={'was_impossible': True, 'reason': 'User and/or item is unknown.'}),\n",
              " Prediction(uid='A2V1J3JT5OOZFO', iid='B0000AQNX2', r_ui=5.0, est=4.530612244897959, details={'actual_k': 0, 'was_impossible': False}),\n",
              " Prediction(uid='A12DTCU4NTWGLJ', iid='B000BVIBGI', r_ui=4.0, est=3.6808510638297873, details={'actual_k': 0, 'was_impossible': False}),\n",
              " Prediction(uid='AKSHY0GOIQ923', iid='B0009W9WHQ', r_ui=5.0, est=4.058850210315736, details={'was_impossible': True, 'reason': 'User and/or item is unknown.'}),\n",
              " Prediction(uid='A3L36PY9ROXKK', iid='B0002S30RU', r_ui=4.0, est=4.058850210315736, details={'was_impossible': True, 'reason': 'User and/or item is unknown.'}),\n",
              " Prediction(uid='A165GPRTLN50YA', iid='B0002L5R78', r_ui=5.0, est=4.058850210315736, details={'was_impossible': True, 'reason': 'User and/or item is unknown.'}),\n",
              " Prediction(uid='A6M5KGUSE2C3Z', iid='B0008G1VCC', r_ui=3.0, est=4.058850210315736, details={'was_impossible': True, 'reason': 'User and/or item is unknown.'}),\n",
              " Prediction(uid='A2M0VUSVXRHSP', iid='B000EIW3E4', r_ui=1.0, est=4.058850210315736, details={'was_impossible': True, 'reason': 'User and/or item is unknown.'}),\n",
              " Prediction(uid='A20IIR0422G3A5', iid='B000CRFOMK', r_ui=5.0, est=4.408502772643253, details={'actual_k': 0, 'was_impossible': False}),\n",
              " Prediction(uid='A3BFWV68GBW8TT', iid='B000A6PPOK', r_ui=4.0, est=4.058850210315736, details={'was_impossible': True, 'reason': 'User and/or item is unknown.'}),\n",
              " Prediction(uid='A3GE0TRQMSS23G', iid='B0001LTT5K', r_ui=5.0, est=4.058850210315736, details={'was_impossible': True, 'reason': 'User and/or item is unknown.'}),\n",
              " Prediction(uid='A1OLP6GUFNXKG5', iid='B00006B7DA', r_ui=4.0, est=3.893939393939394, details={'actual_k': 0, 'was_impossible': False}),\n",
              " Prediction(uid='A1XP297EXKQB0G', iid='B00007E816', r_ui=5.0, est=4.058850210315736, details={'was_impossible': True, 'reason': 'User and/or item is unknown.'}),\n",
              " Prediction(uid='A2UWGSONW8EIR8', iid='B0007MGFI2', r_ui=1.0, est=4.058850210315736, details={'was_impossible': True, 'reason': 'User and/or item is unknown.'}),\n",
              " Prediction(uid='A3E1Q7I14NN9H1', iid='B0000DB4D1', r_ui=5.0, est=4.058850210315736, details={'was_impossible': True, 'reason': 'User and/or item is unknown.'}),\n",
              " Prediction(uid='A1REY92IEZJUSX', iid='B000053HH5', r_ui=5.0, est=5, details={'actual_k': 2, 'was_impossible': False}),\n",
              " Prediction(uid='A3BACUOZV1M0WM', iid='B000CSWHCY', r_ui=5.0, est=4.345238095238095, details={'actual_k': 0, 'was_impossible': False}),\n",
              " Prediction(uid='A2J7SLFE2U4XFW', iid='B000BFNOT8', r_ui=5.0, est=4.058850210315736, details={'was_impossible': True, 'reason': 'User and/or item is unknown.'}),\n",
              " Prediction(uid='AC0C4GYN0H1C5', iid='B00008SCFL', r_ui=2.0, est=4.058850210315736, details={'was_impossible': True, 'reason': 'User and/or item is unknown.'}),\n",
              " Prediction(uid='A224EDW3C958ND', iid='B0001FXLW8', r_ui=5.0, est=4.058850210315736, details={'was_impossible': True, 'reason': 'User and/or item is unknown.'}),\n",
              " Prediction(uid='A33RJOKI90I1CL', iid='B0002BESTQ', r_ui=1.0, est=3.861111111111111, details={'actual_k': 0, 'was_impossible': False}),\n",
              " Prediction(uid='A3P5E4ICT4Q3IM', iid='B00004T1XK', r_ui=5.0, est=4.058850210315736, details={'was_impossible': True, 'reason': 'User and/or item is unknown.'}),\n",
              " Prediction(uid='A1QUXVFSXPBSNH', iid='B00005B8HO', r_ui=5.0, est=5, details={'actual_k': 1, 'was_impossible': False}),\n",
              " Prediction(uid='A2HHQXJGIWU7TV', iid='B00007M1TZ', r_ui=5.0, est=4.058850210315736, details={'was_impossible': True, 'reason': 'User and/or item is unknown.'}),\n",
              " Prediction(uid='A2TQTEVUT4ZN09', iid='B0006GBD5O', r_ui=5.0, est=4.058850210315736, details={'was_impossible': True, 'reason': 'User and/or item is unknown.'}),\n",
              " Prediction(uid='A3CZRQYSANM9TW', iid='B0000AI0NC', r_ui=5.0, est=4.578947368421052, details={'actual_k': 0, 'was_impossible': False}),\n",
              " Prediction(uid='A3SCYUEOIXJ2H2', iid='B0002XQI2E', r_ui=5.0, est=4.888888888888889, details={'actual_k': 0, 'was_impossible': False}),\n",
              " Prediction(uid='A1D5IWLKQ26II', iid='B0007QN18K', r_ui=5.0, est=4.058850210315736, details={'was_impossible': True, 'reason': 'User and/or item is unknown.'}),\n",
              " Prediction(uid='A13OR6VTA2EBH9', iid='B000FA7PQ2', r_ui=5.0, est=4.0, details={'actual_k': 0, 'was_impossible': False}),\n",
              " Prediction(uid='AAEEZ6CRV62TX', iid='B00006B7DB', r_ui=5.0, est=4.058850210315736, details={'was_impossible': True, 'reason': 'User and/or item is unknown.'}),\n",
              " Prediction(uid='A1R7W1259SGRSQ', iid='B00005N6KG', r_ui=5.0, est=4.058850210315736, details={'was_impossible': True, 'reason': 'User and/or item is unknown.'}),\n",
              " Prediction(uid='A3LR7QXL944OFW', iid='B000067RC4', r_ui=5.0, est=4.058850210315736, details={'was_impossible': True, 'reason': 'User and/or item is unknown.'}),\n",
              " Prediction(uid='A1CF2YMGGLG36M', iid='B0002Y5WXE', r_ui=5.0, est=4.058850210315736, details={'was_impossible': True, 'reason': 'User and/or item is unknown.'}),\n",
              " Prediction(uid='A2UXCAOXAW5CPB', iid='B0000BVYTV', r_ui=5.0, est=4.058850210315736, details={'was_impossible': True, 'reason': 'User and/or item is unknown.'}),\n",
              " Prediction(uid='A24R3SKZSML8OU', iid='B000AOMO50', r_ui=4.0, est=4.058850210315736, details={'was_impossible': True, 'reason': 'User and/or item is unknown.'}),\n",
              " Prediction(uid='A2JHG30HI9BCSX', iid='B000A6PPOK', r_ui=4.0, est=4.058850210315736, details={'was_impossible': True, 'reason': 'User and/or item is unknown.'}),\n",
              " Prediction(uid='AVBHW7X88FKJ3', iid='B000B622CW', r_ui=3.0, est=2.7590361445783134, details={'actual_k': 0, 'was_impossible': False}),\n",
              " Prediction(uid='A96I9XVX343HT', iid='B000CQPWMS', r_ui=4.0, est=4.058850210315736, details={'was_impossible': True, 'reason': 'User and/or item is unknown.'}),\n",
              " Prediction(uid='AJB4OYFZDFRXB', iid='B0007TSYCK', r_ui=3.0, est=4.058850210315736, details={'was_impossible': True, 'reason': 'User and/or item is unknown.'}),\n",
              " Prediction(uid='A3FKQQTSMHOCE0', iid='B000053HH5', r_ui=4.0, est=4.834677419354839, details={'actual_k': 0, 'was_impossible': False}),\n",
              " Prediction(uid='A3AX0LPE1LE5A6', iid='B00015Y0FK', r_ui=5.0, est=4.058850210315736, details={'was_impossible': True, 'reason': 'User and/or item is unknown.'}),\n",
              " Prediction(uid='A3IWMMF5M2EMN1', iid='B0007M0VWS', r_ui=4.0, est=4.058850210315736, details={'was_impossible': True, 'reason': 'User and/or item is unknown.'}),\n",
              " Prediction(uid='A2EVPSE98E0XF7', iid='B0000BZOGJ', r_ui=2.0, est=4.058850210315736, details={'was_impossible': True, 'reason': 'User and/or item is unknown.'}),\n",
              " Prediction(uid='A2Q0TYZ794RWD9', iid='B000EGI7V4', r_ui=5.0, est=4.058850210315736, details={'was_impossible': True, 'reason': 'User and/or item is unknown.'}),\n",
              " Prediction(uid='A3ULCLCHPLPCDS', iid='B0000CBBNM', r_ui=5.0, est=4.6603322949117345, details={'actual_k': 1, 'was_impossible': False}),\n",
              " Prediction(uid='A3EMMMQ60PJWMD', iid='B0007GIXQU', r_ui=5.0, est=4.058850210315736, details={'was_impossible': True, 'reason': 'User and/or item is unknown.'}),\n",
              " Prediction(uid='AK6HGV2LKD0CV', iid='B0002L5R78', r_ui=5.0, est=4.058850210315736, details={'was_impossible': True, 'reason': 'User and/or item is unknown.'}),\n",
              " Prediction(uid='A3F8E639D9MEQX', iid='B000EPLP3C', r_ui=4.0, est=3.859098228663446, details={'actual_k': 0, 'was_impossible': False}),\n",
              " Prediction(uid='A2A2M8EGBY2FV0', iid='B0000A0AJH', r_ui=2.0, est=2.9798657718120807, details={'actual_k': 0, 'was_impossible': False}),\n",
              " Prediction(uid='A1D1S6WBVIF6B3', iid='B000CCXCYC', r_ui=5.0, est=4.058850210315736, details={'was_impossible': True, 'reason': 'User and/or item is unknown.'}),\n",
              " Prediction(uid='A2VR24P03IZBN', iid='B0002MSTW2', r_ui=5.0, est=4.058850210315736, details={'was_impossible': True, 'reason': 'User and/or item is unknown.'}),\n",
              " Prediction(uid='AD3QZ0L1ETBSZ', iid='B0000B35CK', r_ui=2.0, est=4.058850210315736, details={'was_impossible': True, 'reason': 'User and/or item is unknown.'}),\n",
              " Prediction(uid='AI5OS4RQQIUMJ', iid='B000050XL7', r_ui=5.0, est=3.7872340425531914, details={'actual_k': 0, 'was_impossible': False}),\n",
              " Prediction(uid='A1YJVIC7DBCPOD', iid='B0002SAF3C', r_ui=5.0, est=4.058850210315736, details={'was_impossible': True, 'reason': 'User and/or item is unknown.'}),\n",
              " Prediction(uid='A3V435GFRFQTE5', iid='B0000UV2AW', r_ui=1.0, est=4.058850210315736, details={'was_impossible': True, 'reason': 'User and/or item is unknown.'}),\n",
              " Prediction(uid='A14LZDUZ61EJSJ', iid='B00008IHOZ', r_ui=4.0, est=3.647887323943662, details={'actual_k': 0, 'was_impossible': False}),\n",
              " Prediction(uid='A2V6YGGQ9BVZ4V', iid='B0007MXZB2', r_ui=5.0, est=3.8673116793365585, details={'actual_k': 0, 'was_impossible': False}),\n",
              " Prediction(uid='A14S2YZM1BCBQS', iid='B00006JN3G', r_ui=5.0, est=4.058850210315736, details={'was_impossible': True, 'reason': 'User and/or item is unknown.'}),\n",
              " Prediction(uid='A1MCSMKABN783W', iid='B000068O34', r_ui=1.0, est=4.058850210315736, details={'was_impossible': True, 'reason': 'User and/or item is unknown.'}),\n",
              " Prediction(uid='AZGGG49I1J5E5', iid='B000A6PTHI', r_ui=5.0, est=4.178571428571429, details={'actual_k': 0, 'was_impossible': False}),\n",
              " Prediction(uid='AOT0JAU7SUNIL', iid='B00005ARK3', r_ui=1.0, est=4.058850210315736, details={'was_impossible': True, 'reason': 'User and/or item is unknown.'}),\n",
              " Prediction(uid='A2JWIX0N1X10U4', iid='B000028F42', r_ui=5.0, est=4.058850210315736, details={'was_impossible': True, 'reason': 'User and/or item is unknown.'}),\n",
              " Prediction(uid='A2GBBLGYONROC5', iid='B0009E3UUY', r_ui=3.0, est=4.058850210315736, details={'was_impossible': True, 'reason': 'User and/or item is unknown.'}),\n",
              " Prediction(uid='A1GGT9I40VQSE9', iid='B00081NX5U', r_ui=1.0, est=4.058850210315736, details={'was_impossible': True, 'reason': 'User and/or item is unknown.'}),\n",
              " Prediction(uid='A2TWAW5V288HS0', iid='B000BWACX2', r_ui=5.0, est=4.058850210315736, details={'was_impossible': True, 'reason': 'User and/or item is unknown.'}),\n",
              " Prediction(uid='A1PJ97EIMK3ZV5', iid='B000EMU4HS', r_ui=4.0, est=4.058850210315736, details={'was_impossible': True, 'reason': 'User and/or item is unknown.'}),\n",
              " Prediction(uid='A3CMMSA3B4R4EG', iid='B000EGGRG6', r_ui=4.0, est=4.058850210315736, details={'was_impossible': True, 'reason': 'User and/or item is unknown.'}),\n",
              " Prediction(uid='A1FNJ8642V6VSF', iid='B0001LRIT4', r_ui=4.0, est=4.058850210315736, details={'was_impossible': True, 'reason': 'User and/or item is unknown.'}),\n",
              " Prediction(uid='A1II6XVDBR4MTF', iid='B00005ATZN', r_ui=5.0, est=4.058850210315736, details={'was_impossible': True, 'reason': 'User and/or item is unknown.'}),\n",
              " Prediction(uid='A27Y7Q48G9PIJ8', iid='B000067RWL', r_ui=4.0, est=4.058850210315736, details={'was_impossible': True, 'reason': 'User and/or item is unknown.'}),\n",
              " Prediction(uid='A1P9XWBOF56D4M', iid='B00004WCGF', r_ui=5.0, est=4.058850210315736, details={'was_impossible': True, 'reason': 'User and/or item is unknown.'}),\n",
              " Prediction(uid='A3JSZ92PCQJTUL', iid='B000B6MLPU', r_ui=5.0, est=4.058850210315736, details={'was_impossible': True, 'reason': 'User and/or item is unknown.'}),\n",
              " Prediction(uid='A15FYNTJH1W7LF', iid='B0008JFCWY', r_ui=1.0, est=3.5121951219512195, details={'actual_k': 0, 'was_impossible': False}),\n",
              " Prediction(uid='A9PYHJ0CS8ZM3', iid='B000204SWE', r_ui=5.0, est=4.058850210315736, details={'was_impossible': True, 'reason': 'User and/or item is unknown.'}),\n",
              " Prediction(uid='A25EYI7D2UFE1E', iid='B000EXT5AY', r_ui=5.0, est=4.058850210315736, details={'was_impossible': True, 'reason': 'User and/or item is unknown.'}),\n",
              " Prediction(uid='A150QLQA8KQV95', iid='B00025742A', r_ui=2.0, est=4.058850210315736, details={'was_impossible': True, 'reason': 'User and/or item is unknown.'}),\n",
              " Prediction(uid='A1UJQTIRXUIZ2B', iid='B000EMWBV0', r_ui=4.0, est=4.058850210315736, details={'was_impossible': True, 'reason': 'User and/or item is unknown.'}),\n",
              " Prediction(uid='A2CBOP1NA5Y439', iid='B000EPNES6', r_ui=5.0, est=4.666666666666667, details={'actual_k': 0, 'was_impossible': False}),\n",
              " Prediction(uid='AFKEN1CL0F23I', iid='B0001OHH0Q', r_ui=2.0, est=4.023102310231023, details={'actual_k': 0, 'was_impossible': False}),\n",
              " Prediction(uid='A1LCTZKDXRSX72', iid='B000CNPAAA', r_ui=5.0, est=4.058850210315736, details={'was_impossible': True, 'reason': 'User and/or item is unknown.'}),\n",
              " Prediction(uid='A3H8JMWSQ2JSG9', iid='B00008SCFL', r_ui=5.0, est=4.058850210315736, details={'was_impossible': True, 'reason': 'User and/or item is unknown.'}),\n",
              " Prediction(uid='A3AU2M387GNBQI', iid='B00009R8EK', r_ui=4.0, est=4.058850210315736, details={'was_impossible': True, 'reason': 'User and/or item is unknown.'}),\n",
              " Prediction(uid='A1O5JB7X1ZNUBD', iid='B00006B7SK', r_ui=4.0, est=4.058850210315736, details={'was_impossible': True, 'reason': 'User and/or item is unknown.'}),\n",
              " Prediction(uid='AVPJOUVKECZOR', iid='B0007UQNNQ', r_ui=4.0, est=4.058850210315736, details={'was_impossible': True, 'reason': 'User and/or item is unknown.'}),\n",
              " Prediction(uid='AHUZ5Z14LQSXQ', iid='B00007E7JU', r_ui=4.0, est=4.058850210315736, details={'was_impossible': True, 'reason': 'User and/or item is unknown.'}),\n",
              " Prediction(uid='AN23T16PAXRI8', iid='B00008EM7U', r_ui=5.0, est=4.058850210315736, details={'was_impossible': True, 'reason': 'User and/or item is unknown.'}),\n",
              " Prediction(uid='A1WJGFLJ2W8GIO', iid='B00001OPJZ', r_ui=5.0, est=4.058850210315736, details={'was_impossible': True, 'reason': 'User and/or item is unknown.'}),\n",
              " Prediction(uid='A1U41LYJ7JI9JI', iid='B00009UTVO', r_ui=5.0, est=4.058850210315736, details={'was_impossible': True, 'reason': 'User and/or item is unknown.'}),\n",
              " Prediction(uid='A6QX420CU7ZFN', iid='B000062VUO', r_ui=4.0, est=4.058850210315736, details={'was_impossible': True, 'reason': 'User and/or item is unknown.'}),\n",
              " Prediction(uid='A3T9VI459KVJ2J', iid='B00029U1DK', r_ui=3.0, est=4.178260869565217, details={'actual_k': 0, 'was_impossible': False}),\n",
              " Prediction(uid='A3ASHV6JV1M8E', iid='B0000D8HK1', r_ui=5.0, est=3.629032258064516, details={'actual_k': 0, 'was_impossible': False}),\n",
              " Prediction(uid='A25UCSJ7D0Z6EY', iid='B000FDSMDO', r_ui=4.0, est=4.058850210315736, details={'was_impossible': True, 'reason': 'User and/or item is unknown.'}),\n",
              " Prediction(uid='AWAJ3D36XWJJ3', iid='B0001V2N62', r_ui=4.0, est=4.058850210315736, details={'was_impossible': True, 'reason': 'User and/or item is unknown.'}),\n",
              " Prediction(uid='A1ALBAO1HACCQ', iid='B000095SB6', r_ui=2.0, est=4.058850210315736, details={'was_impossible': True, 'reason': 'User and/or item is unknown.'}),\n",
              " Prediction(uid='AGCKRWKY35SYO', iid='B0007Z6RAA', r_ui=4.0, est=4.058850210315736, details={'was_impossible': True, 'reason': 'User and/or item is unknown.'}),\n",
              " Prediction(uid='A2PK13M42PRYFF', iid='B000BKJZ9Q', r_ui=5.0, est=4.058850210315736, details={'was_impossible': True, 'reason': 'User and/or item is unknown.'}),\n",
              " Prediction(uid='AUWT6QNBLYF0Q', iid='B0007RV3IE', r_ui=1.0, est=4.058850210315736, details={'was_impossible': True, 'reason': 'User and/or item is unknown.'}),\n",
              " Prediction(uid='A38O90IR3TQ0CF', iid='B000EW2XQ8', r_ui=4.0, est=3.4237288135593222, details={'actual_k': 0, 'was_impossible': False}),\n",
              " Prediction(uid='ABF90206JHRTN', iid='B0000C3GWU', r_ui=4.0, est=3.9809782608695654, details={'actual_k': 0, 'was_impossible': False}),\n",
              " Prediction(uid='A3121GLECXCEVM', iid='B000C1Z0HA', r_ui=5.0, est=4.058850210315736, details={'was_impossible': True, 'reason': 'User and/or item is unknown.'}),\n",
              " Prediction(uid='AUY8BJFF2FH7F', iid='B0000UXOHG', r_ui=4.0, est=3.782608695652174, details={'actual_k': 0, 'was_impossible': False}),\n",
              " Prediction(uid='A1CIFOGM2LXB8N', iid='B00004Z6Q6', r_ui=4.0, est=4.058850210315736, details={'was_impossible': True, 'reason': 'User and/or item is unknown.'}),\n",
              " Prediction(uid='A16UIPM8UZUAYT', iid='B0002855KK', r_ui=5.0, est=4.058850210315736, details={'was_impossible': True, 'reason': 'User and/or item is unknown.'}),\n",
              " Prediction(uid='A38PHZEG764F9B', iid='B000EJVWGS', r_ui=5.0, est=4.058850210315736, details={'was_impossible': True, 'reason': 'User and/or item is unknown.'}),\n",
              " Prediction(uid='A3FXT978AIL3G6', iid='B000065BPB', r_ui=5.0, est=4.389755011135858, details={'actual_k': 0, 'was_impossible': False}),\n",
              " Prediction(uid='A3SKEX17VF1S1J', iid='B000BQ7GW8', r_ui=5.0, est=4.058850210315736, details={'was_impossible': True, 'reason': 'User and/or item is unknown.'}),\n",
              " Prediction(uid='A2VSG9C77BOFPR', iid='B0007XJSQC', r_ui=5.0, est=4.058850210315736, details={'was_impossible': True, 'reason': 'User and/or item is unknown.'}),\n",
              " Prediction(uid='A139ZT26UI0Y3Q', iid='B00000J1V5', r_ui=5.0, est=4.058850210315736, details={'was_impossible': True, 'reason': 'User and/or item is unknown.'}),\n",
              " Prediction(uid='A1XGAL430CTAA1', iid='B0007MXZB2', r_ui=5.0, est=3.8673116793365585, details={'actual_k': 0, 'was_impossible': False}),\n",
              " Prediction(uid='ARUD1PVNGZXQX', iid='B00064GI2O', r_ui=5.0, est=4.058850210315736, details={'was_impossible': True, 'reason': 'User and/or item is unknown.'}),\n",
              " Prediction(uid='A3QIGF9530BX4F', iid='B0001MB7RW', r_ui=1.0, est=4.058850210315736, details={'was_impossible': True, 'reason': 'User and/or item is unknown.'}),\n",
              " Prediction(uid='A319CJUZ04SQL7', iid='B00000J1TX', r_ui=5.0, est=4.3544303797468356, details={'actual_k': 0, 'was_impossible': False}),\n",
              " Prediction(uid='A2S34FCV96GT4Q', iid='B00064JWSG', r_ui=5.0, est=4.058850210315736, details={'was_impossible': True, 'reason': 'User and/or item is unknown.'}),\n",
              " Prediction(uid='A1R9SX19WLWH2P', iid='B0000DJEK7', r_ui=5.0, est=4.058850210315736, details={'was_impossible': True, 'reason': 'User and/or item is unknown.'}),\n",
              " Prediction(uid='A169K0CZRSS3SN', iid='B00009R6WT', r_ui=5.0, est=4.058850210315736, details={'was_impossible': True, 'reason': 'User and/or item is unknown.'}),\n",
              " Prediction(uid='A3FHE4EYPFSATH', iid='B000BONJXU', r_ui=5.0, est=4.126637554585153, details={'actual_k': 0, 'was_impossible': False}),\n",
              " Prediction(uid='ASEE1C4KGQFAD', iid='B000BQ57BU', r_ui=4.0, est=4.416289592760181, details={'actual_k': 0, 'was_impossible': False}),\n",
              " Prediction(uid='A3TVG6RNC19DS5', iid='B0009IRUKG', r_ui=5.0, est=4.058850210315736, details={'was_impossible': True, 'reason': 'User and/or item is unknown.'}),\n",
              " Prediction(uid='A2KJLH0C55OCC8', iid='B000FDL3XU', r_ui=5.0, est=4.058850210315736, details={'was_impossible': True, 'reason': 'User and/or item is unknown.'}),\n",
              " Prediction(uid='A3MHIEQRYKK44V', iid='B000AS2XPC', r_ui=5.0, est=4.058850210315736, details={'was_impossible': True, 'reason': 'User and/or item is unknown.'}),\n",
              " Prediction(uid='A1U41SCM7SK1QF', iid='B000COT2CQ', r_ui=1.0, est=4.058850210315736, details={'was_impossible': True, 'reason': 'User and/or item is unknown.'}),\n",
              " Prediction(uid='AYSV126R7WTWT', iid='B0002ZLYYY', r_ui=1.0, est=4.058850210315736, details={'was_impossible': True, 'reason': 'User and/or item is unknown.'}),\n",
              " Prediction(uid='A2SVOHAHZS055W', iid='B000F6SR0O', r_ui=4.0, est=4.058850210315736, details={'was_impossible': True, 'reason': 'User and/or item is unknown.'}),\n",
              " Prediction(uid='A2APRNEUZ0Z6D6', iid='B0007WTF34', r_ui=5.0, est=4.058850210315736, details={'was_impossible': True, 'reason': 'User and/or item is unknown.'}),\n",
              " Prediction(uid='A2LM81K9KZBBFE', iid='B00006B7SK', r_ui=4.0, est=4.058850210315736, details={'was_impossible': True, 'reason': 'User and/or item is unknown.'}),\n",
              " Prediction(uid='A2ZG8YU39C15JW', iid='B000EYRLXQ', r_ui=1.0, est=4.058850210315736, details={'was_impossible': True, 'reason': 'User and/or item is unknown.'}),\n",
              " Prediction(uid='A13PBE80S9TVYK', iid='B0007XJSQC', r_ui=5.0, est=4.110591900311526, details={'actual_k': 0, 'was_impossible': False}),\n",
              " Prediction(uid='A2AJYFRM2Q4CIA', iid='B000652M6Y', r_ui=4.0, est=4.058850210315736, details={'was_impossible': True, 'reason': 'User and/or item is unknown.'}),\n",
              " Prediction(uid='A1A8RYOYMGHWUP', iid='B000B9RI14', r_ui=5.0, est=4.058850210315736, details={'was_impossible': True, 'reason': 'User and/or item is unknown.'}),\n",
              " Prediction(uid='A1FHUYGO3OWWRF', iid='B0002Y5WXE', r_ui=3.0, est=4.959081893401659, details={'actual_k': 2, 'was_impossible': False}),\n",
              " Prediction(uid='A11AO08EJVBALU', iid='B000E0DU7G', r_ui=5.0, est=4.058850210315736, details={'was_impossible': True, 'reason': 'User and/or item is unknown.'}),\n",
              " Prediction(uid='ADBO7CUSA9P98', iid='B00005ATMI', r_ui=5.0, est=4.058850210315736, details={'was_impossible': True, 'reason': 'User and/or item is unknown.'}),\n",
              " Prediction(uid='AJGX2UXL11331', iid='B0002JY712', r_ui=5.0, est=4.058850210315736, details={'was_impossible': True, 'reason': 'User and/or item is unknown.'}),\n",
              " Prediction(uid='A1DDARZ5BAVTN6', iid='B0001FTVDQ', r_ui=4.0, est=4.058850210315736, details={'was_impossible': True, 'reason': 'User and/or item is unknown.'}),\n",
              " Prediction(uid='A1602WP8OHESZD', iid='B00006HOKR', r_ui=5.0, est=4.054347826086956, details={'actual_k': 0, 'was_impossible': False}),\n",
              " Prediction(uid='AS6ZN5WKT04AT', iid='B00006I53S', r_ui=3.0, est=4.058850210315736, details={'was_impossible': True, 'reason': 'User and/or item is unknown.'}),\n",
              " Prediction(uid='A2PH0DF63NV2K6', iid='B00008AWL0', r_ui=5.0, est=4.058850210315736, details={'was_impossible': True, 'reason': 'User and/or item is unknown.'}),\n",
              " Prediction(uid='A2D6Z7QHQ3NS80', iid='B000093UDQ', r_ui=4.0, est=4.058850210315736, details={'was_impossible': True, 'reason': 'User and/or item is unknown.'}),\n",
              " Prediction(uid='AQKSPTSE7DJGE', iid='B0007ZFLYI', r_ui=5.0, est=4.058850210315736, details={'was_impossible': True, 'reason': 'User and/or item is unknown.'}),\n",
              " Prediction(uid='AD91KD0H3W5IH', iid='B00008KWWF', r_ui=5.0, est=4.058850210315736, details={'was_impossible': True, 'reason': 'User and/or item is unknown.'}),\n",
              " Prediction(uid='A1DPC4J1US7BCA', iid='B00005T3EY', r_ui=5.0, est=4.058850210315736, details={'was_impossible': True, 'reason': 'User and/or item is unknown.'}),\n",
              " Prediction(uid='A17IHI4SOVF9G4', iid='B0001GMIOE', r_ui=5.0, est=4.058850210315736, details={'was_impossible': True, 'reason': 'User and/or item is unknown.'}),\n",
              " Prediction(uid='A35XBLLNI16SPD', iid='B00006B9CR', r_ui=5.0, est=4.058850210315736, details={'was_impossible': True, 'reason': 'User and/or item is unknown.'}),\n",
              " Prediction(uid='AQUXADFI8DBLV', iid='B0000899ZD', r_ui=4.0, est=4.428571428571429, details={'actual_k': 0, 'was_impossible': False}),\n",
              " Prediction(uid='A22P7ZEX3JM52W', iid='B0002FHENE', r_ui=1.0, est=4.058850210315736, details={'was_impossible': True, 'reason': 'User and/or item is unknown.'}),\n",
              " Prediction(uid='A3G6MKTJ1BG2LP', iid='B00004VUGJ', r_ui=4.0, est=4.058850210315736, details={'was_impossible': True, 'reason': 'User and/or item is unknown.'}),\n",
              " Prediction(uid='ADAUYPBFWKLHT', iid='B000BFNT0W', r_ui=4.0, est=4.058850210315736, details={'was_impossible': True, 'reason': 'User and/or item is unknown.'}),\n",
              " Prediction(uid='A2Y7JV87NHQIW5', iid='B000EWD4TS', r_ui=5.0, est=4.058850210315736, details={'was_impossible': True, 'reason': 'User and/or item is unknown.'}),\n",
              " Prediction(uid='A7ONDEK8WA4MR', iid='B000065BP9', r_ui=4.0, est=4.221290863369656, details={'actual_k': 0, 'was_impossible': False}),\n",
              " Prediction(uid='A14RFF9JUIM34U', iid='B00000K13A', r_ui=4.0, est=1.0463018641010224, details={'actual_k': 1, 'was_impossible': False}),\n",
              " Prediction(uid='A1EPM72H5MSLID', iid='B0000U19F0', r_ui=1.0, est=3.627027027027027, details={'actual_k': 0, 'was_impossible': False}),\n",
              " Prediction(uid='AKJBDYC99LUQ6', iid='B0001M47F6', r_ui=2.0, est=4.058850210315736, details={'was_impossible': True, 'reason': 'User and/or item is unknown.'}),\n",
              " Prediction(uid='A2DWK58KH30X3G', iid='B000B60H0G', r_ui=1.0, est=4.058850210315736, details={'was_impossible': True, 'reason': 'User and/or item is unknown.'}),\n",
              " Prediction(uid='A3SKW7UXSIWLQY', iid='B000B5SLSM', r_ui=4.0, est=4.058850210315736, details={'was_impossible': True, 'reason': 'User and/or item is unknown.'}),\n",
              " Prediction(uid='A2D6L9NO4HVMMD', iid='B0002OZXGU', r_ui=5.0, est=3.1466666666666665, details={'actual_k': 0, 'was_impossible': False}),\n",
              " Prediction(uid='AT7O7X5VKWA4H', iid='B0001656FW', r_ui=5.0, est=4.058850210315736, details={'was_impossible': True, 'reason': 'User and/or item is unknown.'}),\n",
              " Prediction(uid='A1RIV0MZ3P5C4K', iid='B0000A1VS3', r_ui=3.0, est=4.058850210315736, details={'was_impossible': True, 'reason': 'User and/or item is unknown.'}),\n",
              " Prediction(uid='A11XQUYPJEW894', iid='B000EUGX70', r_ui=5.0, est=4.058850210315736, details={'was_impossible': True, 'reason': 'User and/or item is unknown.'}),\n",
              " Prediction(uid='A1AVBWBZK2XEIG', iid='B00094OX2S', r_ui=5.0, est=4.058850210315736, details={'was_impossible': True, 'reason': 'User and/or item is unknown.'}),\n",
              " Prediction(uid='A389U7BPUTJRG3', iid='B00007GQLS', r_ui=5.0, est=4.609865470852018, details={'actual_k': 0, 'was_impossible': False}),\n",
              " Prediction(uid='A3TAQ5QKV0PG7J', iid='B00005BC0J', r_ui=5.0, est=4.034042553191489, details={'actual_k': 0, 'was_impossible': False}),\n",
              " Prediction(uid='A4B2ET77LF9TD', iid='B0007CZ70Y', r_ui=5.0, est=4.22680412371134, details={'actual_k': 0, 'was_impossible': False}),\n",
              " Prediction(uid='A1MPAY9TVTGS6X', iid='B000BONJXU', r_ui=5.0, est=4.126637554585153, details={'actual_k': 0, 'was_impossible': False}),\n",
              " Prediction(uid='A1VWXENAI05MMH', iid='B00009USW3', r_ui=5.0, est=4.058850210315736, details={'was_impossible': True, 'reason': 'User and/or item is unknown.'}),\n",
              " Prediction(uid='A16MLF6AHD5FXB', iid='B00004YZQ8', r_ui=2.0, est=5, details={'actual_k': 1, 'was_impossible': False}),\n",
              " Prediction(uid='A1T7ME1BS2GB37', iid='B000E7WI0O', r_ui=5.0, est=4.058850210315736, details={'was_impossible': True, 'reason': 'User and/or item is unknown.'}),\n",
              " Prediction(uid='A35SZL4L790YL5', iid='B00093IIRA', r_ui=5.0, est=4.005028735632184, details={'actual_k': 0, 'was_impossible': False}),\n",
              " Prediction(uid='AS5KAYVIS06AK', iid='B00004WCID', r_ui=5.0, est=4.56498673740053, details={'actual_k': 0, 'was_impossible': False}),\n",
              " Prediction(uid='AHHQZY4N8TOS5', iid='B0002L5R78', r_ui=5.0, est=4.058850210315736, details={'was_impossible': True, 'reason': 'User and/or item is unknown.'}),\n",
              " Prediction(uid='A3F66CWNNM3OD', iid='B0000BYDKO', r_ui=5.0, est=3.30635838150289, details={'actual_k': 0, 'was_impossible': False}),\n",
              " Prediction(uid='A2V061Z8ILZBCB', iid='B00029U1DK', r_ui=2.0, est=4.058850210315736, details={'was_impossible': True, 'reason': 'User and/or item is unknown.'}),\n",
              " Prediction(uid='ASEB4OTLFYK0C', iid='B00029U1DK', r_ui=3.0, est=4.178260869565217, details={'actual_k': 0, 'was_impossible': False}),\n",
              " Prediction(uid='A26Q6CP4I6N0BO', iid='B00005LEN4', r_ui=5.0, est=4.058850210315736, details={'was_impossible': True, 'reason': 'User and/or item is unknown.'}),\n",
              " Prediction(uid='A2UNPQIED8UO2O', iid='B0002Y67UG', r_ui=5.0, est=3.0303030303030303, details={'actual_k': 0, 'was_impossible': False}),\n",
              " Prediction(uid='A3FJVIQ5KGVLKL', iid='B00007E7JU', r_ui=4.0, est=4.058850210315736, details={'was_impossible': True, 'reason': 'User and/or item is unknown.'}),\n",
              " Prediction(uid='A3C0K44KH6VYQF', iid='B000A3XRSO', r_ui=4.0, est=4.058850210315736, details={'was_impossible': True, 'reason': 'User and/or item is unknown.'}),\n",
              " Prediction(uid='AZ3I1A6AZ4FLG', iid='B0000AI0N1', r_ui=5.0, est=4.058850210315736, details={'was_impossible': True, 'reason': 'User and/or item is unknown.'}),\n",
              " Prediction(uid='A29CIMCVNUZQ8B', iid='B00023433U', r_ui=5.0, est=4.362068965517241, details={'actual_k': 0, 'was_impossible': False}),\n",
              " Prediction(uid='A27QCKVZN6Q6RO', iid='B00001OPJZ', r_ui=5.0, est=4.058850210315736, details={'was_impossible': True, 'reason': 'User and/or item is unknown.'}),\n",
              " Prediction(uid='A1A23QM5WA9F0H', iid='B00004WCID', r_ui=5.0, est=4.56498673740053, details={'actual_k': 0, 'was_impossible': False}),\n",
              " Prediction(uid='A2V6JA8LDH1JKI', iid='B00006HYKM', r_ui=5.0, est=3.5549597855227884, details={'actual_k': 0, 'was_impossible': False}),\n",
              " Prediction(uid='A2P1ZALAC93BHH', iid='B00008Z1PT', r_ui=5.0, est=3.8, details={'actual_k': 0, 'was_impossible': False}),\n",
              " Prediction(uid='AN6797KNNV79L', iid='B0002L5R78', r_ui=5.0, est=4.058850210315736, details={'was_impossible': True, 'reason': 'User and/or item is unknown.'}),\n",
              " Prediction(uid='A20XG3VWPOMR8T', iid='B0000B3ALF', r_ui=5.0, est=3.8135593220338984, details={'actual_k': 0, 'was_impossible': False}),\n",
              " Prediction(uid='A2RKCD1UU5BCDF', iid='B00061IYJC', r_ui=1.0, est=4.058850210315736, details={'was_impossible': True, 'reason': 'User and/or item is unknown.'}),\n",
              " Prediction(uid='A31UPS12J46DW', iid='B00023KG40', r_ui=1.0, est=4.058850210315736, details={'was_impossible': True, 'reason': 'User and/or item is unknown.'}),\n",
              " Prediction(uid='A158Y5ZFH9V9F7', iid='B0001VWHH2', r_ui=4.0, est=4.058850210315736, details={'was_impossible': True, 'reason': 'User and/or item is unknown.'}),\n",
              " Prediction(uid='A3FWM9PJLC0VVD', iid='B0002SQ0A4', r_ui=5.0, est=4.058850210315736, details={'was_impossible': True, 'reason': 'User and/or item is unknown.'}),\n",
              " Prediction(uid='A2J3VCGBNDLAKF', iid='B00005T3G0', r_ui=5.0, est=4.625680087051142, details={'actual_k': 0, 'was_impossible': False}),\n",
              " Prediction(uid='A3N1X8EM3G0ODT', iid='B00000JCTO', r_ui=5.0, est=4.058850210315736, details={'was_impossible': True, 'reason': 'User and/or item is unknown.'}),\n",
              " Prediction(uid='AZGH9CYK8BCPL', iid='B00020S7XK', r_ui=3.0, est=4.058850210315736, details={'was_impossible': True, 'reason': 'User and/or item is unknown.'}),\n",
              " Prediction(uid='A32Q5HN7RQN6GL', iid='B0007GGZ06', r_ui=5.0, est=3.464788732394366, details={'actual_k': 0, 'was_impossible': False}),\n",
              " Prediction(uid='A2XRS6YKXEEW9Z', iid='B00000J1GA', r_ui=1.0, est=4.058850210315736, details={'was_impossible': True, 'reason': 'User and/or item is unknown.'}),\n",
              " Prediction(uid='A76QDXP98QO8A', iid='B000A3WS16', r_ui=1.0, est=4.058850210315736, details={'was_impossible': True, 'reason': 'User and/or item is unknown.'}),\n",
              " Prediction(uid='A2KRLBV4ZNRYME', iid='B0001FTVEK', r_ui=5.0, est=4.058850210315736, details={'was_impossible': True, 'reason': 'User and/or item is unknown.'}),\n",
              " Prediction(uid='A28H9V7X1SRL5M', iid='B00001P4ZH', r_ui=3.0, est=4.058850210315736, details={'was_impossible': True, 'reason': 'User and/or item is unknown.'}),\n",
              " Prediction(uid='ACDOYUIIYIXFD', iid='B00008WM9J', r_ui=2.0, est=4.058850210315736, details={'was_impossible': True, 'reason': 'User and/or item is unknown.'}),\n",
              " Prediction(uid='A2OG4609S1CCIO', iid='B000001ON6', r_ui=5.0, est=4.058850210315736, details={'was_impossible': True, 'reason': 'User and/or item is unknown.'}),\n",
              " Prediction(uid='A3NW6BWRF6A4VG', iid='B000AJIF4E', r_ui=5.0, est=4.058850210315736, details={'was_impossible': True, 'reason': 'User and/or item is unknown.'}),\n",
              " Prediction(uid='A5ZDO88PLVE6V', iid='B000AUMHVA', r_ui=5.0, est=4.058850210315736, details={'was_impossible': True, 'reason': 'User and/or item is unknown.'}),\n",
              " Prediction(uid='A1KZH8MWUYCHXA', iid='B0007XJSQC', r_ui=3.0, est=4.110591900311526, details={'actual_k': 0, 'was_impossible': False}),\n",
              " Prediction(uid='A17QM71TLRTMNK', iid='B0002Y5WZM', r_ui=4.0, est=4.058850210315736, details={'was_impossible': True, 'reason': 'User and/or item is unknown.'}),\n",
              " Prediction(uid='A1XFMXCDPBVJ5P', iid='B000AO3L84', r_ui=5.0, est=4.058850210315736, details={'was_impossible': True, 'reason': 'User and/or item is unknown.'}),\n",
              " Prediction(uid='A2SI78K3V68OV6', iid='B000AUIM9G', r_ui=1.0, est=4.058850210315736, details={'was_impossible': True, 'reason': 'User and/or item is unknown.'}),\n",
              " Prediction(uid='A25W3VY654FKRB', iid='B0007MGFFU', r_ui=5.0, est=3.8395061728395063, details={'actual_k': 0, 'was_impossible': False}),\n",
              " Prediction(uid='A1C9892POAFJ9W', iid='B0002ZW5W4', r_ui=3.0, est=4.058850210315736, details={'was_impossible': True, 'reason': 'User and/or item is unknown.'}),\n",
              " Prediction(uid='AO0P3WUK31OFA', iid='B0002UB2Q4', r_ui=5.0, est=4.058850210315736, details={'was_impossible': True, 'reason': 'User and/or item is unknown.'}),\n",
              " Prediction(uid='A2MK3YD6YDX53T', iid='B0000932A9', r_ui=5.0, est=4.058850210315736, details={'was_impossible': True, 'reason': 'User and/or item is unknown.'}),\n",
              " Prediction(uid='A3KHNSAMFW2BQ3', iid='B000167KQ0', r_ui=5.0, est=4.338235294117647, details={'actual_k': 0, 'was_impossible': False}),\n",
              " Prediction(uid='A26ZAZJDJ9INGN', iid='B000DZKNM2', r_ui=5.0, est=4.058850210315736, details={'was_impossible': True, 'reason': 'User and/or item is unknown.'}),\n",
              " Prediction(uid='A2GQXD9EG9BWU0', iid='B000BFHWXM', r_ui=3.0, est=4.058850210315736, details={'was_impossible': True, 'reason': 'User and/or item is unknown.'}),\n",
              " Prediction(uid='A2SJDM145PNQRI', iid='B000CSWCQA', r_ui=5.0, est=4.058850210315736, details={'was_impossible': True, 'reason': 'User and/or item is unknown.'}),\n",
              " Prediction(uid='A1MCPIQ5T2UVOV', iid='B000CSOXTO', r_ui=5.0, est=4.058850210315736, details={'was_impossible': True, 'reason': 'User and/or item is unknown.'}),\n",
              " Prediction(uid='A1LOK3QT5IU6NS', iid='B00019068G', r_ui=5.0, est=4.058850210315736, details={'was_impossible': True, 'reason': 'User and/or item is unknown.'}),\n",
              " Prediction(uid='A1DGZYTEN11JKP', iid='B000068P8W', r_ui=5.0, est=4.058850210315736, details={'was_impossible': True, 'reason': 'User and/or item is unknown.'}),\n",
              " Prediction(uid='A25ELYS3T6BP4C', iid='B0002VO7HO', r_ui=4.0, est=4.058850210315736, details={'was_impossible': True, 'reason': 'User and/or item is unknown.'}),\n",
              " Prediction(uid='A26PQD51JG0H8T', iid='B0001FV37S', r_ui=5.0, est=4.058850210315736, details={'was_impossible': True, 'reason': 'User and/or item is unknown.'}),\n",
              " Prediction(uid='A2S0NICNROHTJL', iid='B000ENUCR4', r_ui=5.0, est=4.058850210315736, details={'was_impossible': True, 'reason': 'User and/or item is unknown.'}),\n",
              " Prediction(uid='A1YESJGC1AWCFF', iid='B0000B006W', r_ui=5.0, est=4.058850210315736, details={'was_impossible': True, 'reason': 'User and/or item is unknown.'}),\n",
              " Prediction(uid='A29KA9UCPVG8O0', iid='B0002L5R78', r_ui=5.0, est=4.058850210315736, details={'was_impossible': True, 'reason': 'User and/or item is unknown.'}),\n",
              " Prediction(uid='A3SF2N0BJF0YJS', iid='B0007ZFM38', r_ui=5.0, est=2.324046920821114, details={'actual_k': 1, 'was_impossible': False}),\n",
              " Prediction(uid='A5SAIF71NZRXJ', iid='B00005ARK3', r_ui=4.0, est=4.846496106785317, details={'actual_k': 1, 'was_impossible': False}),\n",
              " Prediction(uid='A12379QXH2JB3E', iid='B0009GZSSO', r_ui=5.0, est=4.058850210315736, details={'was_impossible': True, 'reason': 'User and/or item is unknown.'}),\n",
              " Prediction(uid='AGFCNKGG4E35G', iid='B00004VXNF', r_ui=5.0, est=4.058850210315736, details={'was_impossible': True, 'reason': 'User and/or item is unknown.'}),\n",
              " Prediction(uid='A38U2M9OAEJAXJ', iid='B0001A99MO', r_ui=3.0, est=3.9135802469135803, details={'actual_k': 0, 'was_impossible': False}),\n",
              " Prediction(uid='A2KH10RLFZLN47', iid='B00005QJCU', r_ui=2.0, est=3.59375, details={'actual_k': 0, 'was_impossible': False}),\n",
              " Prediction(uid='A35N0TZ3U7T88U', iid='B000085BD8', r_ui=1.0, est=4.058850210315736, details={'was_impossible': True, 'reason': 'User and/or item is unknown.'}),\n",
              " Prediction(uid='AGJ897QIZAHR', iid='B0002YE686', r_ui=5.0, est=4.058850210315736, details={'was_impossible': True, 'reason': 'User and/or item is unknown.'}),\n",
              " Prediction(uid='A2Y31WBZ3WTZW7', iid='B00017LSPI', r_ui=5.0, est=4.058850210315736, details={'was_impossible': True, 'reason': 'User and/or item is unknown.'}),\n",
              " Prediction(uid='AUIA2Z1HKA97K', iid='B0007RV3IE', r_ui=5.0, est=4.058850210315736, details={'was_impossible': True, 'reason': 'User and/or item is unknown.'}),\n",
              " Prediction(uid='A2LYCFE6NQXLG6', iid='B00006JINY', r_ui=5.0, est=4.058850210315736, details={'was_impossible': True, 'reason': 'User and/or item is unknown.'}),\n",
              " Prediction(uid='A2DVJS0X54P3ON', iid='B000EXS1BS', r_ui=5.0, est=4.058850210315736, details={'was_impossible': True, 'reason': 'User and/or item is unknown.'}),\n",
              " Prediction(uid='A3K9EAGLBTCIWZ', iid='B00005ML7Q', r_ui=5.0, est=4.058850210315736, details={'was_impossible': True, 'reason': 'User and/or item is unknown.'}),\n",
              " Prediction(uid='AVAO6W0PEKK5X', iid='B00006I53W', r_ui=5.0, est=4.857142857142857, details={'actual_k': 0, 'was_impossible': False}),\n",
              " Prediction(uid='A36HYGKG1N2PZ0', iid='B0009N5MDI', r_ui=2.0, est=4.058850210315736, details={'was_impossible': True, 'reason': 'User and/or item is unknown.'}),\n",
              " Prediction(uid='A23WFCSQPJ3OYM', iid='B00005Y6OR', r_ui=4.0, est=4.058850210315736, details={'was_impossible': True, 'reason': 'User and/or item is unknown.'}),\n",
              " Prediction(uid='AWW58YG9XGUPK', iid='B00029U13A', r_ui=5.0, est=4.058850210315736, details={'was_impossible': True, 'reason': 'User and/or item is unknown.'}),\n",
              " Prediction(uid='A334HCXGFH4OAR', iid='B0007TJ5OG', r_ui=4.0, est=4.058850210315736, details={'was_impossible': True, 'reason': 'User and/or item is unknown.'}),\n",
              " Prediction(uid='ARXSTWLF2RQFN', iid='B000065BP9', r_ui=5.0, est=4.058850210315736, details={'was_impossible': True, 'reason': 'User and/or item is unknown.'}),\n",
              " Prediction(uid='A1UHWZ4US6J3AF', iid='B000063Y7E', r_ui=1.0, est=4.058850210315736, details={'was_impossible': True, 'reason': 'User and/or item is unknown.'}),\n",
              " Prediction(uid='A36LRSCX1JZRWD', iid='B00083PGFS', r_ui=3.0, est=4.058850210315736, details={'was_impossible': True, 'reason': 'User and/or item is unknown.'}),\n",
              " Prediction(uid='A393YBBYHL5ODO', iid='B000ANGNN0', r_ui=5.0, est=4.058850210315736, details={'was_impossible': True, 'reason': 'User and/or item is unknown.'}),\n",
              " Prediction(uid='A203TEW52ZZ5UP', iid='B00004YBVE', r_ui=3.0, est=2.774193548387097, details={'actual_k': 0, 'was_impossible': False}),\n",
              " Prediction(uid='A1JOD30GJ9CSFU', iid='B00005A1KZ', r_ui=4.0, est=4.058850210315736, details={'was_impossible': True, 'reason': 'User and/or item is unknown.'}),\n",
              " Prediction(uid='A24WIHE20ROP0B', iid='B00007EDM8', r_ui=4.0, est=4.058850210315736, details={'was_impossible': True, 'reason': 'User and/or item is unknown.'}),\n",
              " Prediction(uid='AHVSAFZPN111G', iid='B0002JUH3O', r_ui=4.0, est=4.058850210315736, details={'was_impossible': True, 'reason': 'User and/or item is unknown.'}),\n",
              " Prediction(uid='A2LGWDI1KZNGTI', iid='B000ERAON2', r_ui=1.0, est=4.058850210315736, details={'was_impossible': True, 'reason': 'User and/or item is unknown.'}),\n",
              " Prediction(uid='A37VH7H22IQRVV', iid='B000233ZMU', r_ui=3.0, est=4.058850210315736, details={'was_impossible': True, 'reason': 'User and/or item is unknown.'}),\n",
              " Prediction(uid='ARM5HKP34D9JN', iid='B0001GNJWY', r_ui=5.0, est=4.535714285714286, details={'actual_k': 0, 'was_impossible': False}),\n",
              " Prediction(uid='ANSO68NJJ7AIM', iid='B000AM3U2I', r_ui=5.0, est=4.058850210315736, details={'was_impossible': True, 'reason': 'User and/or item is unknown.'}),\n",
              " Prediction(uid='AX5SICTUJNQQC', iid='B000E8X5Z0', r_ui=3.0, est=4.058850210315736, details={'was_impossible': True, 'reason': 'User and/or item is unknown.'}),\n",
              " Prediction(uid='A3HWESJWKVNT2P', iid='B0002Y5WZM', r_ui=5.0, est=4.058850210315736, details={'was_impossible': True, 'reason': 'User and/or item is unknown.'}),\n",
              " Prediction(uid='A16XWYFIYB4UXZ', iid='B000EEQ83K', r_ui=5.0, est=4.058850210315736, details={'was_impossible': True, 'reason': 'User and/or item is unknown.'}),\n",
              " Prediction(uid='A34Z01JIIDIKQI', iid='B0007UVRVO', r_ui=5.0, est=4.058850210315736, details={'was_impossible': True, 'reason': 'User and/or item is unknown.'}),\n",
              " Prediction(uid='A1YU3QEWF8N8BZ', iid='B00009J5W0', r_ui=3.0, est=4.058850210315736, details={'was_impossible': True, 'reason': 'User and/or item is unknown.'}),\n",
              " Prediction(uid='A2NK7J16L115FJ', iid='B0002KVQBA', r_ui=5.0, est=4.058850210315736, details={'was_impossible': True, 'reason': 'User and/or item is unknown.'}),\n",
              " Prediction(uid='A3LCNZPDTK83UT', iid='B000B7C3DY', r_ui=5.0, est=4.058850210315736, details={'was_impossible': True, 'reason': 'User and/or item is unknown.'}),\n",
              " Prediction(uid='A3QKIR8J56EUI1', iid='B00008VWOJ', r_ui=1.0, est=3.21875, details={'actual_k': 0, 'was_impossible': False}),\n",
              " Prediction(uid='A20HJ1YT866IW0', iid='B000EDG6EM', r_ui=4.0, est=4.058850210315736, details={'was_impossible': True, 'reason': 'User and/or item is unknown.'}),\n",
              " Prediction(uid='A1LZNXZYP1VRCG', iid='B000AS2XPC', r_ui=4.0, est=4.058850210315736, details={'was_impossible': True, 'reason': 'User and/or item is unknown.'}),\n",
              " Prediction(uid='A3DVLNXZ9WRQHR', iid='B000065BPB', r_ui=3.0, est=4.058850210315736, details={'was_impossible': True, 'reason': 'User and/or item is unknown.'}),\n",
              " Prediction(uid='A2UNIW4403G994', iid='B00004ZCKV', r_ui=4.0, est=3.967529525633501, details={'actual_k': 1, 'was_impossible': False}),\n",
              " Prediction(uid='A3UJ6QL2N78UJ', iid='B000E6NGBU', r_ui=4.0, est=4.058850210315736, details={'was_impossible': True, 'reason': 'User and/or item is unknown.'}),\n",
              " Prediction(uid='A2VD0M3QZVG65O', iid='B000652SOK', r_ui=4.0, est=4.058850210315736, details={'was_impossible': True, 'reason': 'User and/or item is unknown.'}),\n",
              " Prediction(uid='A3LVRR9SSBHCKD', iid='B0007MXZB2', r_ui=5.0, est=4.058850210315736, details={'was_impossible': True, 'reason': 'User and/or item is unknown.'}),\n",
              " Prediction(uid='A1ACE102N5Q670', iid='B0000C73CQ', r_ui=5.0, est=4.058850210315736, details={'was_impossible': True, 'reason': 'User and/or item is unknown.'}),\n",
              " Prediction(uid='A110KV6DOUJLZM', iid='B000CRT07U', r_ui=3.0, est=4.058850210315736, details={'was_impossible': True, 'reason': 'User and/or item is unknown.'}),\n",
              " Prediction(uid='A3FYIU2ZIRFAAO', iid='B0001F22PA', r_ui=4.0, est=4.058850210315736, details={'was_impossible': True, 'reason': 'User and/or item is unknown.'}),\n",
              " Prediction(uid='A3EUIMH9KEM31H', iid='B000A5TAT2', r_ui=5.0, est=4.058850210315736, details={'was_impossible': True, 'reason': 'User and/or item is unknown.'}),\n",
              " Prediction(uid='A3U1A95GWRRQW6', iid='B000092YPR', r_ui=2.0, est=3.9644012944983817, details={'actual_k': 0, 'was_impossible': False}),\n",
              " Prediction(uid='A2722ZENJEL787', iid='B000CKVOOY', r_ui=5.0, est=4.058850210315736, details={'was_impossible': True, 'reason': 'User and/or item is unknown.'}),\n",
              " Prediction(uid='A2F9B5TWY4QOK6', iid='B0000E658Q', r_ui=5.0, est=4.058850210315736, details={'was_impossible': True, 'reason': 'User and/or item is unknown.'}),\n",
              " Prediction(uid='ATED4J68G45CH', iid='B00006I53X', r_ui=5.0, est=4.058850210315736, details={'was_impossible': True, 'reason': 'User and/or item is unknown.'}),\n",
              " Prediction(uid='A31F1QDS40ADOH', iid='B0006FS1Z0', r_ui=2.0, est=2.5, details={'actual_k': 0, 'was_impossible': False}),\n",
              " Prediction(uid='AWKP5X91396IL', iid='B000ALLMII', r_ui=1.0, est=4.058850210315736, details={'was_impossible': True, 'reason': 'User and/or item is unknown.'}),\n",
              " Prediction(uid='A4OJ0SJJ6ARQ0', iid='B0002ZW5W4', r_ui=5.0, est=4.058850210315736, details={'was_impossible': True, 'reason': 'User and/or item is unknown.'}),\n",
              " Prediction(uid='A3M3MU54FLH3UN', iid='B000AYJDD6', r_ui=5.0, est=4.058850210315736, details={'was_impossible': True, 'reason': 'User and/or item is unknown.'}),\n",
              " Prediction(uid='AJOA5W5YFUCCV', iid='B000B5H2BE', r_ui=3.0, est=3.6440677966101696, details={'actual_k': 0, 'was_impossible': False}),\n",
              " Prediction(uid='A1UB5M492XO7MS', iid='B00030DEQE', r_ui=5.0, est=4.058850210315736, details={'was_impossible': True, 'reason': 'User and/or item is unknown.'}),\n",
              " Prediction(uid='A2L28CAIUAT503', iid='B0009SA27O', r_ui=1.0, est=4.058850210315736, details={'was_impossible': True, 'reason': 'User and/or item is unknown.'}),\n",
              " Prediction(uid='A266B0OWEAHWHE', iid='B000BDDOP4', r_ui=2.0, est=4.058850210315736, details={'was_impossible': True, 'reason': 'User and/or item is unknown.'}),\n",
              " Prediction(uid='ALIZGLRXAVJU4', iid='B000EOMXM0', r_ui=5.0, est=4.058850210315736, details={'was_impossible': True, 'reason': 'User and/or item is unknown.'}),\n",
              " Prediction(uid='A2P4NP0HJ3C3LQ', iid='B0007VNGLC', r_ui=5.0, est=4.058850210315736, details={'was_impossible': True, 'reason': 'User and/or item is unknown.'}),\n",
              " Prediction(uid='A5DYJY5MC6J8Q', iid='B000BKN2Y0', r_ui=3.0, est=4.331983805668016, details={'actual_k': 0, 'was_impossible': False}),\n",
              " Prediction(uid='A1QR6TG2ZGUTCG', iid='B000AM6QH4', r_ui=5.0, est=4.058850210315736, details={'was_impossible': True, 'reason': 'User and/or item is unknown.'}),\n",
              " Prediction(uid='A3A5FS15NNGQO8', iid='B00006412G', r_ui=3.0, est=4.058850210315736, details={'was_impossible': True, 'reason': 'User and/or item is unknown.'}),\n",
              " Prediction(uid='A20D68TIZQ71TN', iid='B0001FTVEK', r_ui=3.0, est=4.058850210315736, details={'was_impossible': True, 'reason': 'User and/or item is unknown.'}),\n",
              " Prediction(uid='A2UGM51NZHXWP3', iid='B00005T3BD', r_ui=4.0, est=4.058850210315736, details={'was_impossible': True, 'reason': 'User and/or item is unknown.'}),\n",
              " Prediction(uid='A19N3OM5TU5WGJ', iid='B00006HYPV', r_ui=2.0, est=4.058850210315736, details={'was_impossible': True, 'reason': 'User and/or item is unknown.'}),\n",
              " Prediction(uid='AJ9ZY0OH22YCH', iid='B0000Y8C2Y', r_ui=5.0, est=4.058850210315736, details={'was_impossible': True, 'reason': 'User and/or item is unknown.'}),\n",
              " Prediction(uid='A3H32SQ21M7VRW', iid='B000CNPAAA', r_ui=5.0, est=4.058850210315736, details={'was_impossible': True, 'reason': 'User and/or item is unknown.'}),\n",
              " Prediction(uid='A1169WWVWSGR3M', iid='B00000J1QK', r_ui=5.0, est=4.058850210315736, details={'was_impossible': True, 'reason': 'User and/or item is unknown.'}),\n",
              " Prediction(uid='A2M09562JSMJII', iid='B000EOPQ7E', r_ui=4.0, est=4.058850210315736, details={'was_impossible': True, 'reason': 'User and/or item is unknown.'}),\n",
              " Prediction(uid='A18IKUQIAMZHXZ', iid='B000C1Z0HA', r_ui=2.0, est=4.058850210315736, details={'was_impossible': True, 'reason': 'User and/or item is unknown.'}),\n",
              " Prediction(uid='A3D2PJC9CF87WP', iid='B000FBH35E', r_ui=1.0, est=3.5142857142857142, details={'actual_k': 0, 'was_impossible': False}),\n",
              " Prediction(uid='A7GSAXOHLDDYP', iid='B000812QC6', r_ui=5.0, est=4.5919095653608935, details={'actual_k': 1, 'was_impossible': False}),\n",
              " Prediction(uid='A2G9Q225MY8J4R', iid='B0009ZBRS0', r_ui=5.0, est=4.058850210315736, details={'was_impossible': True, 'reason': 'User and/or item is unknown.'}),\n",
              " Prediction(uid='AM0OMCVHUPHA7', iid='B000AO3L84', r_ui=5.0, est=4.058850210315736, details={'was_impossible': True, 'reason': 'User and/or item is unknown.'}),\n",
              " Prediction(uid='A39XJJ6RAVV9X7', iid='B000E6G9RI', r_ui=2.0, est=4.058850210315736, details={'was_impossible': True, 'reason': 'User and/or item is unknown.'}),\n",
              " Prediction(uid='A1392Q3JK8UJPV', iid='B0002MQGOA', r_ui=5.0, est=4.058850210315736, details={'was_impossible': True, 'reason': 'User and/or item is unknown.'}),\n",
              " Prediction(uid='A3GKM9CIBXYLP6', iid='B000E1FYQA', r_ui=5.0, est=4.058850210315736, details={'was_impossible': True, 'reason': 'User and/or item is unknown.'}),\n",
              " Prediction(uid='A1ZXTGATEMOTC8', iid='B0002L5R78', r_ui=3.0, est=4.058850210315736, details={'was_impossible': True, 'reason': 'User and/or item is unknown.'}),\n",
              " Prediction(uid='A1CCAD5HIQXG1K', iid='B000EYRLXQ', r_ui=5.0, est=4.058850210315736, details={'was_impossible': True, 'reason': 'User and/or item is unknown.'}),\n",
              " Prediction(uid='A9ZRQ4MN2B8CL', iid='B0002L5R78', r_ui=5.0, est=4.058850210315736, details={'was_impossible': True, 'reason': 'User and/or item is unknown.'}),\n",
              " Prediction(uid='A6H9UL6KKE35U', iid='B00009UHKW', r_ui=5.0, est=4.058850210315736, details={'was_impossible': True, 'reason': 'User and/or item is unknown.'}),\n",
              " Prediction(uid='A3R1NY5HBYS8XU', iid='B00005AW1H', r_ui=4.0, est=3.525, details={'actual_k': 0, 'was_impossible': False}),\n",
              " Prediction(uid='A1GMXYOJPX88W2', iid='B000CQPWMS', r_ui=2.0, est=4.058850210315736, details={'was_impossible': True, 'reason': 'User and/or item is unknown.'}),\n",
              " Prediction(uid='A2SOLMON5ZNC84', iid='B00009UT9B', r_ui=5.0, est=4.7748538011695905, details={'actual_k': 0, 'was_impossible': False}),\n",
              " Prediction(uid='A3INGR8BUDVARR', iid='B00028DM96', r_ui=5.0, est=4.058850210315736, details={'was_impossible': True, 'reason': 'User and/or item is unknown.'}),\n",
              " Prediction(uid='A3CB782KNDD8BA', iid='B00004VX39', r_ui=5.0, est=3.9693251533742333, details={'actual_k': 0, 'was_impossible': False}),\n",
              " Prediction(uid='A3GQ4DXVA1FK4A', iid='B0002L5R78', r_ui=5.0, est=4.058850210315736, details={'was_impossible': True, 'reason': 'User and/or item is unknown.'}),\n",
              " Prediction(uid='AVBK60ZIGMYGV', iid='B000ANRP82', r_ui=5.0, est=4.058850210315736, details={'was_impossible': True, 'reason': 'User and/or item is unknown.'}),\n",
              " Prediction(uid='ACH91G5SLNQS5', iid='B0000CDJPQ', r_ui=5.0, est=4.058850210315736, details={'was_impossible': True, 'reason': 'User and/or item is unknown.'}),\n",
              " Prediction(uid='A413ABZIU3RBS', iid='B0006DPMU4', r_ui=5.0, est=4.058850210315736, details={'was_impossible': True, 'reason': 'User and/or item is unknown.'}),\n",
              " Prediction(uid='A2NNNB8T53QELU', iid='B0006FS1Z0', r_ui=1.0, est=4.058850210315736, details={'was_impossible': True, 'reason': 'User and/or item is unknown.'}),\n",
              " Prediction(uid='A2IFVFRZNMH5BJ', iid='B000EXPVRK', r_ui=5.0, est=4.058850210315736, details={'was_impossible': True, 'reason': 'User and/or item is unknown.'}),\n",
              " Prediction(uid='AFA7K256EXE9N', iid='B00008Y0VN', r_ui=5.0, est=4.058850210315736, details={'was_impossible': True, 'reason': 'User and/or item is unknown.'}),\n",
              " Prediction(uid='A20WPTKPKTCR5E', iid='B00093IIRA', r_ui=5.0, est=4.005028735632184, details={'actual_k': 0, 'was_impossible': False}),\n",
              " Prediction(uid='A35VI9CJ0LR3CA', iid='B00083JQY0', r_ui=1.0, est=4.058850210315736, details={'was_impossible': True, 'reason': 'User and/or item is unknown.'}),\n",
              " Prediction(uid='AUVMY6VGOB4T4', iid='B00004THCZ', r_ui=4.0, est=4.205882352941177, details={'actual_k': 0, 'was_impossible': False}),\n",
              " Prediction(uid='ANR0767ARAGKV', iid='B0002OZXHO', r_ui=5.0, est=4.058850210315736, details={'was_impossible': True, 'reason': 'User and/or item is unknown.'}),\n",
              " Prediction(uid='A4BPC8U0RUJAD', iid='B000067G0J', r_ui=5.0, est=4.058850210315736, details={'was_impossible': True, 'reason': 'User and/or item is unknown.'}),\n",
              " Prediction(uid='A2ET8F4U7HCCTW', iid='B0007RV3IE', r_ui=1.0, est=4.058850210315736, details={'was_impossible': True, 'reason': 'User and/or item is unknown.'}),\n",
              " Prediction(uid='A3KADQ28UILU7P', iid='B00006B7DA', r_ui=5.0, est=4.058850210315736, details={'was_impossible': True, 'reason': 'User and/or item is unknown.'}),\n",
              " Prediction(uid='A3D9P4O6VKIB8A', iid='B00007KDVI', r_ui=4.0, est=3.9398572214559824, details={'actual_k': 2, 'was_impossible': False}),\n",
              " Prediction(uid='AUZED5PLOGSYJ', iid='B0009K9FZW', r_ui=5.0, est=4.058850210315736, details={'was_impossible': True, 'reason': 'User and/or item is unknown.'}),\n",
              " Prediction(uid='AMK1EYGBUMPFC', iid='B0001U5LW6', r_ui=5.0, est=4.058850210315736, details={'was_impossible': True, 'reason': 'User and/or item is unknown.'}),\n",
              " Prediction(uid='AKAU5DC2JFPJ1', iid='B00007IFED', r_ui=5.0, est=4.058850210315736, details={'was_impossible': True, 'reason': 'User and/or item is unknown.'}),\n",
              " Prediction(uid='A18FVBWTMLQJGX', iid='B000EHWCDW', r_ui=5.0, est=4.058850210315736, details={'was_impossible': True, 'reason': 'User and/or item is unknown.'}),\n",
              " Prediction(uid='A1SEHRRSCQTQ42', iid='B0000C8817', r_ui=5.0, est=4.345454545454546, details={'actual_k': 0, 'was_impossible': False}),\n",
              " Prediction(uid='AOW6MAN2RDWFY', iid='B0006B088W', r_ui=4.0, est=4.058850210315736, details={'was_impossible': True, 'reason': 'User and/or item is unknown.'}),\n",
              " Prediction(uid='A37XMXG0080ZD', iid='B00001OWYM', r_ui=1.0, est=4.058850210315736, details={'was_impossible': True, 'reason': 'User and/or item is unknown.'}),\n",
              " Prediction(uid='A3W1TSZN0D7F55', iid='B000CRFOMK', r_ui=4.0, est=4.058850210315736, details={'was_impossible': True, 'reason': 'User and/or item is unknown.'}),\n",
              " Prediction(uid='AV511PXCWLD9A', iid='B000F3IRC0', r_ui=4.0, est=4.058850210315736, details={'was_impossible': True, 'reason': 'User and/or item is unknown.'}),\n",
              " Prediction(uid='A2PRSJ8YW9B5ZI', iid='B00019068G', r_ui=2.0, est=4.058850210315736, details={'was_impossible': True, 'reason': 'User and/or item is unknown.'}),\n",
              " Prediction(uid='A28H5MXAVC8264', iid='B0002LEMWE', r_ui=5.0, est=4.058850210315736, details={'was_impossible': True, 'reason': 'User and/or item is unknown.'}),\n",
              " Prediction(uid='AA0QJQRTWG7LR', iid='B00006JKW5', r_ui=3.0, est=4.058850210315736, details={'was_impossible': True, 'reason': 'User and/or item is unknown.'}),\n",
              " Prediction(uid='A3PLSE1DHYB3E5', iid='B0002KVQBA', r_ui=5.0, est=4.058850210315736, details={'was_impossible': True, 'reason': 'User and/or item is unknown.'}),\n",
              " Prediction(uid='ATBBZUFVS1SCW', iid='B0009WG6KM', r_ui=5.0, est=4.058850210315736, details={'was_impossible': True, 'reason': 'User and/or item is unknown.'}),\n",
              " Prediction(uid='AINW6Y0DP7V9H', iid='B0006FS2IQ', r_ui=4.0, est=4.058850210315736, details={'was_impossible': True, 'reason': 'User and/or item is unknown.'}),\n",
              " Prediction(uid='AQZLTKJ1IQILC', iid='B00008WMBT', r_ui=5.0, est=4.058850210315736, details={'was_impossible': True, 'reason': 'User and/or item is unknown.'}),\n",
              " Prediction(uid='ARWPZBR7JFRMH', iid='B000ANJVKW', r_ui=1.0, est=4.058850210315736, details={'was_impossible': True, 'reason': 'User and/or item is unknown.'}),\n",
              " Prediction(uid='A3U03OOZJ0X7LE', iid='B0002L5R78', r_ui=5.0, est=4.453698135898978, details={'actual_k': 0, 'was_impossible': False}),\n",
              " Prediction(uid='A5XIHFOWYKH2H', iid='B0007MXZB2', r_ui=4.0, est=4.058850210315736, details={'was_impossible': True, 'reason': 'User and/or item is unknown.'}),\n",
              " Prediction(uid='A1M8CIF0E07T23', iid='B0007MGFFU', r_ui=4.0, est=4.058850210315736, details={'was_impossible': True, 'reason': 'User and/or item is unknown.'}),\n",
              " Prediction(uid='A3TJU09MRYWOSA', iid='B000065BP9', r_ui=5.0, est=4.058850210315736, details={'was_impossible': True, 'reason': 'User and/or item is unknown.'}),\n",
              " Prediction(uid='A327RCPC47DW5A', iid='B00001ZWXA', r_ui=5.0, est=4.058850210315736, details={'was_impossible': True, 'reason': 'User and/or item is unknown.'}),\n",
              " Prediction(uid='AF9YSNBUKREN6', iid='B0002U1TJY', r_ui=1.0, est=4.058850210315736, details={'was_impossible': True, 'reason': 'User and/or item is unknown.'}),\n",
              " Prediction(uid='ANURJDDZKASTE', iid='B0007U9KAY', r_ui=5.0, est=4.058850210315736, details={'was_impossible': True, 'reason': 'User and/or item is unknown.'}),\n",
              " Prediction(uid='A1GUPBAMVB6C03', iid='B0009V6TL4', r_ui=5.0, est=4.058850210315736, details={'was_impossible': True, 'reason': 'User and/or item is unknown.'}),\n",
              " Prediction(uid='ATTFTGJKCAHV', iid='B00004ZCJE', r_ui=5.0, est=4.115039281705949, details={'actual_k': 0, 'was_impossible': False}),\n",
              " Prediction(uid='A2RKFF7D8I6IQP', iid='B0000BVV37', r_ui=3.0, est=3.6417910447761193, details={'actual_k': 0, 'was_impossible': False}),\n",
              " Prediction(uid='A2R2B6ZZ0H2OD', iid='B0009JB7GI', r_ui=5.0, est=4.058850210315736, details={'was_impossible': True, 'reason': 'User and/or item is unknown.'}),\n",
              " Prediction(uid='A2VWE41ZS0TYEN', iid='B00004SD88', r_ui=4.0, est=3.926829268292683, details={'actual_k': 0, 'was_impossible': False}),\n",
              " Prediction(uid='A2IS0U2MAN8T35', iid='B0000645RH', r_ui=1.0, est=4.058850210315736, details={'was_impossible': True, 'reason': 'User and/or item is unknown.'}),\n",
              " Prediction(uid='A1XIMK6VA40NC2', iid='B00008VWOJ', r_ui=5.0, est=4.058850210315736, details={'was_impossible': True, 'reason': 'User and/or item is unknown.'}),\n",
              " Prediction(uid='A2NZ57ENYIWQE0', iid='B00005N5X2', r_ui=5.0, est=4.57447266465777, details={'actual_k': 1, 'was_impossible': False}),\n",
              " Prediction(uid='A3NGQJ01UDYOAN', iid='B000066E6Y', r_ui=5.0, est=4.187368421052631, details={'actual_k': 0, 'was_impossible': False}),\n",
              " Prediction(uid='A1096NBOU4SP2H', iid='B000A2BLEC', r_ui=5.0, est=4.058850210315736, details={'was_impossible': True, 'reason': 'User and/or item is unknown.'}),\n",
              " Prediction(uid='AOUV2YO60FTJ', iid='B00009R6TA', r_ui=5.0, est=4.058850210315736, details={'was_impossible': True, 'reason': 'User and/or item is unknown.'}),\n",
              " Prediction(uid='A2QDKI6V2QJDIC', iid='B00005MNSS', r_ui=4.0, est=4.058850210315736, details={'was_impossible': True, 'reason': 'User and/or item is unknown.'}),\n",
              " Prediction(uid='A39V8RNO7OCRZC', iid='B000F1TD2A', r_ui=5.0, est=4.058850210315736, details={'was_impossible': True, 'reason': 'User and/or item is unknown.'}),\n",
              " Prediction(uid='A2ILHCWRWY4E46', iid='B000BQ7GW8', r_ui=5.0, est=4.058850210315736, details={'was_impossible': True, 'reason': 'User and/or item is unknown.'}),\n",
              " Prediction(uid='A1E9IQF7ST7O97', iid='B00009R6TA', r_ui=5.0, est=5, details={'actual_k': 1, 'was_impossible': False}),\n",
              " Prediction(uid='A2UL2NAHUCFSR1', iid='B0009TQB00', r_ui=1.0, est=4.058850210315736, details={'was_impossible': True, 'reason': 'User and/or item is unknown.'}),\n",
              " Prediction(uid='A3U2IPIJCGUHRI', iid='B000BP50AY', r_ui=1.0, est=4.058850210315736, details={'was_impossible': True, 'reason': 'User and/or item is unknown.'}),\n",
              " Prediction(uid='A10WXG8K6X94AL', iid='B00005ARK3', r_ui=5.0, est=4.058850210315736, details={'was_impossible': True, 'reason': 'User and/or item is unknown.'}),\n",
              " Prediction(uid='A2AGFIECS7XZ90', iid='B0000DIESW', r_ui=5.0, est=4.282051282051282, details={'actual_k': 0, 'was_impossible': False}),\n",
              " Prediction(uid='AZHQC1UM4EKK0', iid='B00093IIRA', r_ui=4.0, est=4.058850210315736, details={'was_impossible': True, 'reason': 'User and/or item is unknown.'}),\n",
              " Prediction(uid='A3CMKVU8RNYMAD', iid='B00009UHFI', r_ui=5.0, est=4.058850210315736, details={'was_impossible': True, 'reason': 'User and/or item is unknown.'}),\n",
              " Prediction(uid='A2IJISEKJ8S63D', iid='B000AJIF4E', r_ui=5.0, est=4.058850210315736, details={'was_impossible': True, 'reason': 'User and/or item is unknown.'}),\n",
              " Prediction(uid='AB9OQYGHTW3SJ', iid='B000EP4TWQ', r_ui=5.0, est=4.058850210315736, details={'was_impossible': True, 'reason': 'User and/or item is unknown.'}),\n",
              " Prediction(uid='A21L8UWNBECW98', iid='B0002BG6B4', r_ui=5.0, est=4.058850210315736, details={'was_impossible': True, 'reason': 'User and/or item is unknown.'}),\n",
              " Prediction(uid='A38UY9Z1PIU08P', iid='B0002BEPJY', r_ui=5.0, est=4.058850210315736, details={'was_impossible': True, 'reason': 'User and/or item is unknown.'}),\n",
              " Prediction(uid='A3IBO9FM46DIU8', iid='B0007P4G5I', r_ui=4.0, est=4.058850210315736, details={'was_impossible': True, 'reason': 'User and/or item is unknown.'}),\n",
              " Prediction(uid='A1DAA3W8URVWP7', iid='B000F7JCRA', r_ui=5.0, est=4.222560975609756, details={'actual_k': 0, 'was_impossible': False}),\n",
              " Prediction(uid='A8IL1EUPN3VIV', iid='B000652SZO', r_ui=3.0, est=4.058850210315736, details={'was_impossible': True, 'reason': 'User and/or item is unknown.'}),\n",
              " Prediction(uid='A22891LRKA59FC', iid='B00077AA5Q', r_ui=3.0, est=4.058850210315736, details={'was_impossible': True, 'reason': 'User and/or item is unknown.'}),\n",
              " Prediction(uid='A1X0CY8TIRK09B', iid='B0000645C8', r_ui=5.0, est=4.659090909090909, details={'actual_k': 0, 'was_impossible': False}),\n",
              " Prediction(uid='A1HEYE7HLM3UOS', iid='B00020M1U0', r_ui=5.0, est=5, details={'actual_k': 1, 'was_impossible': False}),\n",
              " Prediction(uid='A33DU13MQK5LBB', iid='B00009QOTA', r_ui=5.0, est=4.058850210315736, details={'was_impossible': True, 'reason': 'User and/or item is unknown.'}),\n",
              " Prediction(uid='A265VU5FKQMSQH', iid='B000F0ELOG', r_ui=5.0, est=4.058850210315736, details={'was_impossible': True, 'reason': 'User and/or item is unknown.'}),\n",
              " Prediction(uid='A1KDLMTQUSC6P5', iid='B00000JDF5', r_ui=5.0, est=4.058850210315736, details={'was_impossible': True, 'reason': 'User and/or item is unknown.'}),\n",
              " Prediction(uid='A25CBUW33ET2X4', iid='B000E1FYRO', r_ui=5.0, est=4.058850210315736, details={'was_impossible': True, 'reason': 'User and/or item is unknown.'}),\n",
              " Prediction(uid='A2AEF6V1F2B54E', iid='B0002HA7FY', r_ui=5.0, est=4.058850210315736, details={'was_impossible': True, 'reason': 'User and/or item is unknown.'}),\n",
              " Prediction(uid='A3R3DG3I0SYQLM', iid='B000261N6M', r_ui=4.0, est=4.058850210315736, details={'was_impossible': True, 'reason': 'User and/or item is unknown.'}),\n",
              " Prediction(uid='A2906N9V5I3H6H', iid='B00008I8OP', r_ui=5.0, est=3.425925925925926, details={'actual_k': 0, 'was_impossible': False}),\n",
              " Prediction(uid='A1YVRH633QYK15', iid='B000EMWBV0', r_ui=1.0, est=4.058850210315736, details={'was_impossible': True, 'reason': 'User and/or item is unknown.'}),\n",
              " Prediction(uid='A15WHO49A3GIU9', iid='B0008G1VCC', r_ui=4.0, est=4.058850210315736, details={'was_impossible': True, 'reason': 'User and/or item is unknown.'}),\n",
              " Prediction(uid='A163EIJ1NDSDQ0', iid='B000AMLXHW', r_ui=5.0, est=4.058850210315736, details={'was_impossible': True, 'reason': 'User and/or item is unknown.'}),\n",
              " Prediction(uid='A3VM5GO51NYJNQ', iid='B0007VE044', r_ui=3.0, est=4.058850210315736, details={'was_impossible': True, 'reason': 'User and/or item is unknown.'}),\n",
              " Prediction(uid='A1FB2GNJWWQT6O', iid='B000BDG3HU', r_ui=5.0, est=4.058850210315736, details={'was_impossible': True, 'reason': 'User and/or item is unknown.'}),\n",
              " Prediction(uid='A2NI78TLCLF7Z2', iid='B0007SL4IW', r_ui=5.0, est=4.058850210315736, details={'was_impossible': True, 'reason': 'User and/or item is unknown.'}),\n",
              " Prediction(uid='A3JFS5L7CDHA5J', iid='B000BQ7GW8', r_ui=5.0, est=4.058850210315736, details={'was_impossible': True, 'reason': 'User and/or item is unknown.'}),\n",
              " Prediction(uid='A2KDCY3G0D4X95', iid='B0007MWE28', r_ui=5.0, est=4.354285714285714, details={'actual_k': 0, 'was_impossible': False}),\n",
              " Prediction(uid='AW6HLT9XKM7H6', iid='B0000AE68P', r_ui=5.0, est=4.058850210315736, details={'was_impossible': True, 'reason': 'User and/or item is unknown.'}),\n",
              " Prediction(uid='A2D25ROXJ9BGUF', iid='B000EIZJF4', r_ui=4.0, est=4.058850210315736, details={'was_impossible': True, 'reason': 'User and/or item is unknown.'}),\n",
              " Prediction(uid='A3680E38PXMEK5', iid='B000EIXX4S', r_ui=4.0, est=4.50814332247557, details={'actual_k': 0, 'was_impossible': False}),\n",
              " Prediction(uid='A7LJ9SIAWZW4', iid='B000779RZA', r_ui=3.0, est=4.058850210315736, details={'was_impossible': True, 'reason': 'User and/or item is unknown.'}),\n",
              " Prediction(uid='A9I0VR3L7X0H7', iid='B000EPOPQG', r_ui=5.0, est=4.058850210315736, details={'was_impossible': True, 'reason': 'User and/or item is unknown.'}),\n",
              " Prediction(uid='A2M3ER6JDX3JC0', iid='B0001FTVEK', r_ui=1.0, est=4.058850210315736, details={'was_impossible': True, 'reason': 'User and/or item is unknown.'}),\n",
              " Prediction(uid='A3B20TNQ4SU5S6', iid='B0007WTHLY', r_ui=4.0, est=4.058850210315736, details={'was_impossible': True, 'reason': 'User and/or item is unknown.'}),\n",
              " Prediction(uid='AEN87LDB7TKCN', iid='B0009JFF7A', r_ui=5.0, est=4.058850210315736, details={'was_impossible': True, 'reason': 'User and/or item is unknown.'}),\n",
              " Prediction(uid='A2HXODA8FETM25', iid='B000EVM5DK', r_ui=4.0, est=4.058850210315736, details={'was_impossible': True, 'reason': 'User and/or item is unknown.'}),\n",
              " Prediction(uid='AJTLUBNR90HRM', iid='B000AAZQM2', r_ui=5.0, est=4.058850210315736, details={'was_impossible': True, 'reason': 'User and/or item is unknown.'}),\n",
              " Prediction(uid='A1P85U8JNZ9NVS', iid='B000F28DP2', r_ui=5.0, est=4.058850210315736, details={'was_impossible': True, 'reason': 'User and/or item is unknown.'}),\n",
              " Prediction(uid='A2FIU55UBXKLVM', iid='B0001FV36E', r_ui=5.0, est=3.727626459143969, details={'actual_k': 0, 'was_impossible': False}),\n",
              " Prediction(uid='A10YGJ79PUAHVF', iid='B0009KUHLI', r_ui=4.0, est=4.058850210315736, details={'was_impossible': True, 'reason': 'User and/or item is unknown.'}),\n",
              " Prediction(uid='A122P6L3QZ7DJM', iid='B000CATP4A', r_ui=5.0, est=4.058850210315736, details={'was_impossible': True, 'reason': 'User and/or item is unknown.'}),\n",
              " Prediction(uid='A219CBDNLGGH88', iid='B00009R6WT', r_ui=5.0, est=4.5115384615384615, details={'actual_k': 0, 'was_impossible': False}),\n",
              " Prediction(uid='A1A96IXSGCF2U8', iid='B0002375F8', r_ui=3.0, est=3.425925925925926, details={'actual_k': 0, 'was_impossible': False}),\n",
              " Prediction(uid='A392XTV699K1GY', iid='B000067SOH', r_ui=5.0, est=4.058850210315736, details={'was_impossible': True, 'reason': 'User and/or item is unknown.'}),\n",
              " Prediction(uid='A25HPT8WKGSRP4', iid='B0000228GG', r_ui=5.0, est=4.058850210315736, details={'was_impossible': True, 'reason': 'User and/or item is unknown.'}),\n",
              " Prediction(uid='A16SMVEBWI74PX', iid='B0007VPFI4', r_ui=5.0, est=4.058850210315736, details={'was_impossible': True, 'reason': 'User and/or item is unknown.'}),\n",
              " Prediction(uid='ASTPE52M01A90', iid='B000CSQJ8C', r_ui=4.0, est=4.058850210315736, details={'was_impossible': True, 'reason': 'User and/or item is unknown.'}),\n",
              " Prediction(uid='A22AG8CG4CRS88', iid='B00093IIRA', r_ui=5.0, est=4.058850210315736, details={'was_impossible': True, 'reason': 'User and/or item is unknown.'}),\n",
              " Prediction(uid='A4TRW9IKMK66A', iid='B0007Y794O', r_ui=4.0, est=4.571030640668524, details={'actual_k': 0, 'was_impossible': False}),\n",
              " Prediction(uid='A33CNFK776MTWR', iid='B00000K13L', r_ui=5.0, est=4.746478873239437, details={'actual_k': 0, 'was_impossible': False}),\n",
              " Prediction(uid='A3V3NS1H1I27A6', iid='B00006JPKE', r_ui=3.0, est=4.058850210315736, details={'was_impossible': True, 'reason': 'User and/or item is unknown.'}),\n",
              " Prediction(uid='A1FHPQI7H9E8R8', iid='B0000TNZDK', r_ui=5.0, est=4.489795918367347, details={'actual_k': 0, 'was_impossible': False}),\n",
              " Prediction(uid='A28CDAJTPLO4Z6', iid='B0007NWLXO', r_ui=1.0, est=4.058850210315736, details={'was_impossible': True, 'reason': 'User and/or item is unknown.'}),\n",
              " Prediction(uid='ACPTCT0C57LRT', iid='B000A6PPOK', r_ui=4.0, est=4.058850210315736, details={'was_impossible': True, 'reason': 'User and/or item is unknown.'}),\n",
              " Prediction(uid='A3BHX7QHXA3HMV', iid='B0007R4LI8', r_ui=5.0, est=4.058850210315736, details={'was_impossible': True, 'reason': 'User and/or item is unknown.'}),\n",
              " Prediction(uid='A2TBAUW2W7J538', iid='B000068NYF', r_ui=4.0, est=4.486111111111111, details={'actual_k': 0, 'was_impossible': False}),\n",
              " Prediction(uid='A3LCFBEZITU0EZ', iid='B0006U3ACY', r_ui=5.0, est=4.058850210315736, details={'was_impossible': True, 'reason': 'User and/or item is unknown.'}),\n",
              " Prediction(uid='A20IKR91UVDL8J', iid='B0009PXEEU', r_ui=2.0, est=4.058850210315736, details={'was_impossible': True, 'reason': 'User and/or item is unknown.'}),\n",
              " Prediction(uid='A23L8U0S2GU509', iid='B000F7857S', r_ui=4.0, est=4.058850210315736, details={'was_impossible': True, 'reason': 'User and/or item is unknown.'}),\n",
              " Prediction(uid='A1H0GTJFV97RBI', iid='B0007M3PK8', r_ui=1.0, est=4.058850210315736, details={'was_impossible': True, 'reason': 'User and/or item is unknown.'}),\n",
              " Prediction(uid='A2TFNPSEISPS1M', iid='B00004WHE5', r_ui=2.0, est=4.058850210315736, details={'was_impossible': True, 'reason': 'User and/or item is unknown.'}),\n",
              " Prediction(uid='A2UTUG7SPOWV8O', iid='B0007Z1M50', r_ui=5.0, est=4.058850210315736, details={'was_impossible': True, 'reason': 'User and/or item is unknown.'}),\n",
              " Prediction(uid='A1GJTNLAL4KB5V', iid='B000E7QRQK', r_ui=5.0, est=4.058850210315736, details={'was_impossible': True, 'reason': 'User and/or item is unknown.'}),\n",
              " Prediction(uid='A3GV4F7X8TAH1X', iid='B0007OWNCC', r_ui=5.0, est=4.058850210315736, details={'was_impossible': True, 'reason': 'User and/or item is unknown.'}),\n",
              " Prediction(uid='A1T66NODBMTJG6', iid='B000A6PPOK', r_ui=4.0, est=4.058850210315736, details={'was_impossible': True, 'reason': 'User and/or item is unknown.'}),\n",
              " Prediction(uid='A1BH9DTTB885GC', iid='B00004WCIC', r_ui=1.0, est=4.456338028169014, details={'actual_k': 0, 'was_impossible': False}),\n",
              " Prediction(uid='A33WUT56NXX0FO', iid='B00004SB92', r_ui=5.0, est=3.908707865168539, details={'actual_k': 0, 'was_impossible': False}),\n",
              " Prediction(uid='A3VDWPD1O2PZEY', iid='9625993428', r_ui=4.0, est=4.058850210315736, details={'was_impossible': True, 'reason': 'User and/or item is unknown.'}),\n",
              " Prediction(uid='A4GI4654JA8NK', iid='B00001WRSJ', r_ui=5.0, est=4.058850210315736, details={'was_impossible': True, 'reason': 'User and/or item is unknown.'}),\n",
              " Prediction(uid='A2V3CU55C7ZII7', iid='B000CRT07U', r_ui=5.0, est=4.058850210315736, details={'was_impossible': True, 'reason': 'User and/or item is unknown.'}),\n",
              " Prediction(uid='A24828R101R9PE', iid='B00022AVDM', r_ui=5.0, est=4.058850210315736, details={'was_impossible': True, 'reason': 'User and/or item is unknown.'}),\n",
              " Prediction(uid='ATWHSTLBV7DFR', iid='B000E5GGQI', r_ui=5.0, est=4.086956521739131, details={'actual_k': 0, 'was_impossible': False}),\n",
              " Prediction(uid='A2FUV3IFZKFFCX', iid='B000BWACX2', r_ui=5.0, est=4.058850210315736, details={'was_impossible': True, 'reason': 'User and/or item is unknown.'}),\n",
              " Prediction(uid='A106ZQRWX7LI88', iid='B0001DHHIY', r_ui=4.0, est=4.058850210315736, details={'was_impossible': True, 'reason': 'User and/or item is unknown.'}),\n",
              " Prediction(uid='A1F9A5DTM0799W', iid='B00009V332', r_ui=5.0, est=4.058850210315736, details={'was_impossible': True, 'reason': 'User and/or item is unknown.'}),\n",
              " Prediction(uid='A945RBQWGZXCK', iid='B00007E7NH', r_ui=1.0, est=4.058850210315736, details={'was_impossible': True, 'reason': 'User and/or item is unknown.'}),\n",
              " Prediction(uid='AA1ZBC2OY1E44', iid='B00020S7XK', r_ui=4.0, est=4.40265780730897, details={'actual_k': 0, 'was_impossible': False}),\n",
              " Prediction(uid='A3CGGFEQL9ACBV', iid='B0002H4YUI', r_ui=4.0, est=4.058850210315736, details={'was_impossible': True, 'reason': 'User and/or item is unknown.'}),\n",
              " Prediction(uid='A2XERPWD8GJK8', iid='B000FCSXBQ', r_ui=5.0, est=4.058850210315736, details={'was_impossible': True, 'reason': 'User and/or item is unknown.'}),\n",
              " Prediction(uid='AO7WHBULSDX34', iid='B0007U00X0', r_ui=3.0, est=4.058850210315736, details={'was_impossible': True, 'reason': 'User and/or item is unknown.'}),\n",
              " Prediction(uid='A2V005I93G829', iid='B0001OY2W2', r_ui=1.0, est=2.9292929292929295, details={'actual_k': 0, 'was_impossible': False}),\n",
              " Prediction(uid='AA3ZKPRLWCULP', iid='B00009U0XI', r_ui=5.0, est=4.058850210315736, details={'was_impossible': True, 'reason': 'User and/or item is unknown.'}),\n",
              " Prediction(uid='A3AMVG8APTWAWB', iid='B000092YPR', r_ui=2.0, est=4.058850210315736, details={'was_impossible': True, 'reason': 'User and/or item is unknown.'}),\n",
              " Prediction(uid='A19AS865ND8FU8', iid='B0009MZ9UK', r_ui=5.0, est=4.058850210315736, details={'was_impossible': True, 'reason': 'User and/or item is unknown.'}),\n",
              " Prediction(uid='A23C3JAUNZLYR7', iid='B000ENRQ3M', r_ui=4.0, est=4.058850210315736, details={'was_impossible': True, 'reason': 'User and/or item is unknown.'}),\n",
              " Prediction(uid='AE8QRU5H5PWV3', iid='B000CRFI8A', r_ui=5.0, est=3.5251798561151078, details={'actual_k': 0, 'was_impossible': False}),\n",
              " Prediction(uid='A3PCFLXA8J1D1J', iid='B000DZKNM2', r_ui=5.0, est=4.058850210315736, details={'was_impossible': True, 'reason': 'User and/or item is unknown.'}),\n",
              " Prediction(uid='A3NBTGA5LJIW4M', iid='B000BQ57BU', r_ui=5.0, est=4.058850210315736, details={'was_impossible': True, 'reason': 'User and/or item is unknown.'}),\n",
              " Prediction(uid='AE00UZ934PHEH', iid='B000B9RI14', r_ui=5.0, est=4.058850210315736, details={'was_impossible': True, 'reason': 'User and/or item is unknown.'}),\n",
              " Prediction(uid='A2MD7JL5H2NDHK', iid='B000E1PXES', r_ui=1.0, est=4.058850210315736, details={'was_impossible': True, 'reason': 'User and/or item is unknown.'}),\n",
              " Prediction(uid='AVXVXFTUMRXYQ', iid='B000069K98', r_ui=2.0, est=4.058850210315736, details={'was_impossible': True, 'reason': 'User and/or item is unknown.'}),\n",
              " Prediction(uid='A2S56P77AMJNCU', iid='B0001FV364', r_ui=5.0, est=4.058850210315736, details={'was_impossible': True, 'reason': 'User and/or item is unknown.'}),\n",
              " Prediction(uid='A1F9FACPRGWUD3', iid='B0002L5R78', r_ui=5.0, est=4.058850210315736, details={'was_impossible': True, 'reason': 'User and/or item is unknown.'}),\n",
              " Prediction(uid='AM4FY85Y8A6ZG', iid='B0003QER7S', r_ui=5.0, est=4.058850210315736, details={'was_impossible': True, 'reason': 'User and/or item is unknown.'}),\n",
              " Prediction(uid='A3QVOLQCX6YHRC', iid='B000CHRK6S', r_ui=2.0, est=4.058850210315736, details={'was_impossible': True, 'reason': 'User and/or item is unknown.'}),\n",
              " Prediction(uid='A2WAPVDIMA3J82', iid='B000BUEMOO', r_ui=4.0, est=4.058850210315736, details={'was_impossible': True, 'reason': 'User and/or item is unknown.'}),\n",
              " Prediction(uid='A2B1CLJ1DSTU1G', iid='B000AOAAN8', r_ui=5.0, est=4.058850210315736, details={'was_impossible': True, 'reason': 'User and/or item is unknown.'}),\n",
              " Prediction(uid='A2N0E5MU1E1G28', iid='B000EWD4TS', r_ui=3.0, est=4.058850210315736, details={'was_impossible': True, 'reason': 'User and/or item is unknown.'}),\n",
              " Prediction(uid='A2ANIO9P7WE1SX', iid='B00005T406', r_ui=4.0, est=4.058850210315736, details={'was_impossible': True, 'reason': 'User and/or item is unknown.'}),\n",
              " Prediction(uid='A5PJXV6FGQ7FB', iid='B00005TQ08', r_ui=3.0, est=4.058850210315736, details={'was_impossible': True, 'reason': 'User and/or item is unknown.'}),\n",
              " Prediction(uid='A2M2522FFM497K', iid='B0001A99MO', r_ui=4.0, est=3.9135802469135803, details={'actual_k': 0, 'was_impossible': False}),\n",
              " Prediction(uid='A1HY3I54NKI8EC', iid='B00009ZWC8', r_ui=5.0, est=4.058850210315736, details={'was_impossible': True, 'reason': 'User and/or item is unknown.'}),\n",
              " Prediction(uid='A3DJZNOYB5GT2R', iid='B0007N55NM', r_ui=1.0, est=3.6517412935323383, details={'actual_k': 0, 'was_impossible': False}),\n",
              " Prediction(uid='AOR99K66DTRQZ', iid='B0000AZ0OP', r_ui=5.0, est=4.058850210315736, details={'was_impossible': True, 'reason': 'User and/or item is unknown.'}),\n",
              " Prediction(uid='A26AM4KTHJVV8I', iid='9985511476', r_ui=5.0, est=4.058850210315736, details={'was_impossible': True, 'reason': 'User and/or item is unknown.'}),\n",
              " Prediction(uid='A1QC8LKXZUGBUV', iid='B0002JUHS4', r_ui=5.0, est=4.361702127659575, details={'actual_k': 0, 'was_impossible': False}),\n",
              " Prediction(uid='A2KVYT8JX39EE1', iid='B000BFNOT8', r_ui=5.0, est=4.058850210315736, details={'was_impossible': True, 'reason': 'User and/or item is unknown.'}),\n",
              " Prediction(uid='A2LL922IRW1J54', iid='B000EMU4HS', r_ui=5.0, est=4.058850210315736, details={'was_impossible': True, 'reason': 'User and/or item is unknown.'}),\n",
              " Prediction(uid='A2N6MS2FNKU5PS', iid='B00022OBO2', r_ui=5.0, est=3.7527472527472527, details={'actual_k': 0, 'was_impossible': False}),\n",
              " Prediction(uid='ALQJ6F3M9A2T4', iid='B0007UVRVO', r_ui=1.0, est=3.5283018867924527, details={'actual_k': 0, 'was_impossible': False}),\n",
              " Prediction(uid='A16PZJU3R06AS2', iid='B0001F22PA', r_ui=4.0, est=4.058850210315736, details={'was_impossible': True, 'reason': 'User and/or item is unknown.'}),\n",
              " Prediction(uid='A2ZZXWEPXV5D0P', iid='B000652SOK', r_ui=5.0, est=4.058850210315736, details={'was_impossible': True, 'reason': 'User and/or item is unknown.'}),\n",
              " Prediction(uid='AOOS9WXCDPC5Y', iid='B00008W2LC', r_ui=4.0, est=4.488372093023256, details={'actual_k': 0, 'was_impossible': False}),\n",
              " Prediction(uid='A1KC4BLBICBPS1', iid='B0006A7X36', r_ui=5.0, est=4.058850210315736, details={'was_impossible': True, 'reason': 'User and/or item is unknown.'}),\n",
              " Prediction(uid='A265QBJ6GNMPRM', iid='B0002UM0JW', r_ui=5.0, est=4.058850210315736, details={'was_impossible': True, 'reason': 'User and/or item is unknown.'}),\n",
              " Prediction(uid='A3ACEBEOR2MZTZ', iid='B000AM6QHO', r_ui=5.0, est=4.023809523809524, details={'actual_k': 0, 'was_impossible': False}),\n",
              " Prediction(uid='A3IQ1AOA2MYNBY', iid='B00066IJPQ', r_ui=5.0, est=4.058850210315736, details={'was_impossible': True, 'reason': 'User and/or item is unknown.'}),\n",
              " Prediction(uid='A2Z7IMHSP2JTOR', iid='B000063CWP', r_ui=2.0, est=4.058850210315736, details={'was_impossible': True, 'reason': 'User and/or item is unknown.'}),\n",
              " Prediction(uid='A25LUYSMYCT7ZN', iid='B0002QLQ96', r_ui=4.0, est=4.058850210315736, details={'was_impossible': True, 'reason': 'User and/or item is unknown.'}),\n",
              " Prediction(uid='A79ZQB4HTKJ3M', iid='B0002L5R78', r_ui=4.0, est=4.058850210315736, details={'was_impossible': True, 'reason': 'User and/or item is unknown.'}),\n",
              " Prediction(uid='A1WQUCCKUSNFO0', iid='B000097O5F', r_ui=4.0, est=4.5625, details={'actual_k': 0, 'was_impossible': False}),\n",
              " Prediction(uid='AHFZ132NUTLH1', iid='B000A6NUU6', r_ui=4.0, est=4.058850210315736, details={'was_impossible': True, 'reason': 'User and/or item is unknown.'}),\n",
              " Prediction(uid='A3FU3SWFFKDWS1', iid='B000AXQN12', r_ui=5.0, est=4.058850210315736, details={'was_impossible': True, 'reason': 'User and/or item is unknown.'}),\n",
              " Prediction(uid='A2VA5Q8FDCT1KH', iid='B0001XGQTA', r_ui=5.0, est=4.656488549618321, details={'actual_k': 0, 'was_impossible': False}),\n",
              " Prediction(uid='A2EWAF7XYD1BKU', iid='B000063574', r_ui=5.0, est=4.239766081871345, details={'actual_k': 0, 'was_impossible': False}),\n",
              " Prediction(uid='A100WO06OQR8BQ', iid='B00006RVPW', r_ui=5.0, est=1.109011069775204, details={'actual_k': 2, 'was_impossible': False}),\n",
              " Prediction(uid='A3SVKWTUVVV4ML', iid='B000A1ESIO', r_ui=4.0, est=4.058850210315736, details={'was_impossible': True, 'reason': 'User and/or item is unknown.'}),\n",
              " Prediction(uid='A2VJHBUM3BPBEK', iid='B000EHUFLI', r_ui=4.0, est=4.058850210315736, details={'was_impossible': True, 'reason': 'User and/or item is unknown.'}),\n",
              " Prediction(uid='AI6IKIHAVLM01', iid='B00000J1EJ', r_ui=5.0, est=4.058850210315736, details={'was_impossible': True, 'reason': 'User and/or item is unknown.'}),\n",
              " Prediction(uid='A1HQDTFMR14SRA', iid='B00004Z5D1', r_ui=5.0, est=4.058850210315736, details={'was_impossible': True, 'reason': 'User and/or item is unknown.'}),\n",
              " Prediction(uid='A2XSIP3KGDL7P', iid='B000CS7U1C', r_ui=5.0, est=4.058850210315736, details={'was_impossible': True, 'reason': 'User and/or item is unknown.'}),\n",
              " Prediction(uid='A1Q7MDE5H2VYBN', iid='B00006JQ06', r_ui=5.0, est=4.058850210315736, details={'was_impossible': True, 'reason': 'User and/or item is unknown.'}),\n",
              " Prediction(uid='A373QWNR1L0R0Y', iid='B000EA0DEO', r_ui=5.0, est=4.058850210315736, details={'was_impossible': True, 'reason': 'User and/or item is unknown.'}),\n",
              " Prediction(uid='A1QQRZ218AC3ZO', iid='B000C1Z0HA', r_ui=5.0, est=4.058850210315736, details={'was_impossible': True, 'reason': 'User and/or item is unknown.'}),\n",
              " Prediction(uid='A6WCMRSKHKE0C', iid='B00008SCFL', r_ui=1.0, est=4.058850210315736, details={'was_impossible': True, 'reason': 'User and/or item is unknown.'}),\n",
              " Prediction(uid='A2H5LR3VHM0TIY', iid='B0000A1GOF', r_ui=5.0, est=4.314814814814815, details={'actual_k': 0, 'was_impossible': False}),\n",
              " Prediction(uid='A3T1S9ZTHNLVJY', iid='B0001FTVDQ', r_ui=4.0, est=3.9094163981382026, details={'actual_k': 1, 'was_impossible': False}),\n",
              " Prediction(uid='AATKZKSH21LIU', iid='B0002JY712', r_ui=5.0, est=4.058850210315736, details={'was_impossible': True, 'reason': 'User and/or item is unknown.'}),\n",
              " Prediction(uid='AUUPXBGMLM3CX', iid='B000093UPO', r_ui=4.0, est=4.27906976744186, details={'actual_k': 0, 'was_impossible': False}),\n",
              " Prediction(uid='ACZA9VXF7M84', iid='B00009R94Q', r_ui=4.0, est=4.252336448598131, details={'actual_k': 0, 'was_impossible': False}),\n",
              " Prediction(uid='A317C0OSH7H9QO', iid='B0007LI13U', r_ui=5.0, est=4.058850210315736, details={'was_impossible': True, 'reason': 'User and/or item is unknown.'}),\n",
              " Prediction(uid='A2K8NUOWYX6UMP', iid='B000779RZA', r_ui=5.0, est=3.7934272300469485, details={'actual_k': 0, 'was_impossible': False}),\n",
              " Prediction(uid='A2VLPSHQV93TF5', iid='B00067LYFW', r_ui=5.0, est=4.058850210315736, details={'was_impossible': True, 'reason': 'User and/or item is unknown.'}),\n",
              " Prediction(uid='A3BGZT7VSOVMVH', iid='B0002MQGOK', r_ui=5.0, est=4.058850210315736, details={'was_impossible': True, 'reason': 'User and/or item is unknown.'}),\n",
              " Prediction(uid='A13Z9QXOOPISS8', iid='B00067OS0A', r_ui=5.0, est=4.058850210315736, details={'was_impossible': True, 'reason': 'User and/or item is unknown.'}),\n",
              " Prediction(uid='A2OI2MV02S58I8', iid='B000B5XU06', r_ui=4.0, est=4.058850210315736, details={'was_impossible': True, 'reason': 'User and/or item is unknown.'}),\n",
              " Prediction(uid='A1W3VM04MCB0UJ', iid='B000AQF4JG', r_ui=5.0, est=4.058850210315736, details={'was_impossible': True, 'reason': 'User and/or item is unknown.'}),\n",
              " Prediction(uid='AHZYI1KAJSQP6', iid='B0007DDK7A', r_ui=3.0, est=4.2265625, details={'actual_k': 0, 'was_impossible': False}),\n",
              " Prediction(uid='A35046X6FYKGNA', iid='B000A5TAT2', r_ui=5.0, est=4.058850210315736, details={'was_impossible': True, 'reason': 'User and/or item is unknown.'}),\n",
              " Prediction(uid='A3F3UARRAYEQH6', iid='B0001H27PS', r_ui=5.0, est=4.428571428571429, details={'actual_k': 0, 'was_impossible': False}),\n",
              " Prediction(uid='A2193BGMW1XVBS', iid='B00006HYP6', r_ui=1.0, est=4.058850210315736, details={'was_impossible': True, 'reason': 'User and/or item is unknown.'}),\n",
              " Prediction(uid='A84T8Q141GE57', iid='B0002L5R78', r_ui=5.0, est=4.453698135898978, details={'actual_k': 0, 'was_impossible': False}),\n",
              " Prediction(uid='A1MGNB7TB9XIQ2', iid='B0000BZL1P', r_ui=4.0, est=4.058850210315736, details={'was_impossible': True, 'reason': 'User and/or item is unknown.'}),\n",
              " Prediction(uid='A2JTKNC6AQM3BW', iid='B00006HOAN', r_ui=1.0, est=4.058850210315736, details={'was_impossible': True, 'reason': 'User and/or item is unknown.'}),\n",
              " Prediction(uid='A40P9CE7RCMUK', iid='B0009GBRS4', r_ui=5.0, est=3.8461538461538463, details={'actual_k': 0, 'was_impossible': False}),\n",
              " Prediction(uid='A197BUVHYA57K', iid='B0009RML8S', r_ui=1.0, est=4.058850210315736, details={'was_impossible': True, 'reason': 'User and/or item is unknown.'}),\n",
              " Prediction(uid='A5818C12PHEF9', iid='B0000A2QBP', r_ui=5.0, est=4.058850210315736, details={'was_impossible': True, 'reason': 'User and/or item is unknown.'}),\n",
              " Prediction(uid='A2GAE17O3CLHME', iid='B00080O0UI', r_ui=5.0, est=4.058850210315736, details={'was_impossible': True, 'reason': 'User and/or item is unknown.'}),\n",
              " Prediction(uid='A3K1O4D0039N29', iid='B000089GN2', r_ui=1.0, est=4.058850210315736, details={'was_impossible': True, 'reason': 'User and/or item is unknown.'}),\n",
              " Prediction(uid='A2VK5HNLGA02SA', iid='B0001KWGP6', r_ui=4.0, est=4.058850210315736, details={'was_impossible': True, 'reason': 'User and/or item is unknown.'}),\n",
              " Prediction(uid='ADT3I6IN9TMBM', iid='B00007EDZG', r_ui=5.0, est=4.058850210315736, details={'was_impossible': True, 'reason': 'User and/or item is unknown.'}),\n",
              " Prediction(uid='A3VZVJJ1G1CPGT', iid='B0009MFTSW', r_ui=2.0, est=3.418181818181818, details={'actual_k': 0, 'was_impossible': False}),\n",
              " Prediction(uid='A16GY2FUUGXRZL', iid='B000BWACX2', r_ui=4.0, est=4.058850210315736, details={'was_impossible': True, 'reason': 'User and/or item is unknown.'}),\n",
              " Prediction(uid='A278Y42C1797C6', iid='B0000CE1UO', r_ui=4.0, est=4.058850210315736, details={'was_impossible': True, 'reason': 'User and/or item is unknown.'}),\n",
              " Prediction(uid='AVSZM3DGXXO8T', iid='B0002A0206', r_ui=5.0, est=4.058850210315736, details={'was_impossible': True, 'reason': 'User and/or item is unknown.'}),\n",
              " Prediction(uid='A2D0OF82HT7W8A', iid='B000B0NC2W', r_ui=5.0, est=4.058850210315736, details={'was_impossible': True, 'reason': 'User and/or item is unknown.'}),\n",
              " Prediction(uid='A3HOQ9C7UMZQCS', iid='B00008XOMX', r_ui=3.0, est=3.9375, details={'actual_k': 0, 'was_impossible': False}),\n",
              " Prediction(uid='A37WPGQQJWBNY9', iid='B0001V3AVY', r_ui=5.0, est=4.058850210315736, details={'was_impossible': True, 'reason': 'User and/or item is unknown.'}),\n",
              " Prediction(uid='A2IINCA81VC514', iid='B000EEQ83K', r_ui=5.0, est=4.058850210315736, details={'was_impossible': True, 'reason': 'User and/or item is unknown.'}),\n",
              " Prediction(uid='A1EKA4B5GNIGY', iid='B0009VT9MU', r_ui=1.0, est=4.058850210315736, details={'was_impossible': True, 'reason': 'User and/or item is unknown.'}),\n",
              " Prediction(uid='A2TPG89E43NFGC', iid='B0002IWC9C', r_ui=5.0, est=4.058850210315736, details={'was_impossible': True, 'reason': 'User and/or item is unknown.'}),\n",
              " Prediction(uid='A1FYZTV48QTL3P', iid='B00005T6GZ', r_ui=5.0, est=4.220125786163522, details={'actual_k': 0, 'was_impossible': False}),\n",
              " Prediction(uid='A233V23SAVWLKJ', iid='B00008SB1D', r_ui=1.0, est=4.058850210315736, details={'was_impossible': True, 'reason': 'User and/or item is unknown.'}),\n",
              " Prediction(uid='A2825VP4YS60G3', iid='B0002UB2Q4', r_ui=4.0, est=4.058850210315736, details={'was_impossible': True, 'reason': 'User and/or item is unknown.'}),\n",
              " Prediction(uid='A3EI5IWPHAMNVD', iid='B00020S7XK', r_ui=5.0, est=4.058850210315736, details={'was_impossible': True, 'reason': 'User and/or item is unknown.'}),\n",
              " Prediction(uid='A3VZBU8DLY36NT', iid='B000B9RI14', r_ui=5.0, est=4.7801318267419965, details={'actual_k': 0, 'was_impossible': False}),\n",
              " Prediction(uid='A1GWS96ZE7I2X9', iid='B00083XXTY', r_ui=2.0, est=4.058850210315736, details={'was_impossible': True, 'reason': 'User and/or item is unknown.'}),\n",
              " Prediction(uid='AQ083TB52JEXN', iid='B000EOPQ7E', r_ui=5.0, est=4.387654320987655, details={'actual_k': 0, 'was_impossible': False}),\n",
              " Prediction(uid='A2T1GVZHWJIW40', iid='B00006343O', r_ui=5.0, est=4.444444444444445, details={'actual_k': 0, 'was_impossible': False}),\n",
              " Prediction(uid='A3MAAWVPEI1W1F', iid='B0000AI0OE', r_ui=3.0, est=4.058850210315736, details={'was_impossible': True, 'reason': 'User and/or item is unknown.'}),\n",
              " Prediction(uid='A3NSXT4DHBB160', iid='B000E43GOO', r_ui=5.0, est=4.058850210315736, details={'was_impossible': True, 'reason': 'User and/or item is unknown.'}),\n",
              " Prediction(uid='A24UUJ5C7JZB2I', iid='B00004UE2R', r_ui=5.0, est=4.058850210315736, details={'was_impossible': True, 'reason': 'User and/or item is unknown.'}),\n",
              " Prediction(uid='A2EW2R0T846W9M', iid='B00008J6VW', r_ui=4.0, est=4.058850210315736, details={'was_impossible': True, 'reason': 'User and/or item is unknown.'}),\n",
              " Prediction(uid='AFGZ8M9ETYW3B', iid='B00007E7C8', r_ui=4.0, est=4.058850210315736, details={'was_impossible': True, 'reason': 'User and/or item is unknown.'}),\n",
              " Prediction(uid='A31N5Q1PV3YRTP', iid='B00006JPWW', r_ui=5.0, est=4.058850210315736, details={'was_impossible': True, 'reason': 'User and/or item is unknown.'}),\n",
              " Prediction(uid='A1EN5YC94IR1G9', iid='B000065BP9', r_ui=5.0, est=4.058850210315736, details={'was_impossible': True, 'reason': 'User and/or item is unknown.'}),\n",
              " Prediction(uid='A14K0BSEB47DY7', iid='B000CS1TLE', r_ui=5.0, est=4.058850210315736, details={'was_impossible': True, 'reason': 'User and/or item is unknown.'}),\n",
              " Prediction(uid='A2A99FZPLFQ66O', iid='B000AP05BO', r_ui=5.0, est=4.058850210315736, details={'was_impossible': True, 'reason': 'User and/or item is unknown.'}),\n",
              " Prediction(uid='AD2P44RC27KF6', iid='B00004Y7TC', r_ui=5.0, est=4.058850210315736, details={'was_impossible': True, 'reason': 'User and/or item is unknown.'}),\n",
              " Prediction(uid='A1MYXTUQVU3B2K', iid='B0002D03ZW', r_ui=3.0, est=4.058850210315736, details={'was_impossible': True, 'reason': 'User and/or item is unknown.'}),\n",
              " Prediction(uid='A3LER9DEOW3YWU', iid='B00007EDZG', r_ui=5.0, est=4.058850210315736, details={'was_impossible': True, 'reason': 'User and/or item is unknown.'}),\n",
              " Prediction(uid='AE01BG3I6JOBX', iid='B000246ST6', r_ui=4.0, est=4.058850210315736, details={'was_impossible': True, 'reason': 'User and/or item is unknown.'}),\n",
              " Prediction(uid='A1QW4IRZAU3Q9O', iid='B0007XGOTG', r_ui=5.0, est=3.8852459016393444, details={'actual_k': 0, 'was_impossible': False}),\n",
              " Prediction(uid='A2B28KHOKJDTV3', iid='B00004SABB', r_ui=5.0, est=4.058850210315736, details={'was_impossible': True, 'reason': 'User and/or item is unknown.'}),\n",
              " Prediction(uid='A2HWOE48LKLPOY', iid='B000CATP4A', r_ui=5.0, est=4.058850210315736, details={'was_impossible': True, 'reason': 'User and/or item is unknown.'}),\n",
              " Prediction(uid='AU3RNWY2CKT8U', iid='B0002EQUIA', r_ui=3.0, est=4.058850210315736, details={'was_impossible': True, 'reason': 'User and/or item is unknown.'}),\n",
              " Prediction(uid='AJP1C85X6F8V4', iid='B000CSOXTO', r_ui=5.0, est=4.058850210315736, details={'was_impossible': True, 'reason': 'User and/or item is unknown.'}),\n",
              " Prediction(uid='A1EZ3LAMRKEO0K', iid='B0007TJ5OG', r_ui=5.0, est=4.058850210315736, details={'was_impossible': True, 'reason': 'User and/or item is unknown.'}),\n",
              " Prediction(uid='A16XEVZNVOAV4J', iid='B00009XVCZ', r_ui=4.0, est=4.498059508408797, details={'actual_k': 0, 'was_impossible': False}),\n",
              " Prediction(uid='A1L47O87UBDIWZ', iid='B00008VF63', r_ui=3.0, est=4.060869565217391, details={'actual_k': 0, 'was_impossible': False}),\n",
              " Prediction(uid='AOLBTQ4XG07WK', iid='B0000XMWQW', r_ui=5.0, est=4.058850210315736, details={'was_impossible': True, 'reason': 'User and/or item is unknown.'}),\n",
              " Prediction(uid='AYI6FFZ5NYBT6', iid='B0009MFTSW', r_ui=4.0, est=4.058850210315736, details={'was_impossible': True, 'reason': 'User and/or item is unknown.'}),\n",
              " Prediction(uid='A2067Z5GZDRCAE', iid='B0002L5R78', r_ui=5.0, est=4.058850210315736, details={'was_impossible': True, 'reason': 'User and/or item is unknown.'}),\n",
              " Prediction(uid='A15DO0NYMJ4DSP', iid='B0002QIBNK', r_ui=5.0, est=4.058850210315736, details={'was_impossible': True, 'reason': 'User and/or item is unknown.'}),\n",
              " Prediction(uid='AQ7L4C6D7QWXO', iid='B000056SSM', r_ui=4.0, est=4.058850210315736, details={'was_impossible': True, 'reason': 'User and/or item is unknown.'}),\n",
              " Prediction(uid='A16A2L66DD0U6R', iid='B000EYRLXQ', r_ui=5.0, est=4.058850210315736, details={'was_impossible': True, 'reason': 'User and/or item is unknown.'}),\n",
              " Prediction(uid='A29TMNBA43EK08', iid='B0007SL4IW', r_ui=1.0, est=4.058850210315736, details={'was_impossible': True, 'reason': 'User and/or item is unknown.'}),\n",
              " Prediction(uid='A3AYSYSLHU26U9', iid='B000BFO320', r_ui=4.0, est=3.3076923076923075, details={'actual_k': 0, 'was_impossible': False}),\n",
              " Prediction(uid='A3UHA6EV09O1DT', iid='B000E95T58', r_ui=1.0, est=4.058850210315736, details={'was_impossible': True, 'reason': 'User and/or item is unknown.'}),\n",
              " Prediction(uid='A2BG2FWZE87ECG', iid='B00004XOM3', r_ui=5.0, est=4.759615384615385, details={'actual_k': 0, 'was_impossible': False}),\n",
              " Prediction(uid='AH4JV5ZIMQ221', iid='B000CQP5YS', r_ui=1.0, est=4.058850210315736, details={'was_impossible': True, 'reason': 'User and/or item is unknown.'}),\n",
              " Prediction(uid='AWYPDKT2TRPEA', iid='B00005NIMJ', r_ui=5.0, est=4.058850210315736, details={'was_impossible': True, 'reason': 'User and/or item is unknown.'}),\n",
              " Prediction(uid='A13CW5DM54DU83', iid='B00007EDM8', r_ui=4.0, est=4.058850210315736, details={'was_impossible': True, 'reason': 'User and/or item is unknown.'}),\n",
              " Prediction(uid='A3V3X9BQZF2D9I', iid='B00067TTY0', r_ui=1.0, est=4.058850210315736, details={'was_impossible': True, 'reason': 'User and/or item is unknown.'}),\n",
              " Prediction(uid='A1E853YVBZEAHJ', iid='B00007E7JU', r_ui=5.0, est=4.058850210315736, details={'was_impossible': True, 'reason': 'User and/or item is unknown.'}),\n",
              " Prediction(uid='A360RRDLA8DWGU', iid='B000CSVZTU', r_ui=5.0, est=4.058850210315736, details={'was_impossible': True, 'reason': 'User and/or item is unknown.'}),\n",
              " Prediction(uid='A3PXQ7SKIFVGU0', iid='B00023JE7U', r_ui=5.0, est=4.439024390243903, details={'actual_k': 0, 'was_impossible': False}),\n",
              " Prediction(uid='A1ZCAUFPID61G4', iid='B000B5XU06', r_ui=2.0, est=4.058850210315736, details={'was_impossible': True, 'reason': 'User and/or item is unknown.'}),\n",
              " Prediction(uid='A3Q6QA7YDCPHHG', iid='B00011KHTW', r_ui=5.0, est=4.058850210315736, details={'was_impossible': True, 'reason': 'User and/or item is unknown.'}),\n",
              " Prediction(uid='A3N8L0D9R7NTAD', iid='B000A6PPOK', r_ui=5.0, est=4.058850210315736, details={'was_impossible': True, 'reason': 'User and/or item is unknown.'}),\n",
              " Prediction(uid='A1YFZOB5I6JID0', iid='B0001AP8CE', r_ui=4.0, est=4.058850210315736, details={'was_impossible': True, 'reason': 'User and/or item is unknown.'}),\n",
              " Prediction(uid='A1MZ23CWJSKOOG', iid='B000BFHWXM', r_ui=5.0, est=3.973684210526316, details={'actual_k': 0, 'was_impossible': False}),\n",
              " Prediction(uid='A2RXU7N2K79QVA', iid='B000BM8RFM', r_ui=5.0, est=4.058850210315736, details={'was_impossible': True, 'reason': 'User and/or item is unknown.'}),\n",
              " Prediction(uid='A35DJQJ9ECM2ZF', iid='B00093IIRA', r_ui=4.0, est=4.058850210315736, details={'was_impossible': True, 'reason': 'User and/or item is unknown.'}),\n",
              " Prediction(uid='A1EET2ULC3EOTS', iid='B0001VGFKW', r_ui=5.0, est=4.595687331536388, details={'actual_k': 0, 'was_impossible': False}),\n",
              " Prediction(uid='A3JAX1DTWWGVTJ', iid='B00008OE5G', r_ui=5.0, est=4.058850210315736, details={'was_impossible': True, 'reason': 'User and/or item is unknown.'}),\n",
              " Prediction(uid='A125GMG999FO2', iid='B00022RV9E', r_ui=5.0, est=3.7941176470588234, details={'actual_k': 0, 'was_impossible': False}),\n",
              " Prediction(uid='AJAKE28OITOFV', iid='B000CSWCQA', r_ui=5.0, est=4.058850210315736, details={'was_impossible': True, 'reason': 'User and/or item is unknown.'}),\n",
              " Prediction(uid='AW6P5TYJN9LKU', iid='B0009JR5IM', r_ui=4.0, est=4.058850210315736, details={'was_impossible': True, 'reason': 'User and/or item is unknown.'}),\n",
              " Prediction(uid='A3AUXRP6Y5553F', iid='B0007QKMQY', r_ui=1.0, est=4.558673469387755, details={'actual_k': 0, 'was_impossible': False}),\n",
              " Prediction(uid='ATQC7FO3STOZT', iid='B000F2JUOK', r_ui=1.0, est=4.058850210315736, details={'was_impossible': True, 'reason': 'User and/or item is unknown.'}),\n",
              " Prediction(uid='AYUOQCCV2F8LU', iid='B000ETVKHE', r_ui=4.0, est=4.051752921535893, details={'actual_k': 0, 'was_impossible': False}),\n",
              " Prediction(uid='AKYTMK4AHJQWN', iid='B000CSWCQA', r_ui=4.0, est=4.058850210315736, details={'was_impossible': True, 'reason': 'User and/or item is unknown.'}),\n",
              " Prediction(uid='A37JEQ23UJKZUU', iid='B0001D3K8A', r_ui=2.0, est=4.058850210315736, details={'was_impossible': True, 'reason': 'User and/or item is unknown.'}),\n",
              " Prediction(uid='ADU3NOCDQSR7J', iid='B0002ZAILY', r_ui=1.0, est=3.7964071856287425, details={'actual_k': 0, 'was_impossible': False}),\n",
              " Prediction(uid='A374A5H0A2RM1H', iid='B00007M1TZ', r_ui=1.0, est=4.058850210315736, details={'was_impossible': True, 'reason': 'User and/or item is unknown.'}),\n",
              " Prediction(uid='A3A8QWRWQ4CORV', iid='B00006BBAB', r_ui=5.0, est=4.058850210315736, details={'was_impossible': True, 'reason': 'User and/or item is unknown.'}),\n",
              " Prediction(uid='A3M00L5YLB1CV9', iid='B00005T3G0', r_ui=2.0, est=4.058850210315736, details={'was_impossible': True, 'reason': 'User and/or item is unknown.'}),\n",
              " Prediction(uid='A1RRZ9Z27KXI54', iid='B000E1PTGK', r_ui=5.0, est=4.058850210315736, details={'was_impossible': True, 'reason': 'User and/or item is unknown.'}),\n",
              " Prediction(uid='A1WLLP8OEILXRO', iid='B000EOMXM0', r_ui=5.0, est=4.058850210315736, details={'was_impossible': True, 'reason': 'User and/or item is unknown.'}),\n",
              " Prediction(uid='AL1IQ9QGX9ZZF', iid='B0007RV3IE', r_ui=5.0, est=4.058850210315736, details={'was_impossible': True, 'reason': 'User and/or item is unknown.'}),\n",
              " Prediction(uid='ALRCAGJOJ9583', iid='B0001FV364', r_ui=4.0, est=4.219047619047619, details={'actual_k': 0, 'was_impossible': False}),\n",
              " Prediction(uid='A2CLWJG07RYE1O', iid='B00065L5SU', r_ui=5.0, est=4.058850210315736, details={'was_impossible': True, 'reason': 'User and/or item is unknown.'}),\n",
              " Prediction(uid='A2CWKZ1UDLTFU9', iid='B0000BZL1P', r_ui=5.0, est=4.058850210315736, details={'was_impossible': True, 'reason': 'User and/or item is unknown.'}),\n",
              " Prediction(uid='A2QAYR94U8ZWV6', iid='B00008ZPED', r_ui=5.0, est=4.058850210315736, details={'was_impossible': True, 'reason': 'User and/or item is unknown.'}),\n",
              " Prediction(uid='A2Y24VQQ6Q6FTV', iid='B0007U00X0', r_ui=5.0, est=4.058850210315736, details={'was_impossible': True, 'reason': 'User and/or item is unknown.'}),\n",
              " Prediction(uid='A10SS6BIPR5CZK', iid='B00065L5TE', r_ui=5.0, est=4.058850210315736, details={'was_impossible': True, 'reason': 'User and/or item is unknown.'}),\n",
              " Prediction(uid='A199LZ6EFQML4E', iid='B0001OHH0Q', r_ui=2.0, est=4.058850210315736, details={'was_impossible': True, 'reason': 'User and/or item is unknown.'}),\n",
              " Prediction(uid='A2MZU6IUXUHF6D', iid='B0001GAMQK', r_ui=5.0, est=4.058850210315736, details={'was_impossible': True, 'reason': 'User and/or item is unknown.'}),\n",
              " Prediction(uid='A5VFGHKUNMA0V', iid='B0007LA9EE', r_ui=4.0, est=4.058850210315736, details={'was_impossible': True, 'reason': 'User and/or item is unknown.'}),\n",
              " Prediction(uid='A3K40ZCJ5ARE5X', iid='B00064ABSG', r_ui=4.0, est=4.058850210315736, details={'was_impossible': True, 'reason': 'User and/or item is unknown.'}),\n",
              " Prediction(uid='A2C4NO0OYA1DZ8', iid='B000CSWCQA', r_ui=5.0, est=4.058850210315736, details={'was_impossible': True, 'reason': 'User and/or item is unknown.'}),\n",
              " Prediction(uid='A33EWZB7G7VFIG', iid='B0007WZLDC', r_ui=5.0, est=4.058850210315736, details={'was_impossible': True, 'reason': 'User and/or item is unknown.'}),\n",
              " Prediction(uid='A14MVDOC2AN2DM', iid='B00004WIMW', r_ui=5.0, est=4.058850210315736, details={'was_impossible': True, 'reason': 'User and/or item is unknown.'}),\n",
              " Prediction(uid='A3RRT1PPB1JVFJ', iid='B00001W0DD', r_ui=4.0, est=4.058850210315736, details={'was_impossible': True, 'reason': 'User and/or item is unknown.'}),\n",
              " Prediction(uid='AQE8BIPXLG8CC', iid='B0002J26LA', r_ui=5.0, est=4.058850210315736, details={'was_impossible': True, 'reason': 'User and/or item is unknown.'}),\n",
              " Prediction(uid='A1XHP0E0AYESNF', iid='B0000DC643', r_ui=5.0, est=4.095744680851064, details={'actual_k': 0, 'was_impossible': False}),\n",
              " Prediction(uid='A28O7SI72VJ0K6', iid='B00004WCID', r_ui=4.0, est=4.058850210315736, details={'was_impossible': True, 'reason': 'User and/or item is unknown.'}),\n",
              " Prediction(uid='ATY8UGEIC0P1Y', iid='B0009Q4U7Y', r_ui=4.0, est=4.058850210315736, details={'was_impossible': True, 'reason': 'User and/or item is unknown.'}),\n",
              " Prediction(uid='A100CF7VK9YJXX', iid='B0002AHT0M', r_ui=5.0, est=4.058850210315736, details={'was_impossible': True, 'reason': 'User and/or item is unknown.'}),\n",
              " Prediction(uid='A377MC8M8N8KX7', iid='B000BKN2Y0', r_ui=2.0, est=4.058850210315736, details={'was_impossible': True, 'reason': 'User and/or item is unknown.'}),\n",
              " Prediction(uid='ALSWZHFHR45AT', iid='B000BQ7GW8', r_ui=5.0, est=4.058850210315736, details={'was_impossible': True, 'reason': 'User and/or item is unknown.'}),\n",
              " Prediction(uid='AFP8M3GM2DH8Z', iid='B000230LJK', r_ui=3.0, est=4.058850210315736, details={'was_impossible': True, 'reason': 'User and/or item is unknown.'}),\n",
              " Prediction(uid='A24UMEE06M5A1W', iid='B000EBM7N8', r_ui=5.0, est=4.058850210315736, details={'was_impossible': True, 'reason': 'User and/or item is unknown.'}),\n",
              " Prediction(uid='A1Y09QLADQYQJG', iid='B00004Z0C7', r_ui=5.0, est=4.228426395939087, details={'actual_k': 0, 'was_impossible': False}),\n",
              " Prediction(uid='AMPV15DDTUPL5', iid='B000CC6I5W', r_ui=1.0, est=4.058850210315736, details={'was_impossible': True, 'reason': 'User and/or item is unknown.'}),\n",
              " Prediction(uid='A3F0PZEDIL6TT3', iid='B0009NEUO0', r_ui=4.0, est=3.41635687732342, details={'actual_k': 0, 'was_impossible': False}),\n",
              " Prediction(uid='A2M2R0P23PKKLF', iid='B0001FTVEK', r_ui=5.0, est=4.058850210315736, details={'was_impossible': True, 'reason': 'User and/or item is unknown.'}),\n",
              " Prediction(uid='A2V3WLOPBX75XV', iid='B0007KK22E', r_ui=5.0, est=4.058850210315736, details={'was_impossible': True, 'reason': 'User and/or item is unknown.'}),\n",
              " Prediction(uid='A1D7WIEJ7MSAJH', iid='1400532655', r_ui=5.0, est=4.058850210315736, details={'was_impossible': True, 'reason': 'User and/or item is unknown.'}),\n",
              " Prediction(uid='A3D3MG1D4G0L7L', iid='B000EWI8IK', r_ui=5.0, est=4.058850210315736, details={'was_impossible': True, 'reason': 'User and/or item is unknown.'}),\n",
              " Prediction(uid='A6GJRV71ODNGZ', iid='B000EGI7V4', r_ui=5.0, est=4.058850210315736, details={'was_impossible': True, 'reason': 'User and/or item is unknown.'}),\n",
              " Prediction(uid='AG9DSB1L320N8', iid='B0000AOWWY', r_ui=3.0, est=4.058850210315736, details={'was_impossible': True, 'reason': 'User and/or item is unknown.'}),\n",
              " Prediction(uid='A10PMLZW5X97WO', iid='B00008SCFL', r_ui=1.0, est=3.3055181695827724, details={'actual_k': 0, 'was_impossible': False}),\n",
              " Prediction(uid='A3QENYVRCFQIG9', iid='B000EOX2GG', r_ui=4.0, est=4.058850210315736, details={'was_impossible': True, 'reason': 'User and/or item is unknown.'}),\n",
              " Prediction(uid='A2PYS280Q1UH7V', iid='B0001GMITO', r_ui=4.0, est=4.228571428571429, details={'actual_k': 0, 'was_impossible': False}),\n",
              " Prediction(uid='A10BF56QYPIXJJ', iid='B0006ON0QQ', r_ui=5.0, est=4.058850210315736, details={'was_impossible': True, 'reason': 'User and/or item is unknown.'}),\n",
              " Prediction(uid='A3CO28Q6TO6O6', iid='B0002CZHN6', r_ui=5.0, est=4.058850210315736, details={'was_impossible': True, 'reason': 'User and/or item is unknown.'}),\n",
              " Prediction(uid='AUITG1DJ3QUGK', iid='B00004TZE5', r_ui=3.0, est=4.770833333333333, details={'actual_k': 0, 'was_impossible': False}),\n",
              " Prediction(uid='A1HGMA4Z8V1LI1', iid='B000ELSXZE', r_ui=5.0, est=4.183098591549296, details={'actual_k': 0, 'was_impossible': False}),\n",
              " Prediction(uid='A1OC73ABNRX1WT', iid='B0002SAF3C', r_ui=5.0, est=4.058850210315736, details={'was_impossible': True, 'reason': 'User and/or item is unknown.'}),\n",
              " Prediction(uid='A6VUUL0G0S4BQ', iid='B0009SCMKY', r_ui=5.0, est=3.971563981042654, details={'actual_k': 0, 'was_impossible': False}),\n",
              " Prediction(uid='A1AVYXH3SAILZ1', iid='B000CQPWMS', r_ui=5.0, est=4.058850210315736, details={'was_impossible': True, 'reason': 'User and/or item is unknown.'}),\n",
              " Prediction(uid='A1VBOWZAVL7SPM', iid='B000ANOY7M', r_ui=5.0, est=3.561200923787529, details={'actual_k': 0, 'was_impossible': False}),\n",
              " Prediction(uid='A2SNG9YFH9Y85Z', iid='B00006HSYC', r_ui=4.0, est=4.058850210315736, details={'was_impossible': True, 'reason': 'User and/or item is unknown.'}),\n",
              " Prediction(uid='A33HS35I8A79AI', iid='B0009ON12G', r_ui=5.0, est=4.058850210315736, details={'was_impossible': True, 'reason': 'User and/or item is unknown.'}),\n",
              " Prediction(uid='A2Z5XN8OD0WF74', iid='B000BK393Y', r_ui=4.0, est=4.058850210315736, details={'was_impossible': True, 'reason': 'User and/or item is unknown.'}),\n",
              " Prediction(uid='A17ZGZHO81XVC2', iid='B00004THCZ', r_ui=5.0, est=4.507420814479638, details={'actual_k': 1, 'was_impossible': False}),\n",
              " Prediction(uid='AZPTQNM2C0HQ7', iid='B000233WJ6', r_ui=1.0, est=4.058850210315736, details={'was_impossible': True, 'reason': 'User and/or item is unknown.'}),\n",
              " Prediction(uid='A3J6VUQ8IC1BR7', iid='B0009V6TL4', r_ui=1.0, est=4.058850210315736, details={'was_impossible': True, 'reason': 'User and/or item is unknown.'}),\n",
              " Prediction(uid='A21P5TYA33X94M', iid='B00009R6JT', r_ui=4.0, est=4.058850210315736, details={'was_impossible': True, 'reason': 'User and/or item is unknown.'}),\n",
              " Prediction(uid='A11Q0LJ0GZQW0F', iid='B000CHRJ8C', r_ui=5.0, est=4.058850210315736, details={'was_impossible': True, 'reason': 'User and/or item is unknown.'}),\n",
              " Prediction(uid='A1ZD9MW33PSFT3', iid='B000E6G9RI', r_ui=3.0, est=4.058850210315736, details={'was_impossible': True, 'reason': 'User and/or item is unknown.'}),\n",
              " Prediction(uid='A2UJ2S2MUCIK6E', iid='B0002BEQN4', r_ui=5.0, est=4.058850210315736, details={'was_impossible': True, 'reason': 'User and/or item is unknown.'}),\n",
              " Prediction(uid='A17VQV7T0CNQPS', iid='B000A5TAT2', r_ui=4.0, est=4.058850210315736, details={'was_impossible': True, 'reason': 'User and/or item is unknown.'}),\n",
              " Prediction(uid='A2AX79T99WFDV', iid='B0007LJHVA', r_ui=5.0, est=4.058850210315736, details={'was_impossible': True, 'reason': 'User and/or item is unknown.'}),\n",
              " Prediction(uid='A11K25Q4U1278Z', iid='B00001WRSJ', r_ui=5.0, est=4.058850210315736, details={'was_impossible': True, 'reason': 'User and/or item is unknown.'}),\n",
              " Prediction(uid='A2ZFUYSOCGO4MA', iid='B0007TOR08', r_ui=5.0, est=4.058850210315736, details={'was_impossible': True, 'reason': 'User and/or item is unknown.'}),\n",
              " Prediction(uid='A2FL0W87XYJA82', iid='B0002SQ2P2', r_ui=4.0, est=4.058850210315736, details={'was_impossible': True, 'reason': 'User and/or item is unknown.'}),\n",
              " Prediction(uid='A1XL2RBFJONBOM', iid='B000F78582', r_ui=1.0, est=4.058850210315736, details={'was_impossible': True, 'reason': 'User and/or item is unknown.'}),\n",
              " Prediction(uid='A2ZBPCZGML5QIE', iid='B00000K4KH', r_ui=5.0, est=4.058850210315736, details={'was_impossible': True, 'reason': 'User and/or item is unknown.'}),\n",
              " Prediction(uid='A2MMDY7A8UD6G', iid='B0000AAAPF', r_ui=4.0, est=4.0423657007286895, details={'actual_k': 1, 'was_impossible': False}),\n",
              " Prediction(uid='A1J3KXBC6MHVC', iid='B000EWI8IK', r_ui=5.0, est=4.058850210315736, details={'was_impossible': True, 'reason': 'User and/or item is unknown.'}),\n",
              " Prediction(uid='A24VO5FGFKR4BY', iid='B00006HYPV', r_ui=3.0, est=4.058850210315736, details={'was_impossible': True, 'reason': 'User and/or item is unknown.'}),\n",
              " Prediction(uid='A1FFFPHY1OQ863', iid='B000F4C2AM', r_ui=5.0, est=3.7735849056603774, details={'actual_k': 0, 'was_impossible': False}),\n",
              " Prediction(uid='A27KFINW5ZLJ9E', iid='B00005T3XH', r_ui=5.0, est=4.058850210315736, details={'was_impossible': True, 'reason': 'User and/or item is unknown.'}),\n",
              " Prediction(uid='A2JKISZHDREIRF', iid='B0002QLQ96', r_ui=1.0, est=4.058850210315736, details={'was_impossible': True, 'reason': 'User and/or item is unknown.'}),\n",
              " Prediction(uid='A3270K93DE9U9F', iid='B0007U00XU', r_ui=3.0, est=3.9696969696969697, details={'actual_k': 0, 'was_impossible': False}),\n",
              " Prediction(uid='AYF1QWS0SO16L', iid='B0002ZDIKW', r_ui=4.0, est=4.071428571428571, details={'actual_k': 0, 'was_impossible': False}),\n",
              " Prediction(uid='A1I8UYJGDQV98X', iid='B000EANT40', r_ui=5.0, est=4.058850210315736, details={'was_impossible': True, 'reason': 'User and/or item is unknown.'}),\n",
              " Prediction(uid='A3FLMLAYVR6SYX', iid='B00009R6VO', r_ui=4.0, est=4.058850210315736, details={'was_impossible': True, 'reason': 'User and/or item is unknown.'}),\n",
              " Prediction(uid='A20IPAO5JKZYWV', iid='B00007EDM8', r_ui=5.0, est=4.058850210315736, details={'was_impossible': True, 'reason': 'User and/or item is unknown.'}),\n",
              " Prediction(uid='A3GBMSTERIG56', iid='B00001W0DH', r_ui=1.0, est=4.058850210315736, details={'was_impossible': True, 'reason': 'User and/or item is unknown.'}),\n",
              " Prediction(uid='A3HQRGH7BSAZ0C', iid='B00093IIRA', r_ui=3.0, est=4.058850210315736, details={'was_impossible': True, 'reason': 'User and/or item is unknown.'}),\n",
              " Prediction(uid='A2DLDZT5EFJC2U', iid='B000BIFY6Q', r_ui=5.0, est=4.058850210315736, details={'was_impossible': True, 'reason': 'User and/or item is unknown.'}),\n",
              " Prediction(uid='A11PLIGIEACQ6X', iid='B00081NX5U', r_ui=5.0, est=4.058850210315736, details={'was_impossible': True, 'reason': 'User and/or item is unknown.'}),\n",
              " Prediction(uid='A7Q4GSI78PE0Y', iid='B0002EPWC0', r_ui=5.0, est=4.058850210315736, details={'was_impossible': True, 'reason': 'User and/or item is unknown.'}),\n",
              " Prediction(uid='A3A0XARCVVOSSJ', iid='B00009R6WT', r_ui=5.0, est=4.058850210315736, details={'was_impossible': True, 'reason': 'User and/or item is unknown.'}),\n",
              " Prediction(uid='A1KY4OR38ZZPRI', iid='B000BQ7GW8', r_ui=5.0, est=4.058850210315736, details={'was_impossible': True, 'reason': 'User and/or item is unknown.'}),\n",
              " Prediction(uid='A38KAIXFI2YTOU', iid='B0001LS3EI', r_ui=5.0, est=4.058850210315736, details={'was_impossible': True, 'reason': 'User and/or item is unknown.'}),\n",
              " Prediction(uid='A4GC6J3NKZR7S', iid='B00005V5YP', r_ui=1.0, est=4.058850210315736, details={'was_impossible': True, 'reason': 'User and/or item is unknown.'}),\n",
              " Prediction(uid='AMQDTG9WEQK6U', iid='B000BAX50G', r_ui=5.0, est=4.058850210315736, details={'was_impossible': True, 'reason': 'User and/or item is unknown.'}),\n",
              " Prediction(uid='A3FPEKVM6VCHK7', iid='B00009XVBY', r_ui=5.0, est=3.806451612903226, details={'actual_k': 0, 'was_impossible': False}),\n",
              " Prediction(uid='A2PPBRBGWUIONC', iid='B0001AP8CE', r_ui=1.0, est=4.058850210315736, details={'was_impossible': True, 'reason': 'User and/or item is unknown.'}),\n",
              " Prediction(uid='A2I4TE4YBROVVR', iid='B000CLNHXY', r_ui=5.0, est=4.389423076923077, details={'actual_k': 0, 'was_impossible': False}),\n",
              " Prediction(uid='A1EZM7QG96R51M', iid='B000652M6Y', r_ui=5.0, est=4.058850210315736, details={'was_impossible': True, 'reason': 'User and/or item is unknown.'}),\n",
              " Prediction(uid='A2SV3ZKQYNM7PB', iid='B0007GIXS8', r_ui=5.0, est=4.058850210315736, details={'was_impossible': True, 'reason': 'User and/or item is unknown.'}),\n",
              " Prediction(uid='A1XAWUIMSX6C1Z', iid='B000068O34', r_ui=5.0, est=4.212765957446808, details={'actual_k': 0, 'was_impossible': False}),\n",
              " Prediction(uid='A2HNRWRGEG9T2W', iid='B000ALLMI8', r_ui=5.0, est=4.246511627906977, details={'actual_k': 0, 'was_impossible': False}),\n",
              " Prediction(uid='A17XZW5SO71GSN', iid='B000BQ7GW8', r_ui=5.0, est=4.058850210315736, details={'was_impossible': True, 'reason': 'User and/or item is unknown.'}),\n",
              " Prediction(uid='A1K8A7VNHJPVIN', iid='B000ES8C2G', r_ui=5.0, est=4.058850210315736, details={'was_impossible': True, 'reason': 'User and/or item is unknown.'}),\n",
              " Prediction(uid='ANSG0Y31JCT2Y', iid='B0007ZFLYS', r_ui=4.0, est=4.058850210315736, details={'was_impossible': True, 'reason': 'User and/or item is unknown.'}),\n",
              " Prediction(uid='A2FV8DCLX14TH6', iid='B0002MQGKO', r_ui=5.0, est=4.058850210315736, details={'was_impossible': True, 'reason': 'User and/or item is unknown.'}),\n",
              " Prediction(uid='AF9OYN557Z77I', iid='B0000DK5LW', r_ui=5.0, est=4.058850210315736, details={'was_impossible': True, 'reason': 'User and/or item is unknown.'}),\n",
              " Prediction(uid='A1VRXBOAF7OTS4', iid='B0002J226O', r_ui=5.0, est=4.058850210315736, details={'was_impossible': True, 'reason': 'User and/or item is unknown.'}),\n",
              " Prediction(uid='A11P2T1BSL3AQ4', iid='B0000X0VCY', r_ui=4.0, est=4.254612546125461, details={'actual_k': 0, 'was_impossible': False}),\n",
              " Prediction(uid='A1YZQXKU5JNWED', iid='B0001AP8CE', r_ui=2.0, est=4.058850210315736, details={'was_impossible': True, 'reason': 'User and/or item is unknown.'}),\n",
              " Prediction(uid='A2630I81GOKRR9', iid='B000EDB1II', r_ui=5.0, est=4.408450704225352, details={'actual_k': 0, 'was_impossible': False}),\n",
              " Prediction(uid='A1YOSTGMD74AHT', iid='B000BKJZ9Q', r_ui=5.0, est=4.058850210315736, details={'was_impossible': True, 'reason': 'User and/or item is unknown.'}),\n",
              " Prediction(uid='A20ZZUS9GYGR8T', iid='B0009I6K7K', r_ui=2.0, est=4.058850210315736, details={'was_impossible': True, 'reason': 'User and/or item is unknown.'}),\n",
              " Prediction(uid='A3M8S2EABA5TKS', iid='B00005T3G0', r_ui=5.0, est=5, details={'actual_k': 1, 'was_impossible': False}),\n",
              " Prediction(uid='A2HMKJUZKXPJUS', iid='B0002OZXHO', r_ui=4.0, est=4.058850210315736, details={'was_impossible': True, 'reason': 'User and/or item is unknown.'}),\n",
              " Prediction(uid='A1S0GI2ROBEO6E', iid='B00008Y0VN', r_ui=5.0, est=4.058850210315736, details={'was_impossible': True, 'reason': 'User and/or item is unknown.'}),\n",
              " Prediction(uid='A3E65AWKADPM1C', iid='B00081A2CW', r_ui=4.0, est=4.058850210315736, details={'was_impossible': True, 'reason': 'User and/or item is unknown.'}),\n",
              " Prediction(uid='AC0QNBQB1V5CG', iid='B000BI7NHY', r_ui=5.0, est=3.642495784148398, details={'actual_k': 0, 'was_impossible': False}),\n",
              " Prediction(uid='A17OMNRD9N1DGQ', iid='B00006J05Y', r_ui=5.0, est=4.058850210315736, details={'was_impossible': True, 'reason': 'User and/or item is unknown.'}),\n",
              " Prediction(uid='AWYOWZKRBKQHQ', iid='B0000AN4EG', r_ui=5.0, est=4.360824742268041, details={'actual_k': 0, 'was_impossible': False}),\n",
              " Prediction(uid='A1LILTH2CSJQ1R', iid='B000087NBW', r_ui=5.0, est=4.543689320388349, details={'actual_k': 0, 'was_impossible': False}),\n",
              " Prediction(uid='A3NTCS0O8PUM1D', iid='B00000K135', r_ui=3.0, est=4.058850210315736, details={'was_impossible': True, 'reason': 'User and/or item is unknown.'}),\n",
              " Prediction(uid='A3PDX1BD494VCQ', iid='B00002N7FQ', r_ui=5.0, est=4.058850210315736, details={'was_impossible': True, 'reason': 'User and/or item is unknown.'}),\n",
              " Prediction(uid='A21BY04HSHAJV0', iid='B0009204RI', r_ui=5.0, est=4.058850210315736, details={'was_impossible': True, 'reason': 'User and/or item is unknown.'}),\n",
              " Prediction(uid='A3LR6PYKVHA72L', iid='B00007ISWA', r_ui=5.0, est=4.058850210315736, details={'was_impossible': True, 'reason': 'User and/or item is unknown.'}),\n",
              " Prediction(uid='A1OODBE47LKHZT', iid='B00006346B', r_ui=5.0, est=4.058850210315736, details={'was_impossible': True, 'reason': 'User and/or item is unknown.'}),\n",
              " Prediction(uid='A3FJ9E98GWZINC', iid='B0000TO0BQ', r_ui=5.0, est=4.058850210315736, details={'was_impossible': True, 'reason': 'User and/or item is unknown.'}),\n",
              " Prediction(uid='A9NJM1W4BOG45', iid='B000EVM5DK', r_ui=4.0, est=4.058850210315736, details={'was_impossible': True, 'reason': 'User and/or item is unknown.'}),\n",
              " Prediction(uid='ASCN76UHA5O8P', iid='B000B9RI14', r_ui=5.0, est=4.058850210315736, details={'was_impossible': True, 'reason': 'User and/or item is unknown.'}),\n",
              " Prediction(uid='A2C632769O1F6H', iid='B000EITTLE', r_ui=4.0, est=4.058850210315736, details={'was_impossible': True, 'reason': 'User and/or item is unknown.'}),\n",
              " Prediction(uid='A2S0HPIPSSEBNT', iid='B0001G6UB6', r_ui=4.0, est=4.058850210315736, details={'was_impossible': True, 'reason': 'User and/or item is unknown.'}),\n",
              " Prediction(uid='A3LUMYAD1PJQMP', iid='B0009YJXMS', r_ui=5.0, est=4.058850210315736, details={'was_impossible': True, 'reason': 'User and/or item is unknown.'}),\n",
              " Prediction(uid='A2KSP9GE7PPUVQ', iid='B000089GN4', r_ui=4.0, est=3.922279792746114, details={'actual_k': 0, 'was_impossible': False}),\n",
              " Prediction(uid='A3AI2LD5X6TVT2', iid='B000DZMC3K', r_ui=5.0, est=4.058850210315736, details={'was_impossible': True, 'reason': 'User and/or item is unknown.'}),\n",
              " Prediction(uid='A20U4SR1JT3Q3Q', iid='B0001MQSB2', r_ui=5.0, est=4.058850210315736, details={'was_impossible': True, 'reason': 'User and/or item is unknown.'}),\n",
              " Prediction(uid='AY76EWTYK18XM', iid='B0002UB2P0', r_ui=5.0, est=3.343283582089552, details={'actual_k': 0, 'was_impossible': False}),\n",
              " Prediction(uid='A1ZOA62B8GO4B4', iid='B000BKJZ9Q', r_ui=5.0, est=4.433648223121907, details={'actual_k': 0, 'was_impossible': False}),\n",
              " Prediction(uid='A28LMY5GFWSPY5', iid='B00007M1TZ', r_ui=5.0, est=4.058850210315736, details={'was_impossible': True, 'reason': 'User and/or item is unknown.'}),\n",
              " Prediction(uid='AMSQ8SK2R8VD1', iid='B0001IXUEE', r_ui=3.0, est=3.9743589743589745, details={'actual_k': 0, 'was_impossible': False}),\n",
              " Prediction(uid='A2L641V0MPWYPC', iid='B0000BZL0G', r_ui=5.0, est=4.568421052631579, details={'actual_k': 0, 'was_impossible': False}),\n",
              " Prediction(uid='A2TXT3X40HSPQM', iid='B000FCSXBQ', r_ui=4.0, est=4.058850210315736, details={'was_impossible': True, 'reason': 'User and/or item is unknown.'}),\n",
              " Prediction(uid='A3LIQPBF97T8Q1', iid='B000062VUO', r_ui=2.0, est=4.058850210315736, details={'was_impossible': True, 'reason': 'User and/or item is unknown.'}),\n",
              " Prediction(uid='A1Y36UM21CH99C', iid='B000FCI7KS', r_ui=3.0, est=4.058850210315736, details={'was_impossible': True, 'reason': 'User and/or item is unknown.'}),\n",
              " Prediction(uid='A2BI91M6VLBNRA', iid='B0000AKVJC', r_ui=5.0, est=4.058850210315736, details={'was_impossible': True, 'reason': 'User and/or item is unknown.'}),\n",
              " Prediction(uid='A17DPHLLOTRXCX', iid='B000EEXEIW', r_ui=3.0, est=4.058850210315736, details={'was_impossible': True, 'reason': 'User and/or item is unknown.'}),\n",
              " Prediction(uid='AQTVZONTOFH3B', iid='B00005ATMI', r_ui=4.0, est=4.058850210315736, details={'was_impossible': True, 'reason': 'User and/or item is unknown.'}),\n",
              " Prediction(uid='A3CJE9CW4TNW7P', iid='B00007FSB9', r_ui=4.0, est=4.058850210315736, details={'was_impossible': True, 'reason': 'User and/or item is unknown.'}),\n",
              " Prediction(uid='A8D1ODBFU8T63', iid='B000EPLP3C', r_ui=5.0, est=3.3867735054162136, details={'actual_k': 1, 'was_impossible': False}),\n",
              " Prediction(uid='A1LP14X41S0LSU', iid='B00028DM96', r_ui=5.0, est=4.058850210315736, details={'was_impossible': True, 'reason': 'User and/or item is unknown.'}),\n",
              " Prediction(uid='A3MY05HAPK1LIU', iid='B00004ZCJE', r_ui=1.0, est=4.058850210315736, details={'was_impossible': True, 'reason': 'User and/or item is unknown.'}),\n",
              " Prediction(uid='A3LESUYU0QEZ75', iid='B00000JMUG', r_ui=4.0, est=4.058850210315736, details={'was_impossible': True, 'reason': 'User and/or item is unknown.'}),\n",
              " Prediction(uid='A26F2ZDA72SKVN', iid='B0009JFF7A', r_ui=5.0, est=4.058850210315736, details={'was_impossible': True, 'reason': 'User and/or item is unknown.'}),\n",
              " Prediction(uid='A1T1ALFU620MB0', iid='B00006AGRZ', r_ui=5.0, est=4.058850210315736, details={'was_impossible': True, 'reason': 'User and/or item is unknown.'}),\n",
              " Prediction(uid='A3NVD15ONQF3JP', iid='B00009RA60', r_ui=5.0, est=4.058850210315736, details={'was_impossible': True, 'reason': 'User and/or item is unknown.'}),\n",
              " Prediction(uid='A374VLXN22VPSE', iid='B00007EDM8', r_ui=3.0, est=4.058850210315736, details={'was_impossible': True, 'reason': 'User and/or item is unknown.'}),\n",
              " Prediction(uid='A3AI0IAM3PTAWE', iid='B000068O53', r_ui=5.0, est=4.058850210315736, details={'was_impossible': True, 'reason': 'User and/or item is unknown.'}),\n",
              " Prediction(uid='A1MXJLJNBGIL9V', iid='B000B9RI14', r_ui=5.0, est=4.058850210315736, details={'was_impossible': True, 'reason': 'User and/or item is unknown.'}),\n",
              " Prediction(uid='A38JPGCBJCQCGZ', iid='B00005ARK3', r_ui=2.0, est=4.058850210315736, details={'was_impossible': True, 'reason': 'User and/or item is unknown.'}),\n",
              " Prediction(uid='A32T2H8150OJLU', iid='B0007UVYOY', r_ui=4.0, est=3.4615384615384617, details={'actual_k': 0, 'was_impossible': False}),\n",
              " Prediction(uid='A11B67WA7MTAYA', iid='B000CRFI8A', r_ui=4.0, est=4.058850210315736, details={'was_impossible': True, 'reason': 'User and/or item is unknown.'}),\n",
              " Prediction(uid='A1CMSZGB8VYAY4', iid='B0002L5R78', r_ui=5.0, est=4.7972095862806565, details={'actual_k': 1, 'was_impossible': False}),\n",
              " Prediction(uid='A1JX50T1XOOU9A', iid='B00006FDRB', r_ui=3.0, est=4.058850210315736, details={'was_impossible': True, 'reason': 'User and/or item is unknown.'}),\n",
              " Prediction(uid='A13R2NPK6PF37X', iid='B0001Y7UAI', r_ui=1.0, est=4.058850210315736, details={'was_impossible': True, 'reason': 'User and/or item is unknown.'}),\n",
              " Prediction(uid='AD3SCK9R0745U', iid='B0002WPSBC', r_ui=5.0, est=4.058850210315736, details={'was_impossible': True, 'reason': 'User and/or item is unknown.'}),\n",
              " Prediction(uid='A3SDINXYQU2I76', iid='B0001N3ZRQ', r_ui=4.0, est=4.058850210315736, details={'was_impossible': True, 'reason': 'User and/or item is unknown.'}),\n",
              " Prediction(uid='A395E2PBCGOQRO', iid='B0007MXZB2', r_ui=1.0, est=4.058850210315736, details={'was_impossible': True, 'reason': 'User and/or item is unknown.'}),\n",
              " Prediction(uid='A1M6FSX38ZRPQ0', iid='B000CQPWMS', r_ui=3.0, est=3.893103448275862, details={'actual_k': 0, 'was_impossible': False}),\n",
              " Prediction(uid='A18IK6YI6T3RK2', iid='B0002ZAILY', r_ui=4.0, est=3.7964071856287425, details={'actual_k': 0, 'was_impossible': False}),\n",
              " Prediction(uid='A2MON4POJN2LGJ', iid='B000067RC4', r_ui=3.0, est=4.163323782234957, details={'actual_k': 0, 'was_impossible': False}),\n",
              " Prediction(uid='A31MS4JZNJPVUO', iid='B000BI7NGU', r_ui=5.0, est=4.058850210315736, details={'was_impossible': True, 'reason': 'User and/or item is unknown.'}),\n",
              " Prediction(uid='A31SKHU2ACKOTG', iid='B000EMWBT2', r_ui=5.0, est=4.058850210315736, details={'was_impossible': True, 'reason': 'User and/or item is unknown.'}),\n",
              " Prediction(uid='A3I3N6LE6NI6X2', iid='B00004ZCAT', r_ui=5.0, est=4.058850210315736, details={'was_impossible': True, 'reason': 'User and/or item is unknown.'}),\n",
              " Prediction(uid='A3ISGIRLDTM42', iid='B0002WTK48', r_ui=5.0, est=4.058850210315736, details={'was_impossible': True, 'reason': 'User and/or item is unknown.'}),\n",
              " Prediction(uid='AHRTWHYTJL4QI', iid='B000DZDTKU', r_ui=5.0, est=4.058850210315736, details={'was_impossible': True, 'reason': 'User and/or item is unknown.'}),\n",
              " Prediction(uid='A2JA8FB2EJUOG', iid='B000065BPB', r_ui=5.0, est=4.058850210315736, details={'was_impossible': True, 'reason': 'User and/or item is unknown.'}),\n",
              " Prediction(uid='A3BL0IWR9ENC53', iid='B0002LHSFW', r_ui=4.0, est=4.058850210315736, details={'was_impossible': True, 'reason': 'User and/or item is unknown.'}),\n",
              " Prediction(uid='A1X7OAJJY9R5SY', iid='B000067RC4', r_ui=5.0, est=4.058850210315736, details={'was_impossible': True, 'reason': 'User and/or item is unknown.'}),\n",
              " Prediction(uid='A1PQCTOL3RH0HA', iid='B000A6LSKU', r_ui=5.0, est=4.058850210315736, details={'was_impossible': True, 'reason': 'User and/or item is unknown.'}),\n",
              " Prediction(uid='A3VL6BC1U60JD6', iid='B000BVB2FK', r_ui=4.0, est=4.058850210315736, details={'was_impossible': True, 'reason': 'User and/or item is unknown.'}),\n",
              " Prediction(uid='A1USFBL8V0CCX8', iid='B000AL6NVO', r_ui=5.0, est=4.058850210315736, details={'was_impossible': True, 'reason': 'User and/or item is unknown.'}),\n",
              " Prediction(uid='A3VLXKCRUD1DSF', iid='B0007ZFM38', r_ui=3.0, est=3.727272727272727, details={'actual_k': 0, 'was_impossible': False}),\n",
              " Prediction(uid='A2I1200KHLIAQF', iid='B000E43GOO', r_ui=1.0, est=4.058850210315736, details={'was_impossible': True, 'reason': 'User and/or item is unknown.'}),\n",
              " Prediction(uid='A3NRWX4GKAXE8Q', iid='B000A3XRSO', r_ui=4.0, est=3.6863636363636365, details={'actual_k': 0, 'was_impossible': False}),\n",
              " Prediction(uid='A1V9N8LBQR60JD', iid='B00006JQ06', r_ui=5.0, est=4.058850210315736, details={'was_impossible': True, 'reason': 'User and/or item is unknown.'}),\n",
              " Prediction(uid='A1D4SEIIPD2J41', iid='B00006HOL1', r_ui=5.0, est=4.058850210315736, details={'was_impossible': True, 'reason': 'User and/or item is unknown.'}),\n",
              " Prediction(uid='A29WTWII13FR24', iid='B000067RC5', r_ui=3.0, est=4.058850210315736, details={'was_impossible': True, 'reason': 'User and/or item is unknown.'}),\n",
              " Prediction(uid='A3JTUAEOWCMKIC', iid='B00004Z5CQ', r_ui=4.0, est=4.058850210315736, details={'was_impossible': True, 'reason': 'User and/or item is unknown.'}),\n",
              " Prediction(uid='A2F6TZSMOEHE7P', iid='B000AM6QH4', r_ui=4.0, est=4.058850210315736, details={'was_impossible': True, 'reason': 'User and/or item is unknown.'}),\n",
              " Prediction(uid='A21HNIZMFWNVB', iid='B000EN0K94', r_ui=3.0, est=4.058850210315736, details={'was_impossible': True, 'reason': 'User and/or item is unknown.'}),\n",
              " Prediction(uid='A1VO2YYQ7IVRR9', iid='B0001FTVEA', r_ui=5.0, est=4.058850210315736, details={'was_impossible': True, 'reason': 'User and/or item is unknown.'}),\n",
              " Prediction(uid='A2UC9NO2WIFWSV', iid='B00004SABB', r_ui=1.0, est=4.058850210315736, details={'was_impossible': True, 'reason': 'User and/or item is unknown.'}),\n",
              " Prediction(uid='A2ZLJQ4LM9AGNO', iid='B00004ZCJE', r_ui=5.0, est=4.058850210315736, details={'was_impossible': True, 'reason': 'User and/or item is unknown.'}),\n",
              " Prediction(uid='A2MAXHANV8EETT', iid='B00004SB92', r_ui=5.0, est=3.7700940037824004, details={'actual_k': 1, 'was_impossible': False}),\n",
              " Prediction(uid='A1E6YJH0YZYFU5', iid='B00007056H', r_ui=5.0, est=5, details={'actual_k': 1, 'was_impossible': False}),\n",
              " Prediction(uid='A19H98U51NOMVN', iid='B0007MXZB2', r_ui=5.0, est=4.058850210315736, details={'was_impossible': True, 'reason': 'User and/or item is unknown.'}),\n",
              " Prediction(uid='A31MX6M4GEN620', iid='B000234I5I', r_ui=5.0, est=4.058850210315736, details={'was_impossible': True, 'reason': 'User and/or item is unknown.'}),\n",
              " Prediction(uid='A1UFEJQDIRLUJC', iid='B000BKJZ9Q', r_ui=4.0, est=4.058850210315736, details={'was_impossible': True, 'reason': 'User and/or item is unknown.'}),\n",
              " Prediction(uid='A1MBOXNUTDBMF', iid='B0000D8IYC', r_ui=3.0, est=4.058850210315736, details={'was_impossible': True, 'reason': 'User and/or item is unknown.'}),\n",
              " Prediction(uid='A2FFJEBLW527IH', iid='B0002QYSA0', r_ui=3.0, est=4.058850210315736, details={'was_impossible': True, 'reason': 'User and/or item is unknown.'}),\n",
              " Prediction(uid='A15Y7GK3TN28X2', iid='B00007E7JU', r_ui=5.0, est=4.058850210315736, details={'was_impossible': True, 'reason': 'User and/or item is unknown.'}),\n",
              " Prediction(uid='AZ9WPGLE8NAP8', iid='B000038AB2', r_ui=5.0, est=4.058850210315736, details={'was_impossible': True, 'reason': 'User and/or item is unknown.'}),\n",
              " Prediction(uid='A2FMUHQLIFV272', iid='B0000AQR8F', r_ui=5.0, est=4.392156862745098, details={'actual_k': 0, 'was_impossible': False}),\n",
              " Prediction(uid='A2QFTRQDIVPX5U', iid='B0000BZOGJ', r_ui=5.0, est=4.058850210315736, details={'was_impossible': True, 'reason': 'User and/or item is unknown.'}),\n",
              " Prediction(uid='A508IHS5AAWWC', iid='B0002L5R78', r_ui=1.0, est=4.058850210315736, details={'was_impossible': True, 'reason': 'User and/or item is unknown.'}),\n",
              " Prediction(uid='ATDUC56VCS1LX', iid='B00081A2DQ', r_ui=5.0, est=3.5674931129476586, details={'actual_k': 0, 'was_impossible': False}),\n",
              " Prediction(uid='AUTV34S4DH3R3', iid='B00004Z6Q6', r_ui=4.0, est=4.058850210315736, details={'was_impossible': True, 'reason': 'User and/or item is unknown.'}),\n",
              " Prediction(uid='A1YAU4HNUIZK59', iid='B00065L5TE', r_ui=5.0, est=4.058850210315736, details={'was_impossible': True, 'reason': 'User and/or item is unknown.'}),\n",
              " Prediction(uid='AEED4PXAJO7OF', iid='B0002LEMWE', r_ui=5.0, est=4.058850210315736, details={'was_impossible': True, 'reason': 'User and/or item is unknown.'}),\n",
              " Prediction(uid='A2EUPCLARX6VS5', iid='B00004SB92', r_ui=5.0, est=4.058850210315736, details={'was_impossible': True, 'reason': 'User and/or item is unknown.'}),\n",
              " Prediction(uid='A17BTRHZOTVHIJ', iid='B0006U3A1U', r_ui=5.0, est=4.058850210315736, details={'was_impossible': True, 'reason': 'User and/or item is unknown.'}),\n",
              " Prediction(uid='A37FCSS2JQKEZ6', iid='B000BKJZ9Q', r_ui=5.0, est=4.058850210315736, details={'was_impossible': True, 'reason': 'User and/or item is unknown.'}),\n",
              " Prediction(uid='A21623VNZ5H1YE', iid='B000CSOXTO', r_ui=2.0, est=4.459016393442623, details={'actual_k': 0, 'was_impossible': False}),\n",
              " Prediction(uid='A1CJWWGXBDW55L', iid='B000BMZHX2', r_ui=5.0, est=4.058850210315736, details={'was_impossible': True, 'reason': 'User and/or item is unknown.'}),\n",
              " Prediction(uid='A3GD0R9PO8U7JN', iid='B000BV8604', r_ui=5.0, est=4.058850210315736, details={'was_impossible': True, 'reason': 'User and/or item is unknown.'}),\n",
              " Prediction(uid='A2CDZKRWAXKAT5', iid='B0000E1VRT', r_ui=5.0, est=4.058850210315736, details={'was_impossible': True, 'reason': 'User and/or item is unknown.'}),\n",
              " Prediction(uid='A24O4TRCN2B3LD', iid='B000EITTLE', r_ui=4.0, est=4.058850210315736, details={'was_impossible': True, 'reason': 'User and/or item is unknown.'}),\n",
              " Prediction(uid='A38T344R3PHW94', iid='B00004T8R2', r_ui=4.0, est=4.058850210315736, details={'was_impossible': True, 'reason': 'User and/or item is unknown.'}),\n",
              " Prediction(uid='A3M3W8AK43AHGV', iid='B0002SQ0A4', r_ui=3.0, est=4.058850210315736, details={'was_impossible': True, 'reason': 'User and/or item is unknown.'}),\n",
              " Prediction(uid='A3TWMISKLKZWGP', iid='B0002WPSBC', r_ui=5.0, est=4.058850210315736, details={'was_impossible': True, 'reason': 'User and/or item is unknown.'}),\n",
              " Prediction(uid='A2NET2SGSKJIGI', iid='B0001FV36E', r_ui=5.0, est=3.727626459143969, details={'actual_k': 0, 'was_impossible': False}),\n",
              " Prediction(uid='A208SLY42QOZPJ', iid='B0001MQURE', r_ui=1.0, est=1.8461538461538463, details={'actual_k': 0, 'was_impossible': False}),\n",
              " Prediction(uid='A2A66RHL66XGVY', iid='B0001GZ87I', r_ui=3.0, est=4.058850210315736, details={'was_impossible': True, 'reason': 'User and/or item is unknown.'}),\n",
              " Prediction(uid='AZIW7RZH3X3ON', iid='B000EPRG6W', r_ui=5.0, est=4.058850210315736, details={'was_impossible': True, 'reason': 'User and/or item is unknown.'}),\n",
              " Prediction(uid='AB5CSMLYMASE5', iid='B000AA2RCY', r_ui=3.0, est=4.058850210315736, details={'was_impossible': True, 'reason': 'User and/or item is unknown.'}),\n",
              " Prediction(uid='AOAM0OV8LXVZB', iid='B000BTL0OA', r_ui=4.0, est=4.058850210315736, details={'was_impossible': True, 'reason': 'User and/or item is unknown.'}),\n",
              " Prediction(uid='A2QQTH2JFXN8RU', iid='B000BY52NK', r_ui=5.0, est=4.058850210315736, details={'was_impossible': True, 'reason': 'User and/or item is unknown.'}),\n",
              " Prediction(uid='A361N07Z8S1ZAR', iid='B000636JD8', r_ui=5.0, est=4.058850210315736, details={'was_impossible': True, 'reason': 'User and/or item is unknown.'}),\n",
              " Prediction(uid='A2TRPNUYG4SDLD', iid='B0002BG6B4', r_ui=4.0, est=4.058850210315736, details={'was_impossible': True, 'reason': 'User and/or item is unknown.'}),\n",
              " Prediction(uid='A1859XCIWKCWIQ', iid='B0000510ZO', r_ui=5.0, est=4.058850210315736, details={'was_impossible': True, 'reason': 'User and/or item is unknown.'}),\n",
              " Prediction(uid='A2SNU2WZU3TMSY', iid='B00068YUPM', r_ui=2.0, est=4.058850210315736, details={'was_impossible': True, 'reason': 'User and/or item is unknown.'}),\n",
              " Prediction(uid='AYNKKQF8M7ZR8', iid='B000ES8B4K', r_ui=5.0, est=4.058850210315736, details={'was_impossible': True, 'reason': 'User and/or item is unknown.'}),\n",
              " Prediction(uid='A1QTICTBQKS6I6', iid='B0000DK5LW', r_ui=1.0, est=3.735042735042735, details={'actual_k': 0, 'was_impossible': False}),\n",
              " Prediction(uid='A321BCD7QL8WU', iid='B000089GN3', r_ui=5.0, est=4.058850210315736, details={'was_impossible': True, 'reason': 'User and/or item is unknown.'}),\n",
              " Prediction(uid='AO2YBYDEXBYYI', iid='B00008ZPJU', r_ui=5.0, est=4.058850210315736, details={'was_impossible': True, 'reason': 'User and/or item is unknown.'}),\n",
              " Prediction(uid='AHNGMMTUDLX5I', iid='B0002887Z0', r_ui=5.0, est=4.058850210315736, details={'was_impossible': True, 'reason': 'User and/or item is unknown.'}),\n",
              " Prediction(uid='A3RZ2XZC27FQ5O', iid='B00009R6JT', r_ui=5.0, est=4.616161616161616, details={'actual_k': 0, 'was_impossible': False}),\n",
              " Prediction(uid='A3SVBZMI0Q1S7S', iid='B000BQ7GW8', r_ui=5.0, est=4.058850210315736, details={'was_impossible': True, 'reason': 'User and/or item is unknown.'}),\n",
              " Prediction(uid='A3ELCFM0IGOGTZ', iid='B00005Y3OM', r_ui=4.0, est=4.058850210315736, details={'was_impossible': True, 'reason': 'User and/or item is unknown.'}),\n",
              " Prediction(uid='A184PAICEMKSZ1', iid='B000F8J0TE', r_ui=3.0, est=4.058850210315736, details={'was_impossible': True, 'reason': 'User and/or item is unknown.'}),\n",
              " Prediction(uid='AFTA90S4KEC5J', iid='B000EOOU6M', r_ui=4.0, est=4.058850210315736, details={'was_impossible': True, 'reason': 'User and/or item is unknown.'}),\n",
              " Prediction(uid='A16TJ887SK0T8Y', iid='B0000AKA90', r_ui=5.0, est=4.484375, details={'actual_k': 0, 'was_impossible': False}),\n",
              " Prediction(uid='A3EDJA8RJEVUQ1', iid='B00004WCID', r_ui=5.0, est=4.058850210315736, details={'was_impossible': True, 'reason': 'User and/or item is unknown.'}),\n",
              " Prediction(uid='A1SYRQNUV0R4MY', iid='B000BTL0OA', r_ui=1.0, est=4.058850210315736, details={'was_impossible': True, 'reason': 'User and/or item is unknown.'}),\n",
              " Prediction(uid='A349SKKZEQOG1Z', iid='B0002ZPUMG', r_ui=5.0, est=4.058850210315736, details={'was_impossible': True, 'reason': 'User and/or item is unknown.'}),\n",
              " Prediction(uid='A2DQYETO6V5702', iid='B000FBK3QK', r_ui=5.0, est=4.058850210315736, details={'was_impossible': True, 'reason': 'User and/or item is unknown.'}),\n",
              " Prediction(uid='A2T9PCXBQAZ5MM', iid='B000E8OVMQ', r_ui=1.0, est=4.058850210315736, details={'was_impossible': True, 'reason': 'User and/or item is unknown.'}),\n",
              " Prediction(uid='A1L0OOM4KJCLGW', iid='B00009R6TA', r_ui=4.0, est=4.058850210315736, details={'was_impossible': True, 'reason': 'User and/or item is unknown.'}),\n",
              " Prediction(uid='A32NLDL7UOBJP1', iid='B00028ONIA', r_ui=4.0, est=4.058850210315736, details={'was_impossible': True, 'reason': 'User and/or item is unknown.'}),\n",
              " Prediction(uid='ASNZ8FB5HTYKK', iid='B0001FTVEK', r_ui=5.0, est=4.058850210315736, details={'was_impossible': True, 'reason': 'User and/or item is unknown.'}),\n",
              " Prediction(uid='A3OV55MBCNPXAM', iid='B00007M1TZ', r_ui=5.0, est=4.058850210315736, details={'was_impossible': True, 'reason': 'User and/or item is unknown.'}),\n",
              " Prediction(uid='A2QT6I1I0S25GY', iid='B000F8FNSG', r_ui=5.0, est=3.456140350877193, details={'actual_k': 0, 'was_impossible': False}),\n",
              " Prediction(uid='A3HVORW1VE5HDW', iid='B0002L5R78', r_ui=5.0, est=4.058850210315736, details={'was_impossible': True, 'reason': 'User and/or item is unknown.'}),\n",
              " Prediction(uid='A2YROHGOXWA26G', iid='B0001MQSB2', r_ui=5.0, est=4.058850210315736, details={'was_impossible': True, 'reason': 'User and/or item is unknown.'}),\n",
              " Prediction(uid='A7GXT5V1VL5UT', iid='B0002ZPTBI', r_ui=5.0, est=4.647058823529412, details={'actual_k': 0, 'was_impossible': False}),\n",
              " Prediction(uid='A3F9710KIUVDGC', iid='B0001FTVDQ', r_ui=5.0, est=4.548485230343507, details={'actual_k': 1, 'was_impossible': False}),\n",
              " Prediction(uid='A34ARMYV8JARYA', iid='B000EIWCFE', r_ui=5.0, est=4.058850210315736, details={'was_impossible': True, 'reason': 'User and/or item is unknown.'}),\n",
              " Prediction(uid='A2S4HQARM169OA', iid='B0002Z82XA', r_ui=5.0, est=4.058850210315736, details={'was_impossible': True, 'reason': 'User and/or item is unknown.'}),\n",
              " Prediction(uid='A1EK5F4GJXYCKR', iid='B0002MQGKO', r_ui=3.0, est=4.058850210315736, details={'was_impossible': True, 'reason': 'User and/or item is unknown.'}),\n",
              " Prediction(uid='A2U4BW3G0342WY', iid='B0009PXEEU', r_ui=4.0, est=4.058850210315736, details={'was_impossible': True, 'reason': 'User and/or item is unknown.'}),\n",
              " Prediction(uid='A2RLXHECHV368K', iid='B000B8576S', r_ui=5.0, est=4.058850210315736, details={'was_impossible': True, 'reason': 'User and/or item is unknown.'}),\n",
              " Prediction(uid='A3E86SBPJSXPWA', iid='B0002TPFTA', r_ui=5.0, est=4.058850210315736, details={'was_impossible': True, 'reason': 'User and/or item is unknown.'}),\n",
              " Prediction(uid='A1BBF57STE97CI', iid='B000BWACX2', r_ui=4.0, est=4.058850210315736, details={'was_impossible': True, 'reason': 'User and/or item is unknown.'}),\n",
              " Prediction(uid='A2V5YM9DNTJSHJ', iid='B000058AKE', r_ui=5.0, est=4.058850210315736, details={'was_impossible': True, 'reason': 'User and/or item is unknown.'}),\n",
              " Prediction(uid='A2GI7ESZKJICES', iid='B00005TQ08', r_ui=3.0, est=4.469879518072289, details={'actual_k': 0, 'was_impossible': False}),\n",
              " Prediction(uid='A1DO9TLH3H608G', iid='B000CSWCQA', r_ui=5.0, est=4.058850210315736, details={'was_impossible': True, 'reason': 'User and/or item is unknown.'}),\n",
              " Prediction(uid='A1LKRS7V2XUPZG', iid='B0002AHT0M', r_ui=1.0, est=4.058850210315736, details={'was_impossible': True, 'reason': 'User and/or item is unknown.'}),\n",
              " Prediction(uid='A11SYSK21BDVDO', iid='B0009WU65I', r_ui=5.0, est=4.058850210315736, details={'was_impossible': True, 'reason': 'User and/or item is unknown.'}),\n",
              " Prediction(uid='A3EHJDIKPYPT7O', iid='B000067SG2', r_ui=5.0, est=4.058850210315736, details={'was_impossible': True, 'reason': 'User and/or item is unknown.'}),\n",
              " Prediction(uid='A2FJF0F85XGG48', iid='B00064V6RG', r_ui=5.0, est=4.058850210315736, details={'was_impossible': True, 'reason': 'User and/or item is unknown.'}),\n",
              " Prediction(uid='ADBHIPICHGAM8', iid='B000CQPWMS', r_ui=2.0, est=4.058850210315736, details={'was_impossible': True, 'reason': 'User and/or item is unknown.'}),\n",
              " Prediction(uid='A1T0ZYS4HYZGRZ', iid='B0002KQRB4', r_ui=4.0, est=4.058850210315736, details={'was_impossible': True, 'reason': 'User and/or item is unknown.'}),\n",
              " Prediction(uid='A1BF28RJKGN184', iid='B00001P4ZR', r_ui=2.0, est=4.058850210315736, details={'was_impossible': True, 'reason': 'User and/or item is unknown.'}),\n",
              " Prediction(uid='A39EYI0IZAVNNU', iid='B0002CZHN6', r_ui=5.0, est=4.058850210315736, details={'was_impossible': True, 'reason': 'User and/or item is unknown.'}),\n",
              " Prediction(uid='A1PW2KXLRVK80P', iid='B0007QN18U', r_ui=4.0, est=4.111675126903553, details={'actual_k': 0, 'was_impossible': False}),\n",
              " Prediction(uid='A1D07DARP9YBYC', iid='B0009X1U3O', r_ui=3.0, est=4.058850210315736, details={'was_impossible': True, 'reason': 'User and/or item is unknown.'}),\n",
              " Prediction(uid='A1XBV3XA28MD5A', iid='B00007E7C8', r_ui=4.0, est=4.058850210315736, details={'was_impossible': True, 'reason': 'User and/or item is unknown.'}),\n",
              " Prediction(uid='A2D7M6EG90MSIY', iid='B0007MXZB2', r_ui=5.0, est=4.058850210315736, details={'was_impossible': True, 'reason': 'User and/or item is unknown.'}),\n",
              " Prediction(uid='A3R7XPI91J1UT6', iid='B00006B9HK', r_ui=5.0, est=4.058850210315736, details={'was_impossible': True, 'reason': 'User and/or item is unknown.'}),\n",
              " Prediction(uid='A2CW1FRWI3N7IV', iid='B000B75RDW', r_ui=5.0, est=4.058850210315736, details={'was_impossible': True, 'reason': 'User and/or item is unknown.'}),\n",
              " Prediction(uid='A3MD9F0ETUGWRG', iid='B0006B3QY0', r_ui=5.0, est=4.058850210315736, details={'was_impossible': True, 'reason': 'User and/or item is unknown.'}),\n",
              " Prediction(uid='A1W2ZA80QL8CT2', iid='B000ETXOC8', r_ui=5.0, est=4.053913043478261, details={'actual_k': 0, 'was_impossible': False}),\n",
              " Prediction(uid='A3QAQSBDC4BTCW', iid='B000BKJZ9Q', r_ui=4.0, est=4.058850210315736, details={'was_impossible': True, 'reason': 'User and/or item is unknown.'}),\n",
              " ...]"
            ]
          },
          "metadata": {},
          "execution_count": 69
        }
      ]
    }
  ]
}